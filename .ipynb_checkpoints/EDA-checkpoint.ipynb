{
 "cells": [
  {
   "cell_type": "markdown",
   "metadata": {
    "colab_type": "text",
    "id": "view-in-github"
   },
   "source": [
    "<a href=\"https://colab.research.google.com/github/201843052/Learning-Journal/blob/main/EDA.ipynb\" target=\"_parent\"><img src=\"https://colab.research.google.com/assets/colab-badge.svg\" alt=\"Open In Colab\"/></a>"
   ]
  },
  {
   "cell_type": "markdown",
   "metadata": {
    "id": "cC4i1--lQVAA"
   },
   "source": [
    "**Does including topical news improves user's click rate?**"
   ]
  },
  {
   "cell_type": "code",
   "execution_count": 134,
   "metadata": {
    "id": "Cdk_c_VRmmnY"
   },
   "outputs": [],
   "source": [
    "import numpy as np\n",
    "import pandas as pd\n",
    "\n",
    "import gc\n",
    "\n",
    "import csv\n",
    "import requests\n",
    "from bs4 import BeautifulSoup\n",
    "\n",
    "from scipy.stats import norm\n",
    "import matplotlib.pyplot as plt\n",
    "import seaborn as sns\n",
    "plt.style.use('ggplot')"
   ]
  },
  {
   "cell_type": "code",
   "execution_count": 135,
   "metadata": {
    "id": "XcgmQoW-ddNz"
   },
   "outputs": [],
   "source": [
    "from sklearn.feature_extraction.text import CountVectorizer, TfidfTransformer\n",
    "from scipy import sparse\n",
    "\n",
    "import string"
   ]
  },
  {
   "cell_type": "code",
   "execution_count": 136,
   "metadata": {
    "id": "5n7uzCZK3Y9d"
   },
   "outputs": [],
   "source": [
    "import statsmodels.formula.api as smf"
   ]
  },
  {
   "cell_type": "code",
   "execution_count": 137,
   "metadata": {
    "colab": {
     "base_uri": "https://localhost:8080/"
    },
    "id": "4gpX3ewkpfna",
    "outputId": "bab569dc-a48f-4b25-a5c7-52058556b120"
   },
   "outputs": [
    {
     "name": "stdout",
     "output_type": "stream",
     "text": [
      "Mounted at /content/drive\n"
     ]
    }
   ],
   "source": [
    "from google.colab import drive\n",
    "drive.mount('/content/drive', force_remount=True)\n",
    "import os\n",
    "os.chdir(\"/content/drive/My Drive\")"
   ]
  },
  {
   "cell_type": "code",
   "execution_count": 138,
   "metadata": {
    "id": "gDkvjjM4R_7r"
   },
   "outputs": [],
   "source": [
    "def save_string_list_to_file(fileroute, string_list):\n",
    "    outfile = open(fileroute, \"w\")\n",
    "    for string_line in string_list:\n",
    "        outfile.write(string_line+\"\\n\")\n",
    "    outfile.close()\n",
    "def load_string_list_from_file(fileroute):\n",
    "    infile = open(fileroute, \"r\")\n",
    "    total_string = infile.read()\n",
    "    return total_string.split(\"\\n\")[:-1]"
   ]
  },
  {
   "cell_type": "code",
   "execution_count": 139,
   "metadata": {
    "id": "yivngsQwmllY"
   },
   "outputs": [],
   "source": [
    "filepath = \"/content/drive/My Drive/Citadel Datathon/Datathon Materials/\""
   ]
  },
  {
   "cell_type": "markdown",
   "metadata": {
    "id": "za1akLvapixv"
   },
   "source": [
    "# User Analytics Data Loading and Simple Analysis"
   ]
  },
  {
   "cell_type": "code",
   "execution_count": 140,
   "metadata": {
    "id": "HWrT-nHdpfeU"
   },
   "outputs": [],
   "source": [
    "filepath = \"/content/drive/My Drive/Citadel Datathon/Datathon Materials/\"\n",
    "filename = \"analytics_daily_users.csv\"\n",
    "analytics_user_df = pd.read_csv(filepath + filename)"
   ]
  },
  {
   "cell_type": "code",
   "execution_count": 141,
   "metadata": {
    "colab": {
     "base_uri": "https://localhost:8080/",
     "height": 0
    },
    "id": "OaeKkXSbpfVh",
    "outputId": "d611ea25-c63f-4721-bad9-6802585afc39"
   },
   "outputs": [
    {
     "data": {
      "text/html": [
       "<div>\n",
       "<style scoped>\n",
       "    .dataframe tbody tr th:only-of-type {\n",
       "        vertical-align: middle;\n",
       "    }\n",
       "\n",
       "    .dataframe tbody tr th {\n",
       "        vertical-align: top;\n",
       "    }\n",
       "\n",
       "    .dataframe thead th {\n",
       "        text-align: right;\n",
       "    }\n",
       "</style>\n",
       "<table border=\"1\" class=\"dataframe\">\n",
       "  <thead>\n",
       "    <tr style=\"text-align: right;\">\n",
       "      <th></th>\n",
       "      <th>date</th>\n",
       "      <th>users</th>\n",
       "      <th>new_users</th>\n",
       "      <th>sessions_per_user</th>\n",
       "      <th>sessions</th>\n",
       "      <th>session_duration</th>\n",
       "      <th>bounce_rate</th>\n",
       "      <th>pageviews</th>\n",
       "      <th>pages_per_session</th>\n",
       "    </tr>\n",
       "  </thead>\n",
       "  <tbody>\n",
       "    <tr>\n",
       "      <th>0</th>\n",
       "      <td>2013-01-01</td>\n",
       "      <td>67,283</td>\n",
       "      <td>17,706</td>\n",
       "      <td>1.05</td>\n",
       "      <td>68,825</td>\n",
       "      <td>0:01:46</td>\n",
       "      <td>80.00%</td>\n",
       "      <td>82,590</td>\n",
       "      <td>1.15</td>\n",
       "    </tr>\n",
       "    <tr>\n",
       "      <th>1</th>\n",
       "      <td>2013-01-02</td>\n",
       "      <td>123,942</td>\n",
       "      <td>53,118</td>\n",
       "      <td>1.03</td>\n",
       "      <td>NaN</td>\n",
       "      <td>0:01:25</td>\n",
       "      <td>72.22%</td>\n",
       "      <td>NaN</td>\n",
       "      <td>1.44</td>\n",
       "    </tr>\n",
       "    <tr>\n",
       "      <th>2</th>\n",
       "      <td>2013-01-03</td>\n",
       "      <td>194,766</td>\n",
       "      <td>88,530</td>\n",
       "      <td>1.13</td>\n",
       "      <td>NaN</td>\n",
       "      <td>0:01:05</td>\n",
       "      <td>77.42%</td>\n",
       "      <td>NaN</td>\n",
       "      <td>1.31</td>\n",
       "    </tr>\n",
       "    <tr>\n",
       "      <th>3</th>\n",
       "      <td>2013-01-04</td>\n",
       "      <td>237,261</td>\n",
       "      <td>123,942</td>\n",
       "      <td>1.09</td>\n",
       "      <td>NaN</td>\n",
       "      <td>0:02:09</td>\n",
       "      <td>87.67%</td>\n",
       "      <td>NaN</td>\n",
       "      <td>1.15</td>\n",
       "    </tr>\n",
       "    <tr>\n",
       "      <th>4</th>\n",
       "      <td>2013-01-05</td>\n",
       "      <td>134,566</td>\n",
       "      <td>60,200</td>\n",
       "      <td>1.13</td>\n",
       "      <td>NaN</td>\n",
       "      <td>0:01:35</td>\n",
       "      <td>76.74%</td>\n",
       "      <td>NaN</td>\n",
       "      <td>1.26</td>\n",
       "    </tr>\n",
       "  </tbody>\n",
       "</table>\n",
       "</div>"
      ],
      "text/plain": [
       "         date    users new_users  ...  bounce_rate pageviews pages_per_session\n",
       "0  2013-01-01   67,283    17,706  ...       80.00%    82,590              1.15\n",
       "1  2013-01-02  123,942    53,118  ...       72.22%       NaN              1.44\n",
       "2  2013-01-03  194,766    88,530  ...       77.42%       NaN              1.31\n",
       "3  2013-01-04  237,261   123,942  ...       87.67%       NaN              1.15\n",
       "4  2013-01-05  134,566    60,200  ...       76.74%       NaN              1.26\n",
       "\n",
       "[5 rows x 9 columns]"
      ]
     },
     "execution_count": 141,
     "metadata": {},
     "output_type": "execute_result"
    }
   ],
   "source": [
    "analytics_user_df.head()"
   ]
  },
  {
   "cell_type": "code",
   "execution_count": 142,
   "metadata": {
    "colab": {
     "base_uri": "https://localhost:8080/"
    },
    "id": "gr1abJng1b5l",
    "outputId": "fd4f905a-a981-446d-8eda-b8a25e4e5b42"
   },
   "outputs": [
    {
     "name": "stdout",
     "output_type": "stream",
     "text": [
      "<class 'pandas.core.frame.DataFrame'>\n",
      "RangeIndex: 850 entries, 0 to 849\n",
      "Data columns (total 9 columns):\n",
      " #   Column             Non-Null Count  Dtype  \n",
      "---  ------             --------------  -----  \n",
      " 0   date               850 non-null    object \n",
      " 1   users              850 non-null    object \n",
      " 2   new_users          850 non-null    object \n",
      " 3   sessions_per_user  850 non-null    float64\n",
      " 4   sessions           546 non-null    object \n",
      " 5   session_duration   850 non-null    object \n",
      " 6   bounce_rate        850 non-null    object \n",
      " 7   pageviews          546 non-null    object \n",
      " 8   pages_per_session  850 non-null    float64\n",
      "dtypes: float64(2), object(7)\n",
      "memory usage: 59.9+ KB\n"
     ]
    }
   ],
   "source": [
    "analytics_user_df.info()"
   ]
  },
  {
   "cell_type": "code",
   "execution_count": 143,
   "metadata": {
    "id": "ppuEnYkgrcIS"
   },
   "outputs": [],
   "source": [
    "analytics_user_df[\"date\"] = pd.to_datetime(analytics_user_df[\"date\"])\n",
    "analytics_user_df[\"users\"] = [int(x.replace(\",\",\"\")) for x in analytics_user_df[\"users\"]]\n",
    "analytics_user_df[\"new_users\"] = [int(x.replace(\",\",\"\")) for x in analytics_user_df[\"new_users\"]]\n",
    "# users[\"sessions\"] = [int(x.replace(\",\",\"\")) for x in users[\"sessions\"]]\n",
    "# users[\"pageviews\"] = [int(x.replace(\",\",\"\")) for x in users[\"pageviews\"]]\n",
    "analytics_user_df[\"session_duration\"] = pd.to_timedelta(analytics_user_df[\"session_duration\"])\n",
    "analytics_user_df[\"session_duration\"] = [x/pd.offsets.Minute(1) for x in analytics_user_df[\"session_duration\"]]\n",
    "analytics_user_df[\"bounce_rate\"] = [float(x[:-1]) for x in analytics_user_df[\"bounce_rate\"]]\n",
    "analytics_user_df[\"bounce_rate\"] = [x/100 for x in analytics_user_df[\"bounce_rate\"]]\n",
    "# users[\"sessions\"] = users[\"users\"]*users[\"sessions_per_user\"]"
   ]
  },
  {
   "cell_type": "code",
   "execution_count": 144,
   "metadata": {
    "colab": {
     "base_uri": "https://localhost:8080/",
     "height": 0
    },
    "id": "Hpto3sE91ehu",
    "outputId": "96825b21-d2fb-4894-ad34-7034f7d9cf73"
   },
   "outputs": [
    {
     "data": {
      "text/html": [
       "<div>\n",
       "<style scoped>\n",
       "    .dataframe tbody tr th:only-of-type {\n",
       "        vertical-align: middle;\n",
       "    }\n",
       "\n",
       "    .dataframe tbody tr th {\n",
       "        vertical-align: top;\n",
       "    }\n",
       "\n",
       "    .dataframe thead th {\n",
       "        text-align: right;\n",
       "    }\n",
       "</style>\n",
       "<table border=\"1\" class=\"dataframe\">\n",
       "  <thead>\n",
       "    <tr style=\"text-align: right;\">\n",
       "      <th></th>\n",
       "      <th>date</th>\n",
       "      <th>users</th>\n",
       "      <th>new_users</th>\n",
       "      <th>sessions_per_user</th>\n",
       "      <th>sessions</th>\n",
       "      <th>session_duration</th>\n",
       "      <th>bounce_rate</th>\n",
       "      <th>pageviews</th>\n",
       "      <th>pages_per_session</th>\n",
       "    </tr>\n",
       "  </thead>\n",
       "  <tbody>\n",
       "    <tr>\n",
       "      <th>0</th>\n",
       "      <td>2013-01-01</td>\n",
       "      <td>67283</td>\n",
       "      <td>17706</td>\n",
       "      <td>1.05</td>\n",
       "      <td>68,825</td>\n",
       "      <td>1.766667</td>\n",
       "      <td>0.8000</td>\n",
       "      <td>82,590</td>\n",
       "      <td>1.15</td>\n",
       "    </tr>\n",
       "    <tr>\n",
       "      <th>1</th>\n",
       "      <td>2013-01-02</td>\n",
       "      <td>123942</td>\n",
       "      <td>53118</td>\n",
       "      <td>1.03</td>\n",
       "      <td>NaN</td>\n",
       "      <td>1.416667</td>\n",
       "      <td>0.7222</td>\n",
       "      <td>NaN</td>\n",
       "      <td>1.44</td>\n",
       "    </tr>\n",
       "    <tr>\n",
       "      <th>2</th>\n",
       "      <td>2013-01-03</td>\n",
       "      <td>194766</td>\n",
       "      <td>88530</td>\n",
       "      <td>1.13</td>\n",
       "      <td>NaN</td>\n",
       "      <td>1.083333</td>\n",
       "      <td>0.7742</td>\n",
       "      <td>NaN</td>\n",
       "      <td>1.31</td>\n",
       "    </tr>\n",
       "    <tr>\n",
       "      <th>3</th>\n",
       "      <td>2013-01-04</td>\n",
       "      <td>237261</td>\n",
       "      <td>123942</td>\n",
       "      <td>1.09</td>\n",
       "      <td>NaN</td>\n",
       "      <td>2.150000</td>\n",
       "      <td>0.8767</td>\n",
       "      <td>NaN</td>\n",
       "      <td>1.15</td>\n",
       "    </tr>\n",
       "    <tr>\n",
       "      <th>4</th>\n",
       "      <td>2013-01-05</td>\n",
       "      <td>134566</td>\n",
       "      <td>60200</td>\n",
       "      <td>1.13</td>\n",
       "      <td>NaN</td>\n",
       "      <td>1.583333</td>\n",
       "      <td>0.7674</td>\n",
       "      <td>NaN</td>\n",
       "      <td>1.26</td>\n",
       "    </tr>\n",
       "  </tbody>\n",
       "</table>\n",
       "</div>"
      ],
      "text/plain": [
       "        date   users  new_users  ...  bounce_rate pageviews  pages_per_session\n",
       "0 2013-01-01   67283      17706  ...       0.8000    82,590               1.15\n",
       "1 2013-01-02  123942      53118  ...       0.7222       NaN               1.44\n",
       "2 2013-01-03  194766      88530  ...       0.7742       NaN               1.31\n",
       "3 2013-01-04  237261     123942  ...       0.8767       NaN               1.15\n",
       "4 2013-01-05  134566      60200  ...       0.7674       NaN               1.26\n",
       "\n",
       "[5 rows x 9 columns]"
      ]
     },
     "execution_count": 144,
     "metadata": {},
     "output_type": "execute_result"
    }
   ],
   "source": [
    "analytics_user_df.head()"
   ]
  },
  {
   "cell_type": "markdown",
   "metadata": {
    "id": "dPgFW5z0lrNQ"
   },
   "source": [
    "# Scrapping Keywords "
   ]
  },
  {
   "cell_type": "markdown",
   "metadata": {
    "id": "8HyQov43WdJC"
   },
   "source": [
    "We scrap related keywords from the web and use them as an external source of data. Such keywords can help us identify the relevance of each headline to all the topics."
   ]
  },
  {
   "cell_type": "code",
   "execution_count": 145,
   "metadata": {
    "colab": {
     "base_uri": "https://localhost:8080/"
    },
    "id": "5U6RT6FUlxDL",
    "outputId": "2c67f94f-750d-4a0d-a66c-0dc0cbc034eb"
   },
   "outputs": [
    {
     "name": "stdout",
     "output_type": "stream",
     "text": [
      "Attempt:  1\n",
      "https://relatedwords.io/political\n",
      "Outputing  political .csv\n",
      "https://relatedwords.io/business\n",
      "Outputing  business .csv\n",
      "https://relatedwords.io/science\n",
      "Outputing  science .csv\n",
      "https://relatedwords.io/technology\n",
      "Outputing  technology .csv\n",
      "https://relatedwords.io/entertainment\n",
      "Outputing  entertainment .csv\n",
      "https://relatedwords.io/lifestyle\n",
      "Outputing  lifestyle .csv\n",
      "https://relatedwords.io/health\n",
      "Outputing  health .csv\n",
      "https://relatedwords.io/multicultural\n",
      "Outputing  multicultural .csv\n",
      "https://relatedwords.io/sports\n",
      "Outputing  sports .csv\n",
      "https://relatedwords.io/education\n",
      "Outputing  education .csv\n",
      "https://relatedwords.io/crime\n",
      "Outputing  crime .csv\n",
      "https://relatedwords.io/relationship\n",
      "Outputing  relationship .csv\n",
      "https://relatedwords.io/marriage\n",
      "Outputing  marriage .csv\n",
      "https://relatedwords.io/banking\n",
      "Outputing  banking .csv\n",
      "https://relatedwords.io/gaming\n",
      "Outputing  gaming .csv\n",
      "https://relatedwords.io/migration\n",
      "Outputing  migration .csv\n",
      "https://relatedwords.io/tourism\n",
      "Outputing  tourism .csv\n",
      "https://relatedwords.io/medicine\n",
      "Outputing  medicine .csv\n",
      "https://relatedwords.io/insurance\n",
      "Outputing  insurance .csv\n",
      "https://relatedwords.io/career\n",
      "Outputing  career .csv\n",
      "https://relatedwords.io/economic\n",
      "Outputing  economic .csv\n",
      "https://relatedwords.io/finance\n",
      "Outputing  finance .csv\n",
      "https://relatedwords.io/information-technology\n",
      "Outputing  information-technology .csv\n",
      "https://relatedwords.io/music\n",
      "Attempt:  2\n",
      "https://relatedwords.io/political\n",
      "Outputing  political .csv\n",
      "https://relatedwords.io/business\n",
      "Outputing  business .csv\n",
      "https://relatedwords.io/science\n",
      "Outputing  science .csv\n",
      "https://relatedwords.io/technology\n",
      "Outputing  technology .csv\n",
      "https://relatedwords.io/entertainment\n",
      "Outputing  entertainment .csv\n",
      "https://relatedwords.io/lifestyle\n",
      "Outputing  lifestyle .csv\n",
      "https://relatedwords.io/health\n",
      "Outputing  health .csv\n",
      "https://relatedwords.io/multicultural\n",
      "Outputing  multicultural .csv\n",
      "https://relatedwords.io/sports\n",
      "Outputing  sports .csv\n",
      "https://relatedwords.io/education\n",
      "Outputing  education .csv\n",
      "https://relatedwords.io/crime\n",
      "Outputing  crime .csv\n",
      "https://relatedwords.io/relationship\n",
      "Outputing  relationship .csv\n",
      "https://relatedwords.io/marriage\n",
      "Outputing  marriage .csv\n",
      "https://relatedwords.io/banking\n",
      "Outputing  banking .csv\n",
      "https://relatedwords.io/gaming\n",
      "Outputing  gaming .csv\n",
      "https://relatedwords.io/migration\n",
      "Outputing  migration .csv\n",
      "https://relatedwords.io/tourism\n",
      "Outputing  tourism .csv\n",
      "https://relatedwords.io/medicine\n",
      "Outputing  medicine .csv\n",
      "https://relatedwords.io/insurance\n",
      "Outputing  insurance .csv\n",
      "https://relatedwords.io/career\n",
      "Outputing  career .csv\n",
      "https://relatedwords.io/economic\n",
      "Outputing  economic .csv\n",
      "https://relatedwords.io/finance\n",
      "Outputing  finance .csv\n",
      "https://relatedwords.io/information-technology\n",
      "Outputing  information-technology .csv\n",
      "https://relatedwords.io/music\n",
      "Attempt:  3\n",
      "https://relatedwords.io/political\n",
      "Outputing  political .csv\n",
      "https://relatedwords.io/business\n",
      "Outputing  business .csv\n",
      "https://relatedwords.io/science\n",
      "Outputing  science .csv\n",
      "https://relatedwords.io/technology\n",
      "Outputing  technology .csv\n",
      "https://relatedwords.io/entertainment\n",
      "Outputing  entertainment .csv\n",
      "https://relatedwords.io/lifestyle\n",
      "Outputing  lifestyle .csv\n",
      "https://relatedwords.io/health\n",
      "Outputing  health .csv\n",
      "https://relatedwords.io/multicultural\n",
      "Outputing  multicultural .csv\n",
      "https://relatedwords.io/sports\n",
      "Outputing  sports .csv\n",
      "https://relatedwords.io/education\n",
      "Outputing  education .csv\n",
      "https://relatedwords.io/crime\n",
      "Outputing  crime .csv\n",
      "https://relatedwords.io/relationship\n",
      "Outputing  relationship .csv\n",
      "https://relatedwords.io/marriage\n",
      "Outputing  marriage .csv\n",
      "https://relatedwords.io/banking\n",
      "Outputing  banking .csv\n",
      "https://relatedwords.io/gaming\n",
      "Outputing  gaming .csv\n",
      "https://relatedwords.io/migration\n",
      "Outputing  migration .csv\n",
      "https://relatedwords.io/tourism\n",
      "Outputing  tourism .csv\n",
      "https://relatedwords.io/medicine\n",
      "Outputing  medicine .csv\n",
      "https://relatedwords.io/insurance\n",
      "Outputing  insurance .csv\n",
      "https://relatedwords.io/career\n",
      "Outputing  career .csv\n",
      "https://relatedwords.io/economic\n",
      "Outputing  economic .csv\n",
      "https://relatedwords.io/finance\n",
      "Outputing  finance .csv\n",
      "https://relatedwords.io/information-technology\n",
      "Outputing  information-technology .csv\n",
      "https://relatedwords.io/music\n",
      "Attempt:  4\n",
      "https://relatedwords.io/political\n",
      "Outputing  political .csv\n",
      "https://relatedwords.io/business\n",
      "Outputing  business .csv\n",
      "https://relatedwords.io/science\n",
      "Outputing  science .csv\n",
      "https://relatedwords.io/technology\n",
      "Outputing  technology .csv\n",
      "https://relatedwords.io/entertainment\n",
      "Outputing  entertainment .csv\n",
      "https://relatedwords.io/lifestyle\n",
      "Outputing  lifestyle .csv\n",
      "https://relatedwords.io/health\n",
      "Outputing  health .csv\n",
      "https://relatedwords.io/multicultural\n",
      "Outputing  multicultural .csv\n",
      "https://relatedwords.io/sports\n",
      "Outputing  sports .csv\n",
      "https://relatedwords.io/education\n",
      "Outputing  education .csv\n",
      "https://relatedwords.io/crime\n",
      "Outputing  crime .csv\n",
      "https://relatedwords.io/relationship\n",
      "Outputing  relationship .csv\n",
      "https://relatedwords.io/marriage\n",
      "Outputing  marriage .csv\n",
      "https://relatedwords.io/banking\n",
      "Outputing  banking .csv\n",
      "https://relatedwords.io/gaming\n",
      "Outputing  gaming .csv\n",
      "https://relatedwords.io/migration\n",
      "Outputing  migration .csv\n",
      "https://relatedwords.io/tourism\n",
      "Outputing  tourism .csv\n",
      "https://relatedwords.io/medicine\n",
      "Outputing  medicine .csv\n",
      "https://relatedwords.io/insurance\n",
      "Outputing  insurance .csv\n",
      "https://relatedwords.io/career\n",
      "Outputing  career .csv\n",
      "https://relatedwords.io/economic\n",
      "Outputing  economic .csv\n",
      "https://relatedwords.io/finance\n",
      "Outputing  finance .csv\n",
      "https://relatedwords.io/information-technology\n",
      "Outputing  information-technology .csv\n",
      "https://relatedwords.io/music\n",
      "Attempt:  5\n",
      "https://relatedwords.io/political\n",
      "Outputing  political .csv\n",
      "https://relatedwords.io/business\n",
      "Outputing  business .csv\n",
      "https://relatedwords.io/science\n",
      "Outputing  science .csv\n",
      "https://relatedwords.io/technology\n",
      "Outputing  technology .csv\n",
      "https://relatedwords.io/entertainment\n",
      "Outputing  entertainment .csv\n",
      "https://relatedwords.io/lifestyle\n",
      "Outputing  lifestyle .csv\n",
      "https://relatedwords.io/health\n",
      "Outputing  health .csv\n",
      "https://relatedwords.io/multicultural\n",
      "Outputing  multicultural .csv\n",
      "https://relatedwords.io/sports\n",
      "Outputing  sports .csv\n",
      "https://relatedwords.io/education\n",
      "Outputing  education .csv\n",
      "https://relatedwords.io/crime\n",
      "Outputing  crime .csv\n",
      "https://relatedwords.io/relationship\n",
      "Outputing  relationship .csv\n",
      "https://relatedwords.io/marriage\n",
      "Outputing  marriage .csv\n",
      "https://relatedwords.io/banking\n",
      "Outputing  banking .csv\n",
      "https://relatedwords.io/gaming\n",
      "Outputing  gaming .csv\n",
      "https://relatedwords.io/migration\n",
      "Outputing  migration .csv\n",
      "https://relatedwords.io/tourism\n",
      "Outputing  tourism .csv\n",
      "https://relatedwords.io/medicine\n",
      "Outputing  medicine .csv\n",
      "https://relatedwords.io/insurance\n",
      "Outputing  insurance .csv\n",
      "https://relatedwords.io/career\n",
      "Outputing  career .csv\n",
      "https://relatedwords.io/economic\n",
      "Outputing  economic .csv\n",
      "https://relatedwords.io/finance\n",
      "Outputing  finance .csv\n",
      "https://relatedwords.io/information-technology\n",
      "Outputing  information-technology .csv\n",
      "https://relatedwords.io/music\n"
     ]
    }
   ],
   "source": [
    "dirs = 'Keyword Dictionary/'\n",
    "if not os.path.exists(filepath+dirs):\n",
    "    os.makedirs(filepath+dirs)\n",
    "\n",
    "main_url = \"https://relatedwords.io/\"\n",
    "topics = [\"political\",\"business\",\"science\",\"technology\",\"entertainment\",\n",
    "         \"lifestyle\",\"health\",\"multicultural\",\"sports\",\"education\",\n",
    "         \"crime\",\"relationship\",\"marriage\",\"banking\",\"gaming\",\"migration\",\"tourism\",\n",
    "         \"medicine\",\"insurance\",\"career\",\"economic\",\"finance\",\"information-technology\",\"music\",\"defence\"]\n",
    "missing = True\n",
    "max_atmp = 5\n",
    "atmp = 0\n",
    "while missing and atmp<max_atmp:\n",
    "    atmp += 1\n",
    "    print(\"Attempt: \",atmp)\n",
    "    missing = False\n",
    "    for cat in topics:\n",
    "      big_table=[]\n",
    "      url = main_url+cat\n",
    "      print(url)\n",
    "      res = requests.get(url)\n",
    "      soup = BeautifulSoup(res.content,'lxml')\n",
    "      table_data = soup.find_all(\"ul\")\n",
    "\n",
    "      for data in table_data:\n",
    "          big_table=data.text.split(\"\\n\\n\\n\")\n",
    "      del big_table[0::2]\n",
    "\n",
    "      if len(big_table) == 0:\n",
    "          missing = True\n",
    "          break\n",
    "          \n",
    "      with open(filepath+dirs+cat+\".csv\", 'w', newline='') as myfile:\n",
    "          wr = csv.writer(myfile, quoting=csv.QUOTE_ALL)\n",
    "          wr.writerow(big_table)\n",
    "      print(\"Outputing \",cat,\".csv\")"
   ]
  },
  {
   "cell_type": "code",
   "execution_count": 146,
   "metadata": {
    "colab": {
     "base_uri": "https://localhost:8080/"
    },
    "id": "8dq34el2eYHx",
    "outputId": "2fac1d74-b433-449b-be22-6d0c251e26c8"
   },
   "outputs": [
    {
     "name": "stdout",
     "output_type": "stream",
     "text": [
      "political   500\n",
      "business   486\n",
      "science   500\n",
      "technology   500\n",
      "entertainment   500\n",
      "lifestyle   390\n",
      "health   500\n",
      "multicultural   500\n",
      "sports   500\n",
      "education   500\n",
      "crime   500\n",
      "relationship   452\n",
      "marriage   500\n",
      "banking   500\n",
      "gaming   500\n",
      "migration   435\n",
      "tourism   500\n",
      "medicine   500\n",
      "insurance   500\n",
      "career   449\n",
      "economic   500\n",
      "finance   500\n",
      "information_technology   500\n",
      "music   500\n",
      "defence   452\n"
     ]
    }
   ],
   "source": [
    "# Concatenating the dictionaries into df\n",
    "topics[-3] = \"information_technology\"\n",
    "Topic = []\n",
    "Dictionary = []\n",
    "for idx,topc in enumerate(topics):\n",
    "    filename = \"%s.csv\" % topc\n",
    "    temp_dict = []\n",
    "    with open(filepath+dirs+filename,\"r\") as read_obj:\n",
    "        csv_readr = csv.reader(read_obj)\n",
    "        nrow = 0\n",
    "        for row in csv_readr:\n",
    "            temp_dict = row\n",
    "            nrow+=len(temp_dict)\n",
    "        print(topc,\" \",nrow)\n",
    "    Dictionary += temp_dict\n",
    "    Topic += [topc for i in range(len(temp_dict))]\n",
    "dict_df = pd.DataFrame(zip(Topic,Dictionary),columns=[\"Topic\",\"Dictionary\"])"
   ]
  },
  {
   "cell_type": "code",
   "execution_count": 147,
   "metadata": {
    "colab": {
     "base_uri": "https://localhost:8080/"
    },
    "id": "u5-QhA7xd_eh",
    "outputId": "43027c0f-75cd-4d97-fbe6-9a14102c9ff4"
   },
   "outputs": [
    {
     "data": {
      "text/plain": [
       "finance                   500\n",
       "marriage                  500\n",
       "science                   500\n",
       "entertainment             500\n",
       "tourism                   500\n",
       "sports                    500\n",
       "technology                500\n",
       "health                    500\n",
       "music                     500\n",
       "education                 500\n",
       "banking                   500\n",
       "economic                  500\n",
       "information_technology    500\n",
       "insurance                 500\n",
       "political                 500\n",
       "medicine                  500\n",
       "multicultural             500\n",
       "gaming                    500\n",
       "crime                     500\n",
       "business                  486\n",
       "relationship              452\n",
       "defence                   452\n",
       "career                    449\n",
       "migration                 435\n",
       "lifestyle                 390\n",
       "Name: Topic, dtype: int64"
      ]
     },
     "execution_count": 147,
     "metadata": {},
     "output_type": "execute_result"
    }
   ],
   "source": [
    "dict_df[\"Topic\"].value_counts()"
   ]
  },
  {
   "cell_type": "code",
   "execution_count": 148,
   "metadata": {
    "id": "xxOJ8TVinrXo"
   },
   "outputs": [],
   "source": [
    "# Calculate intersection matrix\n",
    "intersect = []\n",
    "for idx, topc in enumerate(topics):\n",
    "    temp_intersect = []\n",
    "    temp_x = dict_df.loc[dict_df[\"Topic\"]==topc][\"Dictionary\"]\n",
    "    for i in topics:\n",
    "        temp_y = dict_df.loc[dict_df[\"Topic\"]==i][\"Dictionary\"]\n",
    "        temp_intersect.append(len(list(set(temp_x) & set(temp_y)))/len(temp_x))\n",
    "    intersect.append(temp_intersect)\n",
    "intersect = np.matrix(intersect)\n",
    "intersect = pd.DataFrame(intersect,columns=topics,index=topics)"
   ]
  },
  {
   "cell_type": "code",
   "execution_count": 149,
   "metadata": {
    "colab": {
     "base_uri": "https://localhost:8080/",
     "height": 721
    },
    "id": "a89_nwr2nuD2",
    "outputId": "cc5bb9d4-8698-4d91-dd35-5121b9467f09"
   },
   "outputs": [
    {
     "data": {
      "text/plain": [
       "<matplotlib.axes._subplots.AxesSubplot at 0x7f5d317c0390>"
      ]
     },
     "execution_count": 149,
     "metadata": {},
     "output_type": "execute_result"
    },
    {
     "data": {
      "image/png": "[encoded data removed]",
      "text/plain": [
       "<Figure size 936x720 with 2 Axes>"
      ]
     },
     "metadata": {},
     "output_type": "display_data"
    }
   ],
   "source": [
    "plt.figure(figsize=(13, 10))\n",
    "sns.heatmap(intersect,annot=True,cmap = \"Blues\")"
   ]
  },
  {
   "cell_type": "markdown",
   "metadata": {
    "id": "ttaGbhhToN5e"
   },
   "source": [
    "The diagonals of this matrix refers to the number of keywords under each Topic, while the off-diagonals refers to the number of common words between two topics. We believe that the number of keywords is sufficient and similar which does not produce bias, and the intersection is small enough that no topic is too similar to other topics, preventing multicolinearity."
   ]
  },
  {
   "cell_type": "code",
   "execution_count": 150,
   "metadata": {
    "colab": {
     "base_uri": "https://localhost:8080/"
    },
    "id": "_EqAz6ToeOOI",
    "outputId": "f4d39538-ab9e-4ce4-dcd3-1d81682f9ac3"
   },
   "outputs": [
    {
     "data": {
      "text/plain": [
       "0.446"
      ]
     },
     "execution_count": 150,
     "metadata": {},
     "output_type": "execute_result"
    }
   ],
   "source": [
    "intersect.loc[\"finance\",\"banking\"]"
   ]
  },
  {
   "cell_type": "markdown",
   "metadata": {
    "id": "pKWGRNxPkWH0"
   },
   "source": [
    "Finance and Banking is too similar, removing one of them. Also removing any empty dictionaries."
   ]
  },
  {
   "cell_type": "code",
   "execution_count": 151,
   "metadata": {
    "colab": {
     "base_uri": "https://localhost:8080/"
    },
    "id": "B_NSLpeXkhl8",
    "outputId": "8dd0b834-5b1b-4f35-e957-f68fa983f79b"
   },
   "outputs": [
    {
     "name": "stdout",
     "output_type": "stream",
     "text": [
      "removed banking\n"
     ]
    }
   ],
   "source": [
    "if os.path.exists(filepath+dirs+\"banking.csv\"):\n",
    "    topics.remove(\"banking\")\n",
    "    print(\"removed banking\")"
   ]
  },
  {
   "cell_type": "code",
   "execution_count": 152,
   "metadata": {
    "id": "e9hJ2dTwCQ3e"
   },
   "outputs": [],
   "source": [
    "for topic in topics:\n",
    "  if topic not in list(set(dict_df[\"Topic\"])):\n",
    "    print(topic)"
   ]
  },
  {
   "cell_type": "markdown",
   "metadata": {
    "id": "9spcWEi3VXlU"
   },
   "source": [
    "# Feature Engineering"
   ]
  },
  {
   "cell_type": "code",
   "execution_count": 153,
   "metadata": {
    "id": "XSIuU6e-4K5F"
   },
   "outputs": [],
   "source": [
    "filepath = \"/content/drive/My Drive/Citadel Datathon/Datathon Materials/\"\n",
    "filename = \"packages.csv\"\n",
    "packages_df = pd.read_csv(filepath + filename)\n",
    "datatypes = {\"created_at\":str,\n",
    "        \"test_week\":str,\n",
    "        \"test_id\":str,\n",
    "        \"headline\":str,\n",
    "        \"image_id\":str,\n",
    "        \"excerpt\":str,\n",
    "        \"lede\":str,\n",
    "        \"slug\":str,\n",
    "        \"share_text\":str,\n",
    "        \"share_image\":str,\n",
    "        \"impressions\":float,\n",
    "        \"clicks\":float,\n",
    "        \"first_place\":bool,\n",
    "        \"winner\":bool,\n",
    "}\n",
    "packages_df = packages_df.astype(datatypes)"
   ]
  },
  {
   "cell_type": "code",
   "execution_count": 154,
   "metadata": {
    "colab": {
     "base_uri": "https://localhost:8080/",
     "height": 367
    },
    "id": "jMxvjDn04Q0H",
    "outputId": "a0741251-bf54-4e2f-a2e4-ec961b4036f1"
   },
   "outputs": [
    {
     "data": {
      "text/html": [
       "<div>\n",
       "<style scoped>\n",
       "    .dataframe tbody tr th:only-of-type {\n",
       "        vertical-align: middle;\n",
       "    }\n",
       "\n",
       "    .dataframe tbody tr th {\n",
       "        vertical-align: top;\n",
       "    }\n",
       "\n",
       "    .dataframe thead th {\n",
       "        text-align: right;\n",
       "    }\n",
       "</style>\n",
       "<table border=\"1\" class=\"dataframe\">\n",
       "  <thead>\n",
       "    <tr style=\"text-align: right;\">\n",
       "      <th></th>\n",
       "      <th>created_at</th>\n",
       "      <th>test_week</th>\n",
       "      <th>test_id</th>\n",
       "      <th>headline</th>\n",
       "      <th>image_id</th>\n",
       "      <th>excerpt</th>\n",
       "      <th>lede</th>\n",
       "      <th>slug</th>\n",
       "      <th>share_text</th>\n",
       "      <th>share_image</th>\n",
       "      <th>impressions</th>\n",
       "      <th>clicks</th>\n",
       "      <th>first_place</th>\n",
       "      <th>winner</th>\n",
       "    </tr>\n",
       "  </thead>\n",
       "  <tbody>\n",
       "    <tr>\n",
       "      <th>0</th>\n",
       "      <td>2014-11-20</td>\n",
       "      <td>2014-11-17</td>\n",
       "      <td>546d88fb84ad38b2ce000024</td>\n",
       "      <td>They're Being Called 'Walmart's Worst Nightmar...</td>\n",
       "      <td>546d6fa19ad54eec8d00002d</td>\n",
       "      <td>Things that matter. Pass 'em on.</td>\n",
       "      <td>&lt;p&gt;When I saw *why* people are calling them \"W...</td>\n",
       "      <td>theyre-being-called-walmarts-worst-nightmare-a...</td>\n",
       "      <td>Anyone who's ever felt guilty about shopping a...</td>\n",
       "      <td>nan</td>\n",
       "      <td>3052.0</td>\n",
       "      <td>150.0</td>\n",
       "      <td>True</td>\n",
       "      <td>True</td>\n",
       "    </tr>\n",
       "    <tr>\n",
       "      <th>1</th>\n",
       "      <td>2014-11-20</td>\n",
       "      <td>2014-11-17</td>\n",
       "      <td>546d88fb84ad38b2ce000024</td>\n",
       "      <td>They're Being Called 'Walmart's Worst Nightmar...</td>\n",
       "      <td>546d6fa19ad54eec8d00002d</td>\n",
       "      <td>Things that matter. Pass 'em on.</td>\n",
       "      <td>&lt;p&gt;When I saw *why* people are calling them \"W...</td>\n",
       "      <td>theyre-being-called-walmarts-worst-nightmare-a...</td>\n",
       "      <td>Walmart is getting schooled by another retaile...</td>\n",
       "      <td>nan</td>\n",
       "      <td>3033.0</td>\n",
       "      <td>122.0</td>\n",
       "      <td>False</td>\n",
       "      <td>False</td>\n",
       "    </tr>\n",
       "  </tbody>\n",
       "</table>\n",
       "</div>"
      ],
      "text/plain": [
       "   created_at   test_week  ... first_place winner\n",
       "0  2014-11-20  2014-11-17  ...        True   True\n",
       "1  2014-11-20  2014-11-17  ...       False  False\n",
       "\n",
       "[2 rows x 14 columns]"
      ]
     },
     "execution_count": 154,
     "metadata": {},
     "output_type": "execute_result"
    }
   ],
   "source": [
    "packages_df.head(2)"
   ]
  },
  {
   "cell_type": "markdown",
   "metadata": {
    "id": "PdzKb-uLRRNy"
   },
   "source": [
    "## Headline Cleaning"
   ]
  },
  {
   "cell_type": "code",
   "execution_count": 155,
   "metadata": {
    "colab": {
     "base_uri": "https://localhost:8080/"
    },
    "id": "IsKn2MADJqXV",
    "outputId": "24eaeefc-1af9-4579-afba-e4137ea76975"
   },
   "outputs": [
    {
     "data": {
      "text/plain": [
       "65363"
      ]
     },
     "execution_count": 155,
     "metadata": {},
     "output_type": "execute_result"
    }
   ],
   "source": [
    "unique_headlines = np.sort(packages_df[\"headline\"].unique())\n",
    "len(unique_headlines)"
   ]
  },
  {
   "cell_type": "code",
   "execution_count": 156,
   "metadata": {
    "colab": {
     "base_uri": "https://localhost:8080/"
    },
    "id": "k8Wd3qDATLG4",
    "outputId": "d0577409-6724-45c6-91bb-2f47dc8bcd3f"
   },
   "outputs": [
    {
     "data": {
      "text/plain": [
       "array(['\\nLike Downton Abbey? Well, There’s Another Drama About A Rich Family But PBS Is Scared To Show It\\n',\n",
       "       '\\nWell I Gotta Give It To Him, That\\'s A Pretty Good Reason To Stop \"Curing\" Gay People\\n',\n",
       "       \"\\nYet Another Anti-Gay Guy Saying Gays Should… Er, Well, That's Kinda Amazing.\\n\",\n",
       "       \" 'Be The Change You Want To See.' It's An Inspiring Quote, But In Action, It's Life Altering. \",\n",
       "       \" 'This Land Was Made For You And Me' — Or Was It?\",\n",
       "       ' A Bunch Of Middle Schoolers Actually Raised Their Hands And Volunteered For Something?!',\n",
       "       ' A Famous Actor Dies And Leaves Behind This Important Message I’d Never Seen Before Now',\n",
       "       ' A Greedy Old Power Company Decided To Pick A Fight With Some Young Organized 20-Somethings. Whoops.',\n",
       "       ' A Perspective On George Zimmerman That Every Person Should Hear',\n",
       "       ' A Strategy To Combat Crime That McGruff Wished He Thought Of'],\n",
       "      dtype=object)"
      ]
     },
     "execution_count": 156,
     "metadata": {},
     "output_type": "execute_result"
    }
   ],
   "source": [
    "unique_headlines[:10]"
   ]
  },
  {
   "cell_type": "markdown",
   "metadata": {
    "id": "KP4u5OBSVowC"
   },
   "source": [
    "First issue spotted: Sometimes there is change line \\n or space at the start or the end of the headlines. We checked the Upworthy website and found that the change line character \\n does not matter on the display of preview, and also the place of change line depends heavily on how much the page is zoomed in. So we decide to remove the change line characters!"
   ]
  },
  {
   "cell_type": "code",
   "execution_count": 157,
   "metadata": {
    "id": "vp0rSIgEV0sk"
   },
   "outputs": [],
   "source": [
    "packages_df[\"headline\"] = packages_df[\"headline\"].str.strip()\n",
    "packages_df[\"headline\"] = packages_df[\"headline\"].str.replace(r\"\\n\",\"\")\n",
    "packages_df[\"headline\"] = packages_df[\"headline\"].str.replace(r\"\\u200b\",\"\")"
   ]
  },
  {
   "cell_type": "code",
   "execution_count": 158,
   "metadata": {
    "colab": {
     "base_uri": "https://localhost:8080/"
    },
    "id": "a7ItDmMWg5ZF",
    "outputId": "076e7ca7-c4ab-4e04-85d1-9d1de1198576"
   },
   "outputs": [
    {
     "data": {
      "text/plain": [
       "array(['\\nLike Downton Abbey? Well, There’s Another Drama About A Rich Family But PBS Is Scared To Show It\\n',\n",
       "       '\\nWell I Gotta Give It To Him, That\\'s A Pretty Good Reason To Stop \"Curing\" Gay People\\n',\n",
       "       \"\\nYet Another Anti-Gay Guy Saying Gays Should… Er, Well, That's Kinda Amazing.\\n\",\n",
       "       ...,\n",
       "       \"“You Make A Dime, They Take A Dollar.” Here's The Actual Relationship Between Welfare And Poverty.\",\n",
       "       '“You’re Rude. I Save Lives.”',\n",
       "       '…And This Is Why We’ll Never See A Superheroine Movie'],\n",
       "      dtype=object)"
      ]
     },
     "execution_count": 158,
     "metadata": {},
     "output_type": "execute_result"
    }
   ],
   "source": [
    "unique_headlines"
   ]
  },
  {
   "cell_type": "code",
   "execution_count": 159,
   "metadata": {
    "colab": {
     "base_uri": "https://localhost:8080/"
    },
    "id": "lReibDMfWmqz",
    "outputId": "b8d15a2b-b6eb-4148-fc86-1d132be89d84"
   },
   "outputs": [
    {
     "data": {
      "text/plain": [
       "65037"
      ]
     },
     "execution_count": 159,
     "metadata": {},
     "output_type": "execute_result"
    }
   ],
   "source": [
    "unique_headlines = np.sort(packages_df[\"headline\"].unique())\n",
    "len(unique_headlines)"
   ]
  },
  {
   "cell_type": "code",
   "execution_count": 160,
   "metadata": {
    "colab": {
     "base_uri": "https://localhost:8080/"
    },
    "id": "lr1uERvzZeAj",
    "outputId": "d2a528c4-f056-40bd-98ce-53813d8fcc0e"
   },
   "outputs": [
    {
     "data": {
      "text/plain": [
       "array(['!', '\"', '#', '$', '&', \"'\", '(', '*', ',', '.', '/', '0', '1',\n",
       "       '2', '3', '4', '5', '6', '7', '8', '9', '<', 'A', 'B', 'C', 'D',\n",
       "       'E', 'F', 'G', 'H', 'I', 'J', 'K', 'L', 'M', 'N', 'O', 'P', 'Q',\n",
       "       'R', 'S', 'T', 'U', 'V', 'W', 'X', 'Y', 'Z', '[', '\\\\', 'a', 'c',\n",
       "       'f', 'h', 'i', 'n', 't', '{', '¿', '‘', '’', '“', '…'],\n",
       "      dtype=object)"
      ]
     },
     "execution_count": 160,
     "metadata": {},
     "output_type": "execute_result"
    }
   ],
   "source": [
    "np.sort(packages_df[\"headline\"].str[0].unique())"
   ]
  },
  {
   "cell_type": "markdown",
   "metadata": {
    "id": "v4klX1ONdiX9"
   },
   "source": [
    "Second issue spotted: there is chinese & english single & double quotes! We replace the chinese ones into the english ones."
   ]
  },
  {
   "cell_type": "code",
   "execution_count": 161,
   "metadata": {
    "id": "53jxbt-tnHi2"
   },
   "outputs": [],
   "source": [
    "packages_df[\"headline\"] = packages_df[\"headline\"].str.replace('“', '\"')\n",
    "packages_df[\"headline\"] = packages_df[\"headline\"].str.replace('”', '\"')\n",
    "packages_df[\"headline\"] = packages_df[\"headline\"].str.replace('‘', \"'\")\n",
    "packages_df[\"headline\"] = packages_df[\"headline\"].str.replace('’', \"'\")"
   ]
  },
  {
   "cell_type": "markdown",
   "metadata": {
    "id": "Om4VNmWuksEy"
   },
   "source": [
    "Third issue spotted: we found that most of the time headline's words start an uppercase letter, followed by many lowercase letters. But this is not always the case - there are cases when editors use all capital letter for emphasis, and there are also some cases when all the letters are lowercase. We decide to lowercase the first letter, since we think \"Minute\" should not be too different from \"minute\" for viewers."
   ]
  },
  {
   "cell_type": "code",
   "execution_count": 162,
   "metadata": {
    "id": "nkHhFqGEldlB"
   },
   "outputs": [],
   "source": [
    "alphabet_string = string.ascii_uppercase\n",
    "alphabet_list = list(alphabet_string)\n",
    "symbols = [\" \", \"'\", '\"', \"-\", \"/\", \".\"]\n",
    "for alphabet in alphabet_list:\n",
    "    packages_df[\"headline\"] = packages_df[\"headline\"].str[0].replace(alphabet, alphabet.lower()) + packages_df[\"headline\"].str[1:]\n",
    "for symbol in symbols:\n",
    "    space_alphabet_list = [symbol+alphabet for alphabet in alphabet_list]\n",
    "    for space_alphabet in space_alphabet_list:\n",
    "        packages_df[\"headline\"] = packages_df[\"headline\"].str.replace(space_alphabet, space_alphabet.lower())"
   ]
  },
  {
   "cell_type": "code",
   "execution_count": 163,
   "metadata": {
    "colab": {
     "base_uri": "https://localhost:8080/"
    },
    "id": "3eDDCZcglqq8",
    "outputId": "1557771b-62c0-4e1f-a7ab-19514080080e"
   },
   "outputs": [
    {
     "data": {
      "text/plain": [
       "0         they're being called 'walmart's worst nightmar...\n",
       "1         they're being called 'walmart's worst nightmar...\n",
       "2         they're being called 'walmart's worst nightmar...\n",
       "3               this is what sexism against men sounds like\n",
       "4               this is what sexism against men sounds like\n",
       "                                ...                        \n",
       "150812    an artist animates the ugly truth we should al...\n",
       "150813    they're being called 'walmart's worst nightmar...\n",
       "150814    they're being called 'walmart's worst nightmar...\n",
       "150815    they're being called 'walmart's worst nightmar...\n",
       "150816    they're being called 'walmart's worst nightmar...\n",
       "Name: headline, Length: 150817, dtype: object"
      ]
     },
     "execution_count": 163,
     "metadata": {},
     "output_type": "execute_result"
    }
   ],
   "source": [
    "packages_df[\"headline\"]"
   ]
  },
  {
   "cell_type": "markdown",
   "metadata": {
    "id": "7VFF7gEki7m2"
   },
   "source": [
    "Fourth issue: Na values. "
   ]
  },
  {
   "cell_type": "code",
   "execution_count": 164,
   "metadata": {
    "id": "uoQKsX3Vjo5t"
   },
   "outputs": [],
   "source": [
    "packages_df = packages_df[~(packages_df[\"headline\"].str.lower()==\"nan\")]"
   ]
  },
  {
   "cell_type": "markdown",
   "metadata": {
    "id": "KIAkBe9Ew_kS"
   },
   "source": [
    "Fifth issue: outliers. There are some terrible headlines with absurb wording. We choose to remove them."
   ]
  },
  {
   "cell_type": "code",
   "execution_count": 165,
   "metadata": {
    "colab": {
     "base_uri": "https://localhost:8080/"
    },
    "id": "opHBjE87bMZc",
    "outputId": "b7ef63b3-08cc-4037-d46e-5d17fa94ef0c"
   },
   "outputs": [
    {
     "data": {
      "text/plain": [
       "47997"
      ]
     },
     "execution_count": 165,
     "metadata": {},
     "output_type": "execute_result"
    }
   ],
   "source": [
    "unique_headlines = np.sort(packages_df[\"headline\"].unique())\n",
    "vectorizer = CountVectorizer(lowercase=False)\n",
    "X = vectorizer.fit_transform(unique_headlines)\n",
    "all_words = vectorizer.get_feature_names()\n",
    "all_words = np.array(all_words)\n",
    "X_array = X.toarray()\n",
    "sparseXarray = sparse.csr_matrix(X_array)\n",
    "del X_array\n",
    "gc.collect()"
   ]
  },
  {
   "cell_type": "code",
   "execution_count": 166,
   "metadata": {
    "id": "J6KBPQ9qbaSJ"
   },
   "outputs": [],
   "source": [
    "total_word_nums = np.array(sparseXarray.sum(axis=1)).ravel()"
   ]
  },
  {
   "cell_type": "code",
   "execution_count": 167,
   "metadata": {
    "colab": {
     "base_uri": "https://localhost:8080/"
    },
    "id": "k1t6o4n3vUVd",
    "outputId": "fdc9a21d-126d-47ab-c37b-b8bfb361bb12"
   },
   "outputs": [
    {
     "data": {
      "text/plain": [
       "array([\".e's a .i..h! ..w ..u.d a n.n-.i..h ...w .o m..h ..o.t t.e u.i..r.e?!? .u.n t.e .i..h!\",\n",
       "       '.o.b t....s?!', 'g.d .a..s... .i.g.e ...p.e?', 'w.f .e.s?!',\n",
       "       'w.f, .e ..w.d t...r e..s .h.t?!?!?'], dtype=object)"
      ]
     },
     "execution_count": 167,
     "metadata": {},
     "output_type": "execute_result"
    }
   ],
   "source": [
    "outlier_indices = np.where(total_word_nums==0)\n",
    "outlier_headlines = unique_headlines[outlier_indices]\n",
    "outlier_headlines"
   ]
  },
  {
   "cell_type": "code",
   "execution_count": 168,
   "metadata": {
    "id": "dh8Vm2IbxIhw"
   },
   "outputs": [],
   "source": [
    "packages_df = packages_df[~packages_df[\"headline\"].isin(outlier_headlines)]\n",
    "packages_df.reset_index(inplace=True)\n",
    "filename = \"packages_cleaned.csv\"\n",
    "packages_df.to_csv(filepath+filename)"
   ]
  },
  {
   "cell_type": "code",
   "execution_count": 169,
   "metadata": {
    "colab": {
     "base_uri": "https://localhost:8080/"
    },
    "id": "LFmZgXAcmVYk",
    "outputId": "5684b542-1563-47e1-8563-f76e256542b9"
   },
   "outputs": [
    {
     "data": {
      "text/plain": [
       "64945"
      ]
     },
     "execution_count": 169,
     "metadata": {},
     "output_type": "execute_result"
    }
   ],
   "source": [
    "unique_headlines = np.sort(packages_df[\"headline\"].unique())\n",
    "len(unique_headlines)"
   ]
  },
  {
   "cell_type": "code",
   "execution_count": 170,
   "metadata": {
    "id": "R-_bMZdes_Iu"
   },
   "outputs": [],
   "source": [
    "filename = \"unique_headlines.txt\"\n",
    "save_string_list_to_file(filepath+filename, unique_headlines)"
   ]
  },
  {
   "cell_type": "markdown",
   "metadata": {
    "id": "YD3AQlZckCKM"
   },
   "source": [
    "## Word Embeddings\n",
    "\n",
    "Now we create the bag of words and also the one-hot encodings!"
   ]
  },
  {
   "cell_type": "code",
   "execution_count": 171,
   "metadata": {
    "colab": {
     "base_uri": "https://localhost:8080/"
    },
    "id": "fsCsSURkeNVM",
    "outputId": "b668dfda-dbc7-4dd5-fd67-713a3281bfe7"
   },
   "outputs": [
    {
     "data": {
      "text/plain": [
       "20013"
      ]
     },
     "execution_count": 171,
     "metadata": {},
     "output_type": "execute_result"
    }
   ],
   "source": [
    "vectorizer = CountVectorizer(lowercase=False)\n",
    "X = vectorizer.fit_transform(unique_headlines)\n",
    "all_words = vectorizer.get_feature_names()\n",
    "all_words = np.array(all_words)\n",
    "filename = \"all_headline_words.txt\"\n",
    "save_string_list_to_file(filepath+filename, all_words)\n",
    "len(all_words)"
   ]
  },
  {
   "cell_type": "code",
   "execution_count": 172,
   "metadata": {
    "colab": {
     "base_uri": "https://localhost:8080/"
    },
    "id": "K_q9ejG_hBRW",
    "outputId": "0db67507-160a-4106-b02e-bf127923b4d1"
   },
   "outputs": [
    {
     "data": {
      "text/plain": [
       "array(['zzzzz', 'zzzzzzzz', 'ǝpısdn', 'ǝpᴉsdn', 'ˈbadˌass'], dtype='<U89')"
      ]
     },
     "execution_count": 172,
     "metadata": {},
     "output_type": "execute_result"
    }
   ],
   "source": [
    "all_words[-5:]"
   ]
  },
  {
   "cell_type": "code",
   "execution_count": 173,
   "metadata": {
    "colab": {
     "base_uri": "https://localhost:8080/"
    },
    "id": "C687zkIPqet8",
    "outputId": "517ad1cd-bc5e-495a-ccbc-05ec915402ff"
   },
   "outputs": [
    {
     "data": {
      "text/plain": [
       "100"
      ]
     },
     "execution_count": 173,
     "metadata": {},
     "output_type": "execute_result"
    }
   ],
   "source": [
    "X_array = X.toarray()\n",
    "sparseXarray = sparse.csr_matrix(X_array)\n",
    "filename = \"headline_one_hot_encodings.npz\"\n",
    "sparse.save_npz(filepath+filename, sparseXarray, compressed=True)\n",
    "del X_array\n",
    "gc.collect()"
   ]
  },
  {
   "cell_type": "markdown",
   "metadata": {
    "id": "5EPxkVLprB78"
   },
   "source": [
    "\n",
    "# Political Headlines"
   ]
  },
  {
   "cell_type": "code",
   "execution_count": 174,
   "metadata": {
    "id": "muS14UpJrQYB"
   },
   "outputs": [],
   "source": [
    "filepath = \"/content/drive/My Drive/Citadel Datathon/Datathon Materials/\"\n",
    "dir = \"Keyword Dictionary/\"\n",
    "filename = \"political.csv\"\n",
    "political_words_df = pd.read_csv(filepath + dir + filename)\n",
    "political_words = political_words_df.columns.to_numpy()\n",
    "useful_political_words = np.sort(np.array(list(set(all_words).intersection(set(political_words)))))"
   ]
  },
  {
   "cell_type": "code",
   "execution_count": 175,
   "metadata": {
    "colab": {
     "base_uri": "https://localhost:8080/"
    },
    "id": "ATLjoqfvshQa",
    "outputId": "81dcfc52-0278-484b-ab8a-20873ddac117"
   },
   "outputs": [
    {
     "data": {
      "text/plain": [
       "(500, 210)"
      ]
     },
     "execution_count": 175,
     "metadata": {},
     "output_type": "execute_result"
    }
   ],
   "source": [
    "len(political_words), len(useful_political_words)"
   ]
  },
  {
   "cell_type": "markdown",
   "metadata": {
    "id": "GCgj0smNiwId"
   },
   "source": [
    "There is no political words which are capitalised in the news headline."
   ]
  },
  {
   "cell_type": "code",
   "execution_count": 176,
   "metadata": {
    "colab": {
     "base_uri": "https://localhost:8080/"
    },
    "id": "kjkcNysBirkc",
    "outputId": "6dc790ad-e383-4ae2-d2b8-0b33ef17ee75"
   },
   "outputs": [
    {
     "data": {
      "text/plain": [
       "210"
      ]
     },
     "execution_count": 176,
     "metadata": {},
     "output_type": "execute_result"
    }
   ],
   "source": [
    "lower_political_words = np.sort(np.array(list(set(np.char.lower(all_words)).intersection(set(political_words)))))\n",
    "len(lower_political_words)"
   ]
  },
  {
   "cell_type": "markdown",
   "metadata": {
    "id": "829ALi2krJMb"
   },
   "source": [
    "Compute the number of keywords contained in each headline"
   ]
  },
  {
   "cell_type": "code",
   "execution_count": 177,
   "metadata": {
    "id": "5ZjZQ9tCuE-g"
   },
   "outputs": [],
   "source": [
    "useful_political_indices = np.where(useful_political_words.reshape(useful_political_words.size, 1) == all_words)[1]\n",
    "political_array = sparseXarray[:,useful_political_indices].toarray()\n",
    "political_keyword_nums = political_array.sum(axis=1)\n",
    "total_word_nums = np.array(sparseXarray.sum(axis=1)).ravel()"
   ]
  },
  {
   "cell_type": "code",
   "execution_count": 178,
   "metadata": {
    "id": "TtnTzVo1ya-8"
   },
   "outputs": [],
   "source": [
    "political_keyword_ratios = political_keyword_nums / total_word_nums\n",
    "political_keyword_ratio_df = pd.DataFrame(np.array([unique_headlines, political_keyword_ratios, political_keyword_nums, total_word_nums]).T, \n",
    "                                          columns=[\"headline\", \"political_keyword_ratio\", \"political_keyword_num\", \"total_word_num\"])\n",
    "datatypes = {\n",
    "    \"headline\" : str, \n",
    "    \"political_keyword_ratio\" : float, \n",
    "    \"political_keyword_num\" : int, \n",
    "    \"total_word_num\" : int\n",
    "}\n",
    "political_keyword_ratio_df.astype(datatypes)\n",
    "political_keyword_ratio_df.sort_values(by=\"political_keyword_ratio\", ascending=False, inplace=True)"
   ]
  },
  {
   "cell_type": "code",
   "execution_count": 179,
   "metadata": {
    "colab": {
     "base_uri": "https://localhost:8080/",
     "height": 357
    },
    "id": "0RpwUml2yqAu",
    "outputId": "ddccd856-8ada-4b2b-c7f2-c36971ddfde0"
   },
   "outputs": [
    {
     "data": {
      "text/html": [
       "<div>\n",
       "<style scoped>\n",
       "    .dataframe tbody tr th:only-of-type {\n",
       "        vertical-align: middle;\n",
       "    }\n",
       "\n",
       "    .dataframe tbody tr th {\n",
       "        vertical-align: top;\n",
       "    }\n",
       "\n",
       "    .dataframe thead th {\n",
       "        text-align: right;\n",
       "    }\n",
       "</style>\n",
       "<table border=\"1\" class=\"dataframe\">\n",
       "  <thead>\n",
       "    <tr style=\"text-align: right;\">\n",
       "      <th></th>\n",
       "      <th>headline</th>\n",
       "      <th>political_keyword_ratio</th>\n",
       "      <th>political_keyword_num</th>\n",
       "      <th>total_word_num</th>\n",
       "    </tr>\n",
       "  </thead>\n",
       "  <tbody>\n",
       "    <tr>\n",
       "      <th>61860</th>\n",
       "      <td>why democracy loves social media</td>\n",
       "      <td>0.6</td>\n",
       "      <td>3</td>\n",
       "      <td>5</td>\n",
       "    </tr>\n",
       "    <tr>\n",
       "      <th>13508</th>\n",
       "      <td>colbert debates capitalism with a citizen of a...</td>\n",
       "      <td>0.545455</td>\n",
       "      <td>6</td>\n",
       "      <td>11</td>\n",
       "    </tr>\n",
       "    <tr>\n",
       "      <th>29491</th>\n",
       "      <td>is this the n..w political campaign of the fut...</td>\n",
       "      <td>0.5</td>\n",
       "      <td>4</td>\n",
       "      <td>8</td>\n",
       "    </tr>\n",
       "    <tr>\n",
       "      <th>37014</th>\n",
       "      <td>politics kills</td>\n",
       "      <td>0.5</td>\n",
       "      <td>1</td>\n",
       "      <td>2</td>\n",
       "    </tr>\n",
       "    <tr>\n",
       "      <th>818</th>\n",
       "      <td>..w .u.e: everything's ..t political</td>\n",
       "      <td>0.5</td>\n",
       "      <td>1</td>\n",
       "      <td>2</td>\n",
       "    </tr>\n",
       "    <tr>\n",
       "      <th>30700</th>\n",
       "      <td>it's not a liberal issue or a conservative iss...</td>\n",
       "      <td>0.5</td>\n",
       "      <td>5</td>\n",
       "      <td>10</td>\n",
       "    </tr>\n",
       "    <tr>\n",
       "      <th>40593</th>\n",
       "      <td>smiling is part of a social contract. d.n't .r...</td>\n",
       "      <td>0.5</td>\n",
       "      <td>3</td>\n",
       "      <td>6</td>\n",
       "    </tr>\n",
       "    <tr>\n",
       "      <th>38679</th>\n",
       "      <td>seeing the governor's state of the state addre...</td>\n",
       "      <td>0.4375</td>\n",
       "      <td>7</td>\n",
       "      <td>16</td>\n",
       "    </tr>\n",
       "    <tr>\n",
       "      <th>52137</th>\n",
       "      <td>this company exposed a .s government agency's ...</td>\n",
       "      <td>0.428571</td>\n",
       "      <td>3</td>\n",
       "      <td>7</td>\n",
       "    </tr>\n",
       "    <tr>\n",
       "      <th>815</th>\n",
       "      <td>..v..l.d! the super-secret liberal agenda.</td>\n",
       "      <td>0.4</td>\n",
       "      <td>2</td>\n",
       "      <td>5</td>\n",
       "    </tr>\n",
       "  </tbody>\n",
       "</table>\n",
       "</div>"
      ],
      "text/plain": [
       "                                                headline  ... total_word_num\n",
       "61860                   why democracy loves social media  ...              5\n",
       "13508  colbert debates capitalism with a citizen of a...  ...             11\n",
       "29491  is this the n..w political campaign of the fut...  ...              8\n",
       "37014                                     politics kills  ...              2\n",
       "818                 ..w .u.e: everything's ..t political  ...              2\n",
       "30700  it's not a liberal issue or a conservative iss...  ...             10\n",
       "40593  smiling is part of a social contract. d.n't .r...  ...              6\n",
       "38679  seeing the governor's state of the state addre...  ...             16\n",
       "52137  this company exposed a .s government agency's ...  ...              7\n",
       "815           ..v..l.d! the super-secret liberal agenda.  ...              5\n",
       "\n",
       "[10 rows x 4 columns]"
      ]
     },
     "execution_count": 179,
     "metadata": {},
     "output_type": "execute_result"
    }
   ],
   "source": [
    "political_keyword_ratio_df.head(10)"
   ]
  },
  {
   "cell_type": "markdown",
   "metadata": {
    "id": "pbHpC0s304v4"
   },
   "source": [
    "Same as the click_rate above, we can compute confidence bounds for the keywords ratio."
   ]
  },
  {
   "cell_type": "code",
   "execution_count": 180,
   "metadata": {
    "id": "HvmMdD9W04i0"
   },
   "outputs": [],
   "source": [
    "sigma = (political_keyword_ratio_df[\"political_keyword_ratio\"]*(1-political_keyword_ratio_df[\"political_keyword_ratio\"]) / political_keyword_ratio_df[\"total_word_num\"])**(1/2)\n",
    "political_keyword_ratio_df[\"p_upper_bound\"] = political_keyword_ratio_df[\"political_keyword_ratio\"] + sigma\n",
    "political_keyword_ratio_df[\"p_lower_bound\"] = political_keyword_ratio_df[\"political_keyword_ratio\"] - sigma\n",
    "political_keyword_ratio_df.sort_values(by=\"p_lower_bound\", ascending=False, inplace=True)"
   ]
  },
  {
   "cell_type": "code",
   "execution_count": 181,
   "metadata": {
    "colab": {
     "base_uri": "https://localhost:8080/",
     "height": 357
    },
    "id": "jmzHdHzn3A1B",
    "outputId": "003b9367-e5e5-4022-f181-1f370640cdfd"
   },
   "outputs": [
    {
     "data": {
      "text/html": [
       "<div>\n",
       "<style scoped>\n",
       "    .dataframe tbody tr th:only-of-type {\n",
       "        vertical-align: middle;\n",
       "    }\n",
       "\n",
       "    .dataframe tbody tr th {\n",
       "        vertical-align: top;\n",
       "    }\n",
       "\n",
       "    .dataframe thead th {\n",
       "        text-align: right;\n",
       "    }\n",
       "</style>\n",
       "<table border=\"1\" class=\"dataframe\">\n",
       "  <thead>\n",
       "    <tr style=\"text-align: right;\">\n",
       "      <th></th>\n",
       "      <th>headline</th>\n",
       "      <th>political_keyword_ratio</th>\n",
       "      <th>political_keyword_num</th>\n",
       "      <th>total_word_num</th>\n",
       "      <th>p_upper_bound</th>\n",
       "      <th>p_lower_bound</th>\n",
       "    </tr>\n",
       "  </thead>\n",
       "  <tbody>\n",
       "    <tr>\n",
       "      <th>13508</th>\n",
       "      <td>colbert debates capitalism with a citizen of a...</td>\n",
       "      <td>0.545455</td>\n",
       "      <td>6</td>\n",
       "      <td>11</td>\n",
       "      <td>0.695586</td>\n",
       "      <td>0.395323</td>\n",
       "    </tr>\n",
       "    <tr>\n",
       "      <th>61860</th>\n",
       "      <td>why democracy loves social media</td>\n",
       "      <td>0.6</td>\n",
       "      <td>3</td>\n",
       "      <td>5</td>\n",
       "      <td>0.819089</td>\n",
       "      <td>0.380911</td>\n",
       "    </tr>\n",
       "    <tr>\n",
       "      <th>30700</th>\n",
       "      <td>it's not a liberal issue or a conservative iss...</td>\n",
       "      <td>0.5</td>\n",
       "      <td>5</td>\n",
       "      <td>10</td>\n",
       "      <td>0.658114</td>\n",
       "      <td>0.341886</td>\n",
       "    </tr>\n",
       "    <tr>\n",
       "      <th>29491</th>\n",
       "      <td>is this the n..w political campaign of the fut...</td>\n",
       "      <td>0.5</td>\n",
       "      <td>4</td>\n",
       "      <td>8</td>\n",
       "      <td>0.676777</td>\n",
       "      <td>0.323223</td>\n",
       "    </tr>\n",
       "    <tr>\n",
       "      <th>38679</th>\n",
       "      <td>seeing the governor's state of the state addre...</td>\n",
       "      <td>0.4375</td>\n",
       "      <td>7</td>\n",
       "      <td>16</td>\n",
       "      <td>0.56152</td>\n",
       "      <td>0.31348</td>\n",
       "    </tr>\n",
       "    <tr>\n",
       "      <th>40593</th>\n",
       "      <td>smiling is part of a social contract. d.n't .r...</td>\n",
       "      <td>0.5</td>\n",
       "      <td>3</td>\n",
       "      <td>6</td>\n",
       "      <td>0.704124</td>\n",
       "      <td>0.295876</td>\n",
       "    </tr>\n",
       "    <tr>\n",
       "      <th>57623</th>\n",
       "      <td>what a bunch of dead cows tells us about the c...</td>\n",
       "      <td>0.384615</td>\n",
       "      <td>5</td>\n",
       "      <td>13</td>\n",
       "      <td>0.519547</td>\n",
       "      <td>0.249683</td>\n",
       "    </tr>\n",
       "    <tr>\n",
       "      <th>33270</th>\n",
       "      <td>media company? we don't need no steeenking med...</td>\n",
       "      <td>0.4</td>\n",
       "      <td>4</td>\n",
       "      <td>10</td>\n",
       "      <td>0.554919</td>\n",
       "      <td>0.245081</td>\n",
       "    </tr>\n",
       "    <tr>\n",
       "      <th>40832</th>\n",
       "      <td>social media's massive role in shaping the mar...</td>\n",
       "      <td>0.4</td>\n",
       "      <td>4</td>\n",
       "      <td>10</td>\n",
       "      <td>0.554919</td>\n",
       "      <td>0.245081</td>\n",
       "    </tr>\n",
       "    <tr>\n",
       "      <th>52137</th>\n",
       "      <td>this company exposed a .s government agency's ...</td>\n",
       "      <td>0.428571</td>\n",
       "      <td>3</td>\n",
       "      <td>7</td>\n",
       "      <td>0.615615</td>\n",
       "      <td>0.241528</td>\n",
       "    </tr>\n",
       "  </tbody>\n",
       "</table>\n",
       "</div>"
      ],
      "text/plain": [
       "                                                headline  ... p_lower_bound\n",
       "13508  colbert debates capitalism with a citizen of a...  ...      0.395323\n",
       "61860                   why democracy loves social media  ...      0.380911\n",
       "30700  it's not a liberal issue or a conservative iss...  ...      0.341886\n",
       "29491  is this the n..w political campaign of the fut...  ...      0.323223\n",
       "38679  seeing the governor's state of the state addre...  ...       0.31348\n",
       "40593  smiling is part of a social contract. d.n't .r...  ...      0.295876\n",
       "57623  what a bunch of dead cows tells us about the c...  ...      0.249683\n",
       "33270  media company? we don't need no steeenking med...  ...      0.245081\n",
       "40832  social media's massive role in shaping the mar...  ...      0.245081\n",
       "52137  this company exposed a .s government agency's ...  ...      0.241528\n",
       "\n",
       "[10 rows x 6 columns]"
      ]
     },
     "execution_count": 181,
     "metadata": {},
     "output_type": "execute_result"
    }
   ],
   "source": [
    "political_keyword_ratio_df.head(10)"
   ]
  },
  {
   "cell_type": "code",
   "execution_count": 182,
   "metadata": {
    "colab": {
     "base_uri": "https://localhost:8080/"
    },
    "id": "irp62_m-26Q8",
    "outputId": "2526d610-1641-48a7-a72e-1632d44f503f"
   },
   "outputs": [
    {
     "data": {
      "text/plain": [
       "13508     True\n",
       "61860     True\n",
       "30700     True\n",
       "29491     True\n",
       "38679     True\n",
       "         ...  \n",
       "58906    False\n",
       "50233    False\n",
       "50234    False\n",
       "50235    False\n",
       "64944    False\n",
       "Name: political_keyword_ratio, Length: 64945, dtype: bool"
      ]
     },
     "execution_count": 182,
     "metadata": {},
     "output_type": "execute_result"
    }
   ],
   "source": [
    "political_keyword_ratio_df[\"political_keyword_ratio\"] > 0.15"
   ]
  },
  {
   "cell_type": "code",
   "execution_count": 183,
   "metadata": {
    "colab": {
     "base_uri": "https://localhost:8080/",
     "height": 437
    },
    "id": "1yBO6pbfkOVe",
    "outputId": "4eddd828-384e-4b4f-a2f4-d00b194f05f9"
   },
   "outputs": [
    {
     "data": {
      "image/png": "[encoded data removed]",
      "text/plain": [
       "<Figure size 864x504 with 1 Axes>"
      ]
     },
     "metadata": {},
     "output_type": "display_data"
    }
   ],
   "source": [
    "fig = plt.figure(figsize=(12,7))\n",
    "ax = plt.subplot(111)\n",
    "bins = np.linspace(0.04, 0.25, 20)\n",
    "political_keyword_ratio_df[\"political_keyword_ratio\"].hist(ax=ax, bins=bins, rwidth=0.8, color=\"blue\", alpha=0.7)\n",
    "plt.yticks(fontsize=20)\n",
    "plt.xticks(fontsize=20)\n",
    "plt.show()"
   ]
  },
  {
   "cell_type": "code",
   "execution_count": 184,
   "metadata": {
    "id": "QjAT4XCU3ot2"
   },
   "outputs": [],
   "source": [
    "political_keyword_ratio_df.sort_index(inplace=True)\n",
    "filename = \"political_keyword_ratio.csv\"\n",
    "political_keyword_ratio_df.to_csv(filepath+filename)"
   ]
  },
  {
   "cell_type": "markdown",
   "metadata": {
    "id": "pKHhl132Om_I"
   },
   "source": [
    "# Topical Headlines!"
   ]
  },
  {
   "cell_type": "markdown",
   "metadata": {
    "id": "qMmnJEqsWHOm"
   },
   "source": [
    "We automated the process to extract the keywords from each topic, match them up with the words we have in the headlines, and calculate the ratio of related keywords in each headline. Moreover, we compute the lower and upper confidence bounds for such ratio as well."
   ]
  },
  {
   "cell_type": "code",
   "execution_count": 185,
   "metadata": {
    "id": "3OdE6mT8PX7I"
   },
   "outputs": [],
   "source": [
    "filename = \"all_headline_words.txt\"\n",
    "all_words = load_string_list_from_file(filepath+filename)\n",
    "\n",
    "filename = \"headline_one_hot_encodings.npz\"\n",
    "sparseXarray = sparse.load_npz(filepath+filename)\n",
    "\n",
    "filename = \"unique_headlines.txt\"\n",
    "unique_headlines = load_string_list_from_file(filepath+filename)"
   ]
  },
  {
   "cell_type": "code",
   "execution_count": 186,
   "metadata": {
    "colab": {
     "base_uri": "https://localhost:8080/"
    },
    "id": "1jcDiysgO2sl",
    "outputId": "7c46da41-c5dd-4749-bcad-9e45bf7061c7"
   },
   "outputs": [
    {
     "name": "stdout",
     "output_type": "stream",
     "text": [
      "political 0\n",
      "business 0\n",
      "science 0\n",
      "technology -1\n",
      "entertainment 0\n",
      "lifestyle 0\n",
      "health 0\n",
      "multicultural 0\n",
      "sports 0\n",
      "education 0\n",
      "crime 0\n",
      "relationship 0\n",
      "marriage 0\n",
      "gaming 0\n",
      "migration 0\n",
      "tourism 0\n",
      "medicine 0\n",
      "insurance 0\n",
      "career 0\n",
      "economic 0\n",
      "finance 0\n",
      "information_technology 0\n",
      "music 0\n",
      "defence 0\n"
     ]
    }
   ],
   "source": [
    "filepath = \"/content/drive/My Drive/Citadel Datathon/Datathon Materials/\"\n",
    "dirs = 'Keyword Results'\n",
    "if not os.path.exists(filepath+dirs):\n",
    "    os.makedirs(filepath+dirs)\n",
    "\n",
    "\n",
    "for index, topic in enumerate(topics):\n",
    "    filename = \"Keyword Dictionary/%s.csv\" % topic\n",
    "    topical_words_df = pd.read_csv(filepath + filename)\n",
    "    topical_words = topical_words_df.columns.to_numpy()\n",
    "    useful_topical_words = np.sort(np.array(list(set(all_words).intersection(set(topical_words)))))\n",
    "    lower_topical_words = np.sort(np.array(list(set(np.char.lower(all_words)).intersection(set(topical_words)))))\n",
    "    print(topic, len(useful_topical_words) - len(lower_topical_words))\n",
    "    useful_topical_indices = np.where(useful_topical_words.reshape(useful_topical_words.size, 1) == all_words)[1]\n",
    "    topical_array = sparseXarray[:,useful_topical_indices].toarray()\n",
    "    topical_keyword_nums = topical_array.sum(axis=1)\n",
    "    total_word_nums = np.array(sparseXarray.sum(axis=1)).ravel()\n",
    "    topical_keyword_ratios = topical_keyword_nums / total_word_nums\n",
    "    topical_keyword_ratio_df = pd.DataFrame(np.array([unique_headlines, topical_keyword_ratios, topical_keyword_nums, total_word_nums]).T, \n",
    "                                            columns=[\"headline\", \"topical_keyword_ratio\", \"topical_keyword_num\", \"total_word_num\"])\n",
    "    datatypes = {\n",
    "        \"headline\" : str, \n",
    "        \"topical_keyword_ratio\" : float, \n",
    "        \"topical_keyword_num\" : int, \n",
    "        \"total_word_num\" : int\n",
    "    }\n",
    "    topical_keyword_ratio_df = topical_keyword_ratio_df.astype(datatypes)\n",
    "    topical_keyword_ratio_df.sort_values(by=\"topical_keyword_ratio\", ascending=False, inplace=True)\n",
    "    sigma = (topical_keyword_ratio_df[\"topical_keyword_ratio\"]*(1-topical_keyword_ratio_df[\"topical_keyword_ratio\"]) / topical_keyword_ratio_df[\"total_word_num\"])**(1/2)\n",
    "    topical_keyword_ratio_df[\"p_upper_bound\"] = topical_keyword_ratio_df[\"topical_keyword_ratio\"] + sigma\n",
    "    topical_keyword_ratio_df[\"p_lower_bound\"] = topical_keyword_ratio_df[\"topical_keyword_ratio\"] - sigma\n",
    "    topical_keyword_ratio_df.sort_values(by=\"p_lower_bound\", ascending=False, inplace=True)\n",
    "    topical_keyword_ratio_df.sort_index(inplace=True)\n",
    "    filename = \"Keyword Results/%s_keyword_ratio.csv\" % topic\n",
    "    topical_keyword_ratio_df.to_csv(filepath+filename)"
   ]
  },
  {
   "cell_type": "code",
   "execution_count": 187,
   "metadata": {
    "colab": {
     "base_uri": "https://localhost:8080/",
     "height": 0
    },
    "id": "PnS5pa9AudRM",
    "outputId": "c4697efb-f011-4f8c-cdfa-c49de1a12338"
   },
   "outputs": [
    {
     "data": {
      "text/html": [
       "<div>\n",
       "<style scoped>\n",
       "    .dataframe tbody tr th:only-of-type {\n",
       "        vertical-align: middle;\n",
       "    }\n",
       "\n",
       "    .dataframe tbody tr th {\n",
       "        vertical-align: top;\n",
       "    }\n",
       "\n",
       "    .dataframe thead th {\n",
       "        text-align: right;\n",
       "    }\n",
       "</style>\n",
       "<table border=\"1\" class=\"dataframe\">\n",
       "  <thead>\n",
       "    <tr style=\"text-align: right;\">\n",
       "      <th></th>\n",
       "      <th>headline</th>\n",
       "      <th>topical_keyword_ratio</th>\n",
       "      <th>topical_keyword_num</th>\n",
       "      <th>total_word_num</th>\n",
       "      <th>p_upper_bound</th>\n",
       "      <th>p_lower_bound</th>\n",
       "    </tr>\n",
       "  </thead>\n",
       "  <tbody>\n",
       "    <tr>\n",
       "      <th>0</th>\n",
       "      <td>!0 songs about an actor, rocker, baller, direc...</td>\n",
       "      <td>0.071429</td>\n",
       "      <td>1</td>\n",
       "      <td>14</td>\n",
       "      <td>0.140259</td>\n",
       "      <td>0.002598</td>\n",
       "    </tr>\n",
       "    <tr>\n",
       "      <th>1</th>\n",
       "      <td>\".t.a...t .o t.e ..u..e: if you have questions...</td>\n",
       "      <td>0.000000</td>\n",
       "      <td>0</td>\n",
       "      <td>9</td>\n",
       "      <td>0.000000</td>\n",
       "      <td>0.000000</td>\n",
       "    </tr>\n",
       "    <tr>\n",
       "      <th>2</th>\n",
       "      <td>\"a bunch of clueless white guys are probably n...</td>\n",
       "      <td>0.000000</td>\n",
       "      <td>0</td>\n",
       "      <td>18</td>\n",
       "      <td>0.000000</td>\n",
       "      <td>0.000000</td>\n",
       "    </tr>\n",
       "    <tr>\n",
       "      <th>3</th>\n",
       "      <td>\"a major american theater has cast a black wom...</td>\n",
       "      <td>0.066667</td>\n",
       "      <td>1</td>\n",
       "      <td>15</td>\n",
       "      <td>0.131073</td>\n",
       "      <td>0.002261</td>\n",
       "    </tr>\n",
       "    <tr>\n",
       "      <th>4</th>\n",
       "      <td>\"all media is educational media. the question ...</td>\n",
       "      <td>0.000000</td>\n",
       "      <td>0</td>\n",
       "      <td>13</td>\n",
       "      <td>0.000000</td>\n",
       "      <td>0.000000</td>\n",
       "    </tr>\n",
       "  </tbody>\n",
       "</table>\n",
       "</div>"
      ],
      "text/plain": [
       "                                            headline  ...  p_lower_bound\n",
       "0  !0 songs about an actor, rocker, baller, direc...  ...       0.002598\n",
       "1  \".t.a...t .o t.e ..u..e: if you have questions...  ...       0.000000\n",
       "2  \"a bunch of clueless white guys are probably n...  ...       0.000000\n",
       "3  \"a major american theater has cast a black wom...  ...       0.002261\n",
       "4  \"all media is educational media. the question ...  ...       0.000000\n",
       "\n",
       "[5 rows x 6 columns]"
      ]
     },
     "execution_count": 187,
     "metadata": {},
     "output_type": "execute_result"
    }
   ],
   "source": [
    "topical_keyword_ratio_df.head()"
   ]
  },
  {
   "cell_type": "code",
   "execution_count": 188,
   "metadata": {
    "colab": {
     "base_uri": "https://localhost:8080/"
    },
    "id": "6eqwqtAcXALv",
    "outputId": "2d1244b7-ba73-4443-9ed0-29b5e4f16c93"
   },
   "outputs": [
    {
     "data": {
      "text/plain": [
       "37418                                racist dude is racist\n",
       "44148    the difference between a nation .with* laws an...\n",
       "44165    the difference between state surveillance and ...\n",
       "56062    watch a p.a put into perspective what a differ...\n",
       "7428        a pill that makes racist people less racist?!?\n",
       "31743    kerry washington explains the difference betwe...\n",
       "13621    community-oriented policing .c.o.p.) is provin...\n",
       "44647    the gay experimental state of your straight state\n",
       "13622    community-oriented policing is proving success...\n",
       "29533            is your state better at math than others?\n",
       "27803    if you think of america as a christian/jewish/...\n",
       "6402     a lesbian is not a lesbian because she's not f...\n",
       "23657    how to know if an entire religious community h...\n",
       "43891    the cliche that makes horror films extra gross...\n",
       "38679    seeing the governor's state of the state addre...\n",
       "1220     .r.a.i.g: racist dude is racist. .k, actually ...\n",
       "47605    the untold story of the indigenous people of m...\n",
       "33139    massachusetts passed the tolerance test. how a...\n",
       "52472    this group of kids eat racial inequality for b...\n",
       "61286    which companies buy elections? a scary state-b...\n",
       "52473    this group of kids just ate racial inequality ...\n",
       "7132     a muslim, a jew, and an atheist debate religio...\n",
       "56123    watch a smart guy stump a religious bigot with...\n",
       "56122    watch a smart guy silence a religious bigot wi...\n",
       "34906    north carolina failed the tolerance test. how ...\n",
       "62498    why the next military power wont be a nation, ...\n",
       "317      'inequality is the root of social ills.' – pop...\n",
       "6259     a jew, a muslim, a christian, and all of jerus...\n",
       "17047    for sale: elections and who buys them, state b...\n",
       "13951    cultural shift or social revolution, whatevs. ...\n",
       "Name: headline, dtype: object"
      ]
     },
     "execution_count": 188,
     "metadata": {},
     "output_type": "execute_result"
    }
   ],
   "source": [
    "topic = \"multicultural\"\n",
    "filename = \"Keyword Results/%s_keyword_ratio.csv\" % topic\n",
    "topical_keyword_ratio_df = pd.read_csv(filepath+filename, index_col=0)\n",
    "topical_keyword_ratio_df.sort_values(by=\"p_lower_bound\", ascending=False).head(30)[\"headline\"]"
   ]
  },
  {
   "cell_type": "code",
   "execution_count": 189,
   "metadata": {
    "colab": {
     "base_uri": "https://localhost:8080/",
     "height": 0
    },
    "id": "wCwu6aH2VjWw",
    "outputId": "baab2aa3-ec14-498d-f211-c95f17224dc8"
   },
   "outputs": [
    {
     "data": {
      "image/png": "[encoded data removed]",
      "text/plain": [
       "<Figure size 864x504 with 1 Axes>"
      ]
     },
     "metadata": {},
     "output_type": "display_data"
    }
   ],
   "source": [
    "topic = \"science\"\n",
    "filename = \"Keyword Results/%s_keyword_ratio.csv\" % topic\n",
    "topical_keyword_ratio_df = pd.read_csv(filepath+filename, index_col=0)\n",
    "\n",
    "fig = plt.figure(figsize=(12,7))\n",
    "ax = plt.subplot(111)\n",
    "bins = np.linspace(0.04, 0.25, 20)\n",
    "topical_keyword_ratio_df[\"topical_keyword_ratio\"].hist(ax=ax, bins=bins, rwidth=0.8, color=\"blue\", alpha=0.7)\n",
    "plt.yticks(fontsize=20)\n",
    "plt.xticks(fontsize=20)\n",
    "plt.show()"
   ]
  },
  {
   "cell_type": "markdown",
   "metadata": {
    "id": "fOxPT4o6sDYl"
   },
   "source": [
    "# Combine topical indicators"
   ]
  },
  {
   "cell_type": "markdown",
   "metadata": {
    "id": "LQQ2wV9GTAGO"
   },
   "source": [
    "## Aggregate Packages with the same headline & image_id"
   ]
  },
  {
   "cell_type": "code",
   "execution_count": 190,
   "metadata": {
    "id": "IYc-uIwaqBzh"
   },
   "outputs": [],
   "source": [
    "filename = \"packages_cleaned.csv\"\n",
    "packages_df = pd.read_csv(filepath+filename, index_col=0)"
   ]
  },
  {
   "cell_type": "markdown",
   "metadata": {
    "id": "pIIZb_UfbnxT"
   },
   "source": [
    "Check packages with the same headline & image_id but with different test_id"
   ]
  },
  {
   "cell_type": "code",
   "execution_count": 191,
   "metadata": {
    "colab": {
     "base_uri": "https://localhost:8080/"
    },
    "id": "tDx-RL0iuQu_",
    "outputId": "b7be675f-d8b8-4fd2-8327-80c3ed133242"
   },
   "outputs": [
    {
     "data": {
      "text/plain": [
       "0.15748389028973325"
      ]
     },
     "execution_count": 191,
     "metadata": {},
     "output_type": "execute_result"
    }
   ],
   "source": [
    "aggregate_packages_df_1 = packages_df[[\"headline\", \"image_id\", \"test_id\"]]\n",
    "aggregate_packages_df_1 = aggregate_packages_df_1.groupby(by=[\"headline\", \"image_id\"]).min()\n",
    "aggregate_packages_df_2 = packages_df[[\"headline\", \"image_id\", \"test_id\"]]\n",
    "aggregate_packages_df_2 = aggregate_packages_df_2.groupby(by=[\"headline\", \"image_id\"]).max()\n",
    "aggregate_packages_df = aggregate_packages_df_1.merge(aggregate_packages_df_2, on=[\"headline\", \"image_id\"])\n",
    "len(aggregate_packages_df[aggregate_packages_df[\"test_id_x\"]!=aggregate_packages_df[\"test_id_y\"]]) / len(aggregate_packages_df)"
   ]
  },
  {
   "cell_type": "code",
   "execution_count": 192,
   "metadata": {
    "colab": {
     "base_uri": "https://localhost:8080/",
     "height": 0
    },
    "id": "YGc8Oj_2xR3L",
    "outputId": "24998fec-a12a-4bd2-ccc8-4581a0210ba6"
   },
   "outputs": [
    {
     "data": {
      "text/html": [
       "<div>\n",
       "<style scoped>\n",
       "    .dataframe tbody tr th:only-of-type {\n",
       "        vertical-align: middle;\n",
       "    }\n",
       "\n",
       "    .dataframe tbody tr th {\n",
       "        vertical-align: top;\n",
       "    }\n",
       "\n",
       "    .dataframe thead th {\n",
       "        text-align: right;\n",
       "    }\n",
       "</style>\n",
       "<table border=\"1\" class=\"dataframe\">\n",
       "  <thead>\n",
       "    <tr style=\"text-align: right;\">\n",
       "      <th></th>\n",
       "      <th></th>\n",
       "      <th>test_id_x</th>\n",
       "      <th>test_id_y</th>\n",
       "    </tr>\n",
       "    <tr>\n",
       "      <th>headline</th>\n",
       "      <th>image_id</th>\n",
       "      <th></th>\n",
       "      <th></th>\n",
       "    </tr>\n",
       "  </thead>\n",
       "  <tbody>\n",
       "    <tr>\n",
       "      <th>\"corporate inversion\" is tax-speak for u.s. companies turning their backs on us</th>\n",
       "      <th>53fe09b3fb861919b3000031</th>\n",
       "      <td>53fe0b14fb8619ed3e000038</td>\n",
       "      <td>53fe7eda5a76cda7b5000033</td>\n",
       "    </tr>\n",
       "    <tr>\n",
       "      <th>\"crap. i really hope america doesn't listen to this dude\" - the .s government. probably.</th>\n",
       "      <th>5332bcb91fae79f09f007193</th>\n",
       "      <td>51d47832b1d34609d9000786</td>\n",
       "      <td>51d49c418e9739cf99001d14</td>\n",
       "    </tr>\n",
       "  </tbody>\n",
       "</table>\n",
       "</div>"
      ],
      "text/plain": [
       "                                                                                            test_id_x                 test_id_y\n",
       "headline                                           image_id                                                                    \n",
       "\"corporate inversion\" is tax-speak for u.s. com... 53fe09b3fb861919b3000031  53fe0b14fb8619ed3e000038  53fe7eda5a76cda7b5000033\n",
       "\"crap. i really hope america doesn't listen to ... 5332bcb91fae79f09f007193  51d47832b1d34609d9000786  51d49c418e9739cf99001d14"
      ]
     },
     "execution_count": 192,
     "metadata": {},
     "output_type": "execute_result"
    }
   ],
   "source": [
    "aggregate_packages_df.loc[aggregate_packages_df[\"test_id_x\"]!=aggregate_packages_df[\"test_id_y\"]].head(2)"
   ]
  },
  {
   "cell_type": "markdown",
   "metadata": {
    "id": "-gV10OJET3LA"
   },
   "source": [
    "Create packages aggregating the same headline & image_id"
   ]
  },
  {
   "cell_type": "code",
   "execution_count": 193,
   "metadata": {
    "id": "bAec6FJNYsF1"
   },
   "outputs": [],
   "source": [
    "aggregate_packages_df_1 = packages_df[[\"headline\", \"image_id\", \"clicks\", \"impressions\"]]\n",
    "aggregate_packages_df_1 = aggregate_packages_df_1.groupby(by=[\"headline\", \"image_id\"]).sum()\n",
    "aggregate_packages_df_2 = packages_df[[\"headline\", \"image_id\", \"test_week\", \"created_at\"]]\n",
    "aggregate_packages_df_2 = aggregate_packages_df_2.groupby(by=[\"headline\", \"image_id\"]).first()\n",
    "aggregate_packages_df_3 = packages_df[[\"headline\", \"image_id\", \"winner\", \"first_place\"]]\n",
    "aggregate_packages_df_3 = aggregate_packages_df_3.groupby(by=[\"headline\", \"image_id\"]).mean()\n",
    "aggregate_packages_df = aggregate_packages_df_1.merge(aggregate_packages_df_2, on=[\"headline\", \"image_id\"])\n",
    "aggregate_packages_df = aggregate_packages_df.merge(aggregate_packages_df_3, left_index=True, right_on=[\"headline\", \"image_id\"])\n",
    "aggregate_packages_df[\"click_rate\"] = aggregate_packages_df[\"clicks\"] / aggregate_packages_df[\"impressions\"]"
   ]
  },
  {
   "cell_type": "markdown",
   "metadata": {
    "id": "KiAlS2ff5zBh"
   },
   "source": [
    "If we assume that each data follows independent Bernouli distribution, then this ratio (success rate) follows such distribution (approximated for when sample size is large)\n",
    "\n",
    "$$\n",
    "    \\hat{p} \\sim \\mathcal{N}\\left( \\mu=p, \\sigma=\\sqrt{\\frac{p(1-p)}{n}}\\right).\n",
    "$$\n",
    "\n",
    "Hence, we can use $\\mu + a\\sigma$ and $\\mu - a\\sigma$ as upper and lower confidence bounds, in which $a$ is chosen to be 1 such that we are looking at the 68% confidence levels."
   ]
  },
  {
   "cell_type": "code",
   "execution_count": 194,
   "metadata": {
    "id": "L03tjYde55pj"
   },
   "outputs": [],
   "source": [
    "sigma = (aggregate_packages_df[\"click_rate\"]*(1-aggregate_packages_df[\"click_rate\"]) / aggregate_packages_df[\"impressions\"])**(1/2)\n",
    "aggregate_packages_df[\"p_upper_bound\"] = aggregate_packages_df[\"click_rate\"] + sigma\n",
    "aggregate_packages_df[\"p_lower_bound\"] = aggregate_packages_df[\"click_rate\"] - sigma\n",
    "aggregate_packages_df.sort_values(by=\"p_lower_bound\", ascending=False, inplace=True)"
   ]
  },
  {
   "cell_type": "code",
   "execution_count": 195,
   "metadata": {
    "colab": {
     "base_uri": "https://localhost:8080/",
     "height": 0
    },
    "id": "2cU25gg45x_Y",
    "outputId": "429b6f37-e81e-4499-c1f7-c712e569be59"
   },
   "outputs": [
    {
     "data": {
      "text/html": [
       "<div>\n",
       "<style scoped>\n",
       "    .dataframe tbody tr th:only-of-type {\n",
       "        vertical-align: middle;\n",
       "    }\n",
       "\n",
       "    .dataframe tbody tr th {\n",
       "        vertical-align: top;\n",
       "    }\n",
       "\n",
       "    .dataframe thead th {\n",
       "        text-align: right;\n",
       "    }\n",
       "</style>\n",
       "<table border=\"1\" class=\"dataframe\">\n",
       "  <thead>\n",
       "    <tr style=\"text-align: right;\">\n",
       "      <th></th>\n",
       "      <th></th>\n",
       "      <th>p_lower_bound</th>\n",
       "    </tr>\n",
       "    <tr>\n",
       "      <th>headline</th>\n",
       "      <th>image_id</th>\n",
       "      <th></th>\n",
       "    </tr>\n",
       "  </thead>\n",
       "  <tbody>\n",
       "    <tr>\n",
       "      <th>her dad thinks being gay was her choice. the words she said back? couldn't have chosen them better.</th>\n",
       "      <th>5332bdce1fae79f09f008a1d</th>\n",
       "      <td>0.149400</td>\n",
       "    </tr>\n",
       "    <tr>\n",
       "      <th>a boy makes anti-muslim comments in front of an american soldier. the soldiers reply = priceless.</th>\n",
       "      <th>5332bfaa1fae79f09f00b824</th>\n",
       "      <td>0.142078</td>\n",
       "    </tr>\n",
       "    <tr>\n",
       "      <th>her dad thinks being gay was her choice. the words she said back? couldn't have chosen them better.</th>\n",
       "      <th>5332bdce1fae79f09f008a23</th>\n",
       "      <td>0.134521</td>\n",
       "    </tr>\n",
       "    <tr>\n",
       "      <th>dustin hoffman breaks down trying to explain something that every woman sadly already realizes</th>\n",
       "      <th>5332bcd71fae79f09f00746c</th>\n",
       "      <td>0.127650</td>\n",
       "    </tr>\n",
       "    <tr>\n",
       "      <th rowspan=\"2\" valign=\"top\">her dad thinks being gay was her choice. the words she said back? couldn't have chosen them better.</th>\n",
       "      <th>5332bdce1fae79f09f008a21</th>\n",
       "      <td>0.127488</td>\n",
       "    </tr>\n",
       "    <tr>\n",
       "      <th>5332bdce1fae79f09f008a1f</th>\n",
       "      <td>0.126721</td>\n",
       "    </tr>\n",
       "    <tr>\n",
       "      <th>a boy makes anti-muslim comments in front of an american soldier. the soldiers reply: priceless.</th>\n",
       "      <th>5332bfb41fae79f09f00b93a</th>\n",
       "      <td>0.125302</td>\n",
       "    </tr>\n",
       "    <tr>\n",
       "      <th>some rude geek boys called these geek girls 'fake.' they won't make that mistake again.</th>\n",
       "      <th>5332bdd51fae79f09f008ab0</th>\n",
       "      <td>0.124810</td>\n",
       "    </tr>\n",
       "    <tr>\n",
       "      <th>a boy makes racist comments in front of an american soldier. bad idea, dude.</th>\n",
       "      <th>5332bfaa1fae79f09f00b824</th>\n",
       "      <td>0.124234</td>\n",
       "    </tr>\n",
       "    <tr>\n",
       "      <th>lorde found a photoshopped photo of herself and decided to tweet the untouched real one next to it</th>\n",
       "      <th>5339b9148457c0af2c000016</th>\n",
       "      <td>0.123442</td>\n",
       "    </tr>\n",
       "  </tbody>\n",
       "</table>\n",
       "</div>"
      ],
      "text/plain": [
       "                                                                             p_lower_bound\n",
       "headline                                           image_id                               \n",
       "her dad thinks being gay was her choice. the wo... 5332bdce1fae79f09f008a1d       0.149400\n",
       "a boy makes anti-muslim comments in front of an... 5332bfaa1fae79f09f00b824       0.142078\n",
       "her dad thinks being gay was her choice. the wo... 5332bdce1fae79f09f008a23       0.134521\n",
       "dustin hoffman breaks down trying to explain so... 5332bcd71fae79f09f00746c       0.127650\n",
       "her dad thinks being gay was her choice. the wo... 5332bdce1fae79f09f008a21       0.127488\n",
       "                                                   5332bdce1fae79f09f008a1f       0.126721\n",
       "a boy makes anti-muslim comments in front of an... 5332bfb41fae79f09f00b93a       0.125302\n",
       "some rude geek boys called these geek girls 'fa... 5332bdd51fae79f09f008ab0       0.124810\n",
       "a boy makes racist comments in front of an amer... 5332bfaa1fae79f09f00b824       0.124234\n",
       "lorde found a photoshopped photo of herself and... 5339b9148457c0af2c000016       0.123442"
      ]
     },
     "execution_count": 195,
     "metadata": {},
     "output_type": "execute_result"
    }
   ],
   "source": [
    "aggregate_packages_df[[\"p_lower_bound\"]].head(10)"
   ]
  },
  {
   "cell_type": "markdown",
   "metadata": {
    "id": "jOPia8AbsWVd"
   },
   "source": [
    "## Combine all topical keyword ratios"
   ]
  },
  {
   "cell_type": "code",
   "execution_count": 196,
   "metadata": {
    "colab": {
     "base_uri": "https://localhost:8080/",
     "height": 0
    },
    "id": "ueUxC73zuJOh",
    "outputId": "680e7ece-bfe0-41ec-feb9-4eef96b2a0a0"
   },
   "outputs": [
    {
     "data": {
      "text/html": [
       "<div>\n",
       "<style scoped>\n",
       "    .dataframe tbody tr th:only-of-type {\n",
       "        vertical-align: middle;\n",
       "    }\n",
       "\n",
       "    .dataframe tbody tr th {\n",
       "        vertical-align: top;\n",
       "    }\n",
       "\n",
       "    .dataframe thead th {\n",
       "        text-align: right;\n",
       "    }\n",
       "</style>\n",
       "<table border=\"1\" class=\"dataframe\">\n",
       "  <thead>\n",
       "    <tr style=\"text-align: right;\">\n",
       "      <th></th>\n",
       "      <th>headline</th>\n",
       "      <th>total_word_num</th>\n",
       "      <th>political_keyword_ratio</th>\n",
       "      <th>business_keyword_ratio</th>\n",
       "      <th>science_keyword_ratio</th>\n",
       "      <th>technology_keyword_ratio</th>\n",
       "      <th>entertainment_keyword_ratio</th>\n",
       "      <th>lifestyle_keyword_ratio</th>\n",
       "      <th>health_keyword_ratio</th>\n",
       "      <th>multicultural_keyword_ratio</th>\n",
       "      <th>sports_keyword_ratio</th>\n",
       "      <th>education_keyword_ratio</th>\n",
       "      <th>crime_keyword_ratio</th>\n",
       "      <th>relationship_keyword_ratio</th>\n",
       "      <th>marriage_keyword_ratio</th>\n",
       "      <th>gaming_keyword_ratio</th>\n",
       "      <th>migration_keyword_ratio</th>\n",
       "      <th>tourism_keyword_ratio</th>\n",
       "      <th>medicine_keyword_ratio</th>\n",
       "      <th>insurance_keyword_ratio</th>\n",
       "      <th>career_keyword_ratio</th>\n",
       "      <th>economic_keyword_ratio</th>\n",
       "      <th>finance_keyword_ratio</th>\n",
       "      <th>information_technology_keyword_ratio</th>\n",
       "      <th>music_keyword_ratio</th>\n",
       "      <th>defence_keyword_ratio</th>\n",
       "    </tr>\n",
       "  </thead>\n",
       "  <tbody>\n",
       "    <tr>\n",
       "      <th>0</th>\n",
       "      <td>!0 songs about an actor, rocker, baller, direc...</td>\n",
       "      <td>14</td>\n",
       "      <td>0.0</td>\n",
       "      <td>0.0</td>\n",
       "      <td>0.0</td>\n",
       "      <td>0.0</td>\n",
       "      <td>0.0</td>\n",
       "      <td>0.0</td>\n",
       "      <td>0.0</td>\n",
       "      <td>0.000000</td>\n",
       "      <td>0.0</td>\n",
       "      <td>0.0</td>\n",
       "      <td>0.071429</td>\n",
       "      <td>0.0</td>\n",
       "      <td>0.000000</td>\n",
       "      <td>0.0</td>\n",
       "      <td>0.0</td>\n",
       "      <td>0.000000</td>\n",
       "      <td>0.0</td>\n",
       "      <td>0.000000</td>\n",
       "      <td>0.0</td>\n",
       "      <td>0.0</td>\n",
       "      <td>0.0</td>\n",
       "      <td>0.0</td>\n",
       "      <td>0.142857</td>\n",
       "      <td>0.071429</td>\n",
       "    </tr>\n",
       "    <tr>\n",
       "      <th>1</th>\n",
       "      <td>\".t.a...t .o t.e ..u..e: if you have questions...</td>\n",
       "      <td>9</td>\n",
       "      <td>0.0</td>\n",
       "      <td>0.0</td>\n",
       "      <td>0.0</td>\n",
       "      <td>0.0</td>\n",
       "      <td>0.0</td>\n",
       "      <td>0.0</td>\n",
       "      <td>0.0</td>\n",
       "      <td>0.111111</td>\n",
       "      <td>0.0</td>\n",
       "      <td>0.0</td>\n",
       "      <td>0.000000</td>\n",
       "      <td>0.0</td>\n",
       "      <td>0.222222</td>\n",
       "      <td>0.0</td>\n",
       "      <td>0.0</td>\n",
       "      <td>0.111111</td>\n",
       "      <td>0.0</td>\n",
       "      <td>0.111111</td>\n",
       "      <td>0.0</td>\n",
       "      <td>0.0</td>\n",
       "      <td>0.0</td>\n",
       "      <td>0.0</td>\n",
       "      <td>0.000000</td>\n",
       "      <td>0.000000</td>\n",
       "    </tr>\n",
       "  </tbody>\n",
       "</table>\n",
       "</div>"
      ],
      "text/plain": [
       "                                            headline  ...  defence_keyword_ratio\n",
       "0  !0 songs about an actor, rocker, baller, direc...  ...               0.071429\n",
       "1  \".t.a...t .o t.e ..u..e: if you have questions...  ...               0.000000\n",
       "\n",
       "[2 rows x 26 columns]"
      ]
     },
     "execution_count": 196,
     "metadata": {},
     "output_type": "execute_result"
    }
   ],
   "source": [
    "topical_keyword_ratio_dfs = []\n",
    "for index, topic in enumerate(topics):\n",
    "    filename = \"Keyword Results/%s_keyword_ratio.csv\" % topic\n",
    "    topical_keyword_ratio_df = pd.read_csv(filepath+filename, index_col=0)\n",
    "    topical_keyword_ratio_df.rename(mapper={\"topical_keyword_ratio\":\"%s_keyword_ratio\" % topic}, axis=1, inplace=True)\n",
    "    if index > 0:\n",
    "        topical_keyword_ratio_df = topical_keyword_ratio_df[[\"%s_keyword_ratio\" % topic]]\n",
    "    else:\n",
    "        topical_keyword_ratio_df = topical_keyword_ratio_df[[\"headline\", \"total_word_num\", \"%s_keyword_ratio\" % topic]]\n",
    "    topical_keyword_ratio_dfs.append(topical_keyword_ratio_df)\n",
    "total_topical_keyword_ratio_df = pd.concat(topical_keyword_ratio_dfs, axis=1)\n",
    "total_topical_keyword_ratio_df.head(2)"
   ]
  },
  {
   "cell_type": "code",
   "execution_count": 197,
   "metadata": {
    "id": "wj-oS3T8xVJm"
   },
   "outputs": [],
   "source": [
    "aggregate_packages_df.reset_index(inplace=True)\n",
    "critical_columns = [\"headline\", \"image_id\", \"click_rate\", \"impressions\", \"winner\", \"first_place\", \"test_week\", \"created_at\"]\n",
    "aggregate_packages_df = aggregate_packages_df[critical_columns]\n",
    "design_df = total_topical_keyword_ratio_df.merge(aggregate_packages_df, on=\"headline\")"
   ]
  },
  {
   "cell_type": "code",
   "execution_count": 198,
   "metadata": {
    "id": "8F7bW3EK1QtN"
   },
   "outputs": [],
   "source": [
    "filepath = \"/content/drive/My Drive/Citadel Datathon/Datathon Materials/\"\n",
    "filename = \"package_design_topics.csv\"\n",
    "design_df.to_csv(filepath+filename)"
   ]
  },
  {
   "cell_type": "code",
   "execution_count": 199,
   "metadata": {
    "id": "K6IcpbHs40bl"
   },
   "outputs": [],
   "source": [
    "filepath = \"/content/drive/My Drive/Citadel Datathon/Datathon Materials/\"\n",
    "filename = \"package_design_topics.csv\"\n",
    "design_df = pd.read_csv(filepath+filename, index_col=0)"
   ]
  },
  {
   "cell_type": "code",
   "execution_count": 200,
   "metadata": {
    "colab": {
     "base_uri": "https://localhost:8080/",
     "height": 0
    },
    "id": "U1YMXO4o1kQ8",
    "outputId": "278f3e8b-7674-40f3-b1c8-db92f810c79b"
   },
   "outputs": [
    {
     "data": {
      "text/html": [
       "<div>\n",
       "<style scoped>\n",
       "    .dataframe tbody tr th:only-of-type {\n",
       "        vertical-align: middle;\n",
       "    }\n",
       "\n",
       "    .dataframe tbody tr th {\n",
       "        vertical-align: top;\n",
       "    }\n",
       "\n",
       "    .dataframe thead th {\n",
       "        text-align: right;\n",
       "    }\n",
       "</style>\n",
       "<table border=\"1\" class=\"dataframe\">\n",
       "  <thead>\n",
       "    <tr style=\"text-align: right;\">\n",
       "      <th></th>\n",
       "      <th>click_rate</th>\n",
       "      <th>political_keyword_ratio</th>\n",
       "      <th>business_keyword_ratio</th>\n",
       "      <th>science_keyword_ratio</th>\n",
       "      <th>technology_keyword_ratio</th>\n",
       "      <th>entertainment_keyword_ratio</th>\n",
       "      <th>lifestyle_keyword_ratio</th>\n",
       "      <th>health_keyword_ratio</th>\n",
       "      <th>multicultural_keyword_ratio</th>\n",
       "      <th>sports_keyword_ratio</th>\n",
       "      <th>education_keyword_ratio</th>\n",
       "      <th>crime_keyword_ratio</th>\n",
       "      <th>relationship_keyword_ratio</th>\n",
       "      <th>marriage_keyword_ratio</th>\n",
       "      <th>gaming_keyword_ratio</th>\n",
       "      <th>migration_keyword_ratio</th>\n",
       "      <th>tourism_keyword_ratio</th>\n",
       "      <th>medicine_keyword_ratio</th>\n",
       "      <th>insurance_keyword_ratio</th>\n",
       "      <th>career_keyword_ratio</th>\n",
       "      <th>economic_keyword_ratio</th>\n",
       "      <th>finance_keyword_ratio</th>\n",
       "      <th>information_technology_keyword_ratio</th>\n",
       "      <th>music_keyword_ratio</th>\n",
       "      <th>defence_keyword_ratio</th>\n",
       "    </tr>\n",
       "  </thead>\n",
       "  <tbody>\n",
       "    <tr>\n",
       "      <th>click_rate</th>\n",
       "      <td>1.000000</td>\n",
       "      <td>-0.043494</td>\n",
       "      <td>-0.046113</td>\n",
       "      <td>-0.013368</td>\n",
       "      <td>-0.067388</td>\n",
       "      <td>0.010823</td>\n",
       "      <td>-0.026176</td>\n",
       "      <td>-0.067720</td>\n",
       "      <td>-0.009586</td>\n",
       "      <td>-0.014579</td>\n",
       "      <td>-0.041830</td>\n",
       "      <td>0.001745</td>\n",
       "      <td>0.034657</td>\n",
       "      <td>0.073547</td>\n",
       "      <td>-0.019890</td>\n",
       "      <td>-0.047521</td>\n",
       "      <td>-0.033969</td>\n",
       "      <td>-0.041321</td>\n",
       "      <td>-0.056707</td>\n",
       "      <td>0.023996</td>\n",
       "      <td>-0.060285</td>\n",
       "      <td>-0.058067</td>\n",
       "      <td>-0.035903</td>\n",
       "      <td>0.004790</td>\n",
       "      <td>0.010631</td>\n",
       "    </tr>\n",
       "    <tr>\n",
       "      <th>political_keyword_ratio</th>\n",
       "      <td>-0.043494</td>\n",
       "      <td>1.000000</td>\n",
       "      <td>-0.014921</td>\n",
       "      <td>0.072177</td>\n",
       "      <td>0.003815</td>\n",
       "      <td>0.021569</td>\n",
       "      <td>0.009692</td>\n",
       "      <td>0.058289</td>\n",
       "      <td>0.134351</td>\n",
       "      <td>-0.009701</td>\n",
       "      <td>0.113545</td>\n",
       "      <td>0.151892</td>\n",
       "      <td>0.114141</td>\n",
       "      <td>0.015737</td>\n",
       "      <td>-0.014589</td>\n",
       "      <td>0.048590</td>\n",
       "      <td>0.088951</td>\n",
       "      <td>0.011341</td>\n",
       "      <td>0.071131</td>\n",
       "      <td>-0.004699</td>\n",
       "      <td>0.220262</td>\n",
       "      <td>0.058977</td>\n",
       "      <td>-0.047209</td>\n",
       "      <td>-0.013211</td>\n",
       "      <td>0.103812</td>\n",
       "    </tr>\n",
       "    <tr>\n",
       "      <th>business_keyword_ratio</th>\n",
       "      <td>-0.046113</td>\n",
       "      <td>-0.014921</td>\n",
       "      <td>1.000000</td>\n",
       "      <td>-0.019160</td>\n",
       "      <td>0.018637</td>\n",
       "      <td>0.039794</td>\n",
       "      <td>0.097028</td>\n",
       "      <td>-0.004576</td>\n",
       "      <td>-0.024863</td>\n",
       "      <td>0.065933</td>\n",
       "      <td>0.018153</td>\n",
       "      <td>-0.041433</td>\n",
       "      <td>-0.084057</td>\n",
       "      <td>-0.065194</td>\n",
       "      <td>0.203902</td>\n",
       "      <td>0.016563</td>\n",
       "      <td>0.071618</td>\n",
       "      <td>-0.026637</td>\n",
       "      <td>0.088924</td>\n",
       "      <td>0.105088</td>\n",
       "      <td>0.011919</td>\n",
       "      <td>0.057522</td>\n",
       "      <td>-0.004028</td>\n",
       "      <td>-0.020445</td>\n",
       "      <td>-0.042969</td>\n",
       "    </tr>\n",
       "    <tr>\n",
       "      <th>science_keyword_ratio</th>\n",
       "      <td>-0.013368</td>\n",
       "      <td>0.072177</td>\n",
       "      <td>-0.019160</td>\n",
       "      <td>1.000000</td>\n",
       "      <td>0.191453</td>\n",
       "      <td>0.052629</td>\n",
       "      <td>0.055696</td>\n",
       "      <td>0.011838</td>\n",
       "      <td>0.160259</td>\n",
       "      <td>-0.018292</td>\n",
       "      <td>0.279350</td>\n",
       "      <td>0.041902</td>\n",
       "      <td>0.057197</td>\n",
       "      <td>-0.017940</td>\n",
       "      <td>-0.001842</td>\n",
       "      <td>-0.001806</td>\n",
       "      <td>0.001848</td>\n",
       "      <td>0.233612</td>\n",
       "      <td>0.008701</td>\n",
       "      <td>-0.022320</td>\n",
       "      <td>0.087229</td>\n",
       "      <td>0.013454</td>\n",
       "      <td>0.085178</td>\n",
       "      <td>0.116391</td>\n",
       "      <td>-0.004077</td>\n",
       "    </tr>\n",
       "    <tr>\n",
       "      <th>technology_keyword_ratio</th>\n",
       "      <td>-0.067388</td>\n",
       "      <td>0.003815</td>\n",
       "      <td>0.018637</td>\n",
       "      <td>0.191453</td>\n",
       "      <td>1.000000</td>\n",
       "      <td>0.056147</td>\n",
       "      <td>0.045826</td>\n",
       "      <td>0.014404</td>\n",
       "      <td>0.006733</td>\n",
       "      <td>0.041037</td>\n",
       "      <td>0.065437</td>\n",
       "      <td>-0.021715</td>\n",
       "      <td>-0.030691</td>\n",
       "      <td>-0.077589</td>\n",
       "      <td>0.006005</td>\n",
       "      <td>0.012996</td>\n",
       "      <td>0.081709</td>\n",
       "      <td>0.081066</td>\n",
       "      <td>0.048373</td>\n",
       "      <td>-0.032509</td>\n",
       "      <td>0.091896</td>\n",
       "      <td>0.037216</td>\n",
       "      <td>0.715668</td>\n",
       "      <td>0.060096</td>\n",
       "      <td>-0.025504</td>\n",
       "    </tr>\n",
       "    <tr>\n",
       "      <th>entertainment_keyword_ratio</th>\n",
       "      <td>0.010823</td>\n",
       "      <td>0.021569</td>\n",
       "      <td>0.039794</td>\n",
       "      <td>0.052629</td>\n",
       "      <td>0.056147</td>\n",
       "      <td>1.000000</td>\n",
       "      <td>0.135611</td>\n",
       "      <td>-0.013013</td>\n",
       "      <td>0.008495</td>\n",
       "      <td>0.121185</td>\n",
       "      <td>0.032782</td>\n",
       "      <td>0.004369</td>\n",
       "      <td>-0.015938</td>\n",
       "      <td>-0.055657</td>\n",
       "      <td>0.089051</td>\n",
       "      <td>-0.021190</td>\n",
       "      <td>0.052364</td>\n",
       "      <td>0.013770</td>\n",
       "      <td>0.021868</td>\n",
       "      <td>0.036373</td>\n",
       "      <td>0.063395</td>\n",
       "      <td>0.021846</td>\n",
       "      <td>0.073045</td>\n",
       "      <td>0.326425</td>\n",
       "      <td>-0.003530</td>\n",
       "    </tr>\n",
       "    <tr>\n",
       "      <th>lifestyle_keyword_ratio</th>\n",
       "      <td>-0.026176</td>\n",
       "      <td>0.009692</td>\n",
       "      <td>0.097028</td>\n",
       "      <td>0.055696</td>\n",
       "      <td>0.045826</td>\n",
       "      <td>0.135611</td>\n",
       "      <td>1.000000</td>\n",
       "      <td>0.046364</td>\n",
       "      <td>0.044944</td>\n",
       "      <td>0.022099</td>\n",
       "      <td>0.194102</td>\n",
       "      <td>0.074025</td>\n",
       "      <td>0.131505</td>\n",
       "      <td>0.077725</td>\n",
       "      <td>-0.015156</td>\n",
       "      <td>-0.002181</td>\n",
       "      <td>0.067048</td>\n",
       "      <td>0.053562</td>\n",
       "      <td>0.068850</td>\n",
       "      <td>0.184372</td>\n",
       "      <td>0.076095</td>\n",
       "      <td>0.049748</td>\n",
       "      <td>0.033774</td>\n",
       "      <td>0.028535</td>\n",
       "      <td>-0.007640</td>\n",
       "    </tr>\n",
       "    <tr>\n",
       "      <th>health_keyword_ratio</th>\n",
       "      <td>-0.067720</td>\n",
       "      <td>0.058289</td>\n",
       "      <td>-0.004576</td>\n",
       "      <td>0.011838</td>\n",
       "      <td>0.014404</td>\n",
       "      <td>-0.013013</td>\n",
       "      <td>0.046364</td>\n",
       "      <td>1.000000</td>\n",
       "      <td>0.004782</td>\n",
       "      <td>0.346681</td>\n",
       "      <td>0.319346</td>\n",
       "      <td>0.075248</td>\n",
       "      <td>-0.017493</td>\n",
       "      <td>-0.020703</td>\n",
       "      <td>-0.025420</td>\n",
       "      <td>0.042584</td>\n",
       "      <td>0.220883</td>\n",
       "      <td>0.255784</td>\n",
       "      <td>0.156625</td>\n",
       "      <td>-0.039776</td>\n",
       "      <td>0.116444</td>\n",
       "      <td>0.110056</td>\n",
       "      <td>0.003186</td>\n",
       "      <td>-0.027778</td>\n",
       "      <td>0.048546</td>\n",
       "    </tr>\n",
       "    <tr>\n",
       "      <th>multicultural_keyword_ratio</th>\n",
       "      <td>-0.009586</td>\n",
       "      <td>0.134351</td>\n",
       "      <td>-0.024863</td>\n",
       "      <td>0.160259</td>\n",
       "      <td>0.006733</td>\n",
       "      <td>0.008495</td>\n",
       "      <td>0.044944</td>\n",
       "      <td>0.004782</td>\n",
       "      <td>1.000000</td>\n",
       "      <td>-0.018559</td>\n",
       "      <td>0.092371</td>\n",
       "      <td>0.125889</td>\n",
       "      <td>0.016341</td>\n",
       "      <td>0.056304</td>\n",
       "      <td>-0.030755</td>\n",
       "      <td>0.014026</td>\n",
       "      <td>0.075471</td>\n",
       "      <td>0.016850</td>\n",
       "      <td>0.082586</td>\n",
       "      <td>-0.034288</td>\n",
       "      <td>0.035335</td>\n",
       "      <td>0.004297</td>\n",
       "      <td>0.007463</td>\n",
       "      <td>0.009941</td>\n",
       "      <td>0.008896</td>\n",
       "    </tr>\n",
       "    <tr>\n",
       "      <th>sports_keyword_ratio</th>\n",
       "      <td>-0.014579</td>\n",
       "      <td>-0.009701</td>\n",
       "      <td>0.065933</td>\n",
       "      <td>-0.018292</td>\n",
       "      <td>0.041037</td>\n",
       "      <td>0.121185</td>\n",
       "      <td>0.022099</td>\n",
       "      <td>0.346681</td>\n",
       "      <td>-0.018559</td>\n",
       "      <td>1.000000</td>\n",
       "      <td>0.105086</td>\n",
       "      <td>0.005916</td>\n",
       "      <td>-0.038365</td>\n",
       "      <td>-0.048937</td>\n",
       "      <td>0.255213</td>\n",
       "      <td>-0.022610</td>\n",
       "      <td>0.025799</td>\n",
       "      <td>-0.014782</td>\n",
       "      <td>-0.002352</td>\n",
       "      <td>0.153425</td>\n",
       "      <td>0.129111</td>\n",
       "      <td>0.005872</td>\n",
       "      <td>-0.029365</td>\n",
       "      <td>-0.001957</td>\n",
       "      <td>0.020358</td>\n",
       "    </tr>\n",
       "    <tr>\n",
       "      <th>education_keyword_ratio</th>\n",
       "      <td>-0.041830</td>\n",
       "      <td>0.113545</td>\n",
       "      <td>0.018153</td>\n",
       "      <td>0.279350</td>\n",
       "      <td>0.065437</td>\n",
       "      <td>0.032782</td>\n",
       "      <td>0.194102</td>\n",
       "      <td>0.319346</td>\n",
       "      <td>0.092371</td>\n",
       "      <td>0.105086</td>\n",
       "      <td>1.000000</td>\n",
       "      <td>0.045409</td>\n",
       "      <td>0.062346</td>\n",
       "      <td>0.052866</td>\n",
       "      <td>0.028394</td>\n",
       "      <td>-0.028868</td>\n",
       "      <td>0.132168</td>\n",
       "      <td>0.345313</td>\n",
       "      <td>0.132795</td>\n",
       "      <td>0.042155</td>\n",
       "      <td>0.160247</td>\n",
       "      <td>0.083411</td>\n",
       "      <td>0.040127</td>\n",
       "      <td>0.028417</td>\n",
       "      <td>0.044464</td>\n",
       "    </tr>\n",
       "    <tr>\n",
       "      <th>crime_keyword_ratio</th>\n",
       "      <td>0.001745</td>\n",
       "      <td>0.151892</td>\n",
       "      <td>-0.041433</td>\n",
       "      <td>0.041902</td>\n",
       "      <td>-0.021715</td>\n",
       "      <td>0.004369</td>\n",
       "      <td>0.074025</td>\n",
       "      <td>0.075248</td>\n",
       "      <td>0.125889</td>\n",
       "      <td>0.005916</td>\n",
       "      <td>0.045409</td>\n",
       "      <td>1.000000</td>\n",
       "      <td>0.006188</td>\n",
       "      <td>0.060876</td>\n",
       "      <td>-0.029975</td>\n",
       "      <td>-0.004936</td>\n",
       "      <td>0.086021</td>\n",
       "      <td>0.016110</td>\n",
       "      <td>0.042507</td>\n",
       "      <td>-0.009839</td>\n",
       "      <td>0.069504</td>\n",
       "      <td>0.044542</td>\n",
       "      <td>-0.026904</td>\n",
       "      <td>0.032581</td>\n",
       "      <td>0.148608</td>\n",
       "    </tr>\n",
       "    <tr>\n",
       "      <th>relationship_keyword_ratio</th>\n",
       "      <td>0.034657</td>\n",
       "      <td>0.114141</td>\n",
       "      <td>-0.084057</td>\n",
       "      <td>0.057197</td>\n",
       "      <td>-0.030691</td>\n",
       "      <td>-0.015938</td>\n",
       "      <td>0.131505</td>\n",
       "      <td>-0.017493</td>\n",
       "      <td>0.016341</td>\n",
       "      <td>-0.038365</td>\n",
       "      <td>0.062346</td>\n",
       "      <td>0.006188</td>\n",
       "      <td>1.000000</td>\n",
       "      <td>0.419140</td>\n",
       "      <td>-0.036422</td>\n",
       "      <td>-0.041710</td>\n",
       "      <td>-0.027159</td>\n",
       "      <td>-0.026138</td>\n",
       "      <td>-0.031949</td>\n",
       "      <td>0.050625</td>\n",
       "      <td>-0.003127</td>\n",
       "      <td>-0.027143</td>\n",
       "      <td>-0.016127</td>\n",
       "      <td>-0.005355</td>\n",
       "      <td>0.049416</td>\n",
       "    </tr>\n",
       "    <tr>\n",
       "      <th>marriage_keyword_ratio</th>\n",
       "      <td>0.073547</td>\n",
       "      <td>0.015737</td>\n",
       "      <td>-0.065194</td>\n",
       "      <td>-0.017940</td>\n",
       "      <td>-0.077589</td>\n",
       "      <td>-0.055657</td>\n",
       "      <td>0.077725</td>\n",
       "      <td>-0.020703</td>\n",
       "      <td>0.056304</td>\n",
       "      <td>-0.048937</td>\n",
       "      <td>0.052866</td>\n",
       "      <td>0.060876</td>\n",
       "      <td>0.419140</td>\n",
       "      <td>1.000000</td>\n",
       "      <td>-0.037082</td>\n",
       "      <td>-0.066048</td>\n",
       "      <td>-0.045638</td>\n",
       "      <td>-0.044595</td>\n",
       "      <td>0.027169</td>\n",
       "      <td>0.116781</td>\n",
       "      <td>-0.109435</td>\n",
       "      <td>-0.001457</td>\n",
       "      <td>-0.073110</td>\n",
       "      <td>-0.012987</td>\n",
       "      <td>0.038201</td>\n",
       "    </tr>\n",
       "    <tr>\n",
       "      <th>gaming_keyword_ratio</th>\n",
       "      <td>-0.019890</td>\n",
       "      <td>-0.014589</td>\n",
       "      <td>0.203902</td>\n",
       "      <td>-0.001842</td>\n",
       "      <td>0.006005</td>\n",
       "      <td>0.089051</td>\n",
       "      <td>-0.015156</td>\n",
       "      <td>-0.025420</td>\n",
       "      <td>-0.030755</td>\n",
       "      <td>0.255213</td>\n",
       "      <td>0.028394</td>\n",
       "      <td>-0.029975</td>\n",
       "      <td>-0.036422</td>\n",
       "      <td>-0.037082</td>\n",
       "      <td>1.000000</td>\n",
       "      <td>-0.014481</td>\n",
       "      <td>0.008244</td>\n",
       "      <td>0.042232</td>\n",
       "      <td>-0.017891</td>\n",
       "      <td>0.381901</td>\n",
       "      <td>0.018217</td>\n",
       "      <td>0.043949</td>\n",
       "      <td>-0.018312</td>\n",
       "      <td>0.121672</td>\n",
       "      <td>-0.009003</td>\n",
       "    </tr>\n",
       "    <tr>\n",
       "      <th>migration_keyword_ratio</th>\n",
       "      <td>-0.047521</td>\n",
       "      <td>0.048590</td>\n",
       "      <td>0.016563</td>\n",
       "      <td>-0.001806</td>\n",
       "      <td>0.012996</td>\n",
       "      <td>-0.021190</td>\n",
       "      <td>-0.002181</td>\n",
       "      <td>0.042584</td>\n",
       "      <td>0.014026</td>\n",
       "      <td>-0.022610</td>\n",
       "      <td>-0.028868</td>\n",
       "      <td>-0.004936</td>\n",
       "      <td>-0.041710</td>\n",
       "      <td>-0.066048</td>\n",
       "      <td>-0.014481</td>\n",
       "      <td>1.000000</td>\n",
       "      <td>0.016071</td>\n",
       "      <td>0.025572</td>\n",
       "      <td>-0.001531</td>\n",
       "      <td>-0.036453</td>\n",
       "      <td>0.028336</td>\n",
       "      <td>0.010288</td>\n",
       "      <td>-0.016641</td>\n",
       "      <td>-0.024604</td>\n",
       "      <td>-0.006837</td>\n",
       "    </tr>\n",
       "    <tr>\n",
       "      <th>tourism_keyword_ratio</th>\n",
       "      <td>-0.033969</td>\n",
       "      <td>0.088951</td>\n",
       "      <td>0.071618</td>\n",
       "      <td>0.001848</td>\n",
       "      <td>0.081709</td>\n",
       "      <td>0.052364</td>\n",
       "      <td>0.067048</td>\n",
       "      <td>0.220883</td>\n",
       "      <td>0.075471</td>\n",
       "      <td>0.025799</td>\n",
       "      <td>0.132168</td>\n",
       "      <td>0.086021</td>\n",
       "      <td>-0.027159</td>\n",
       "      <td>-0.045638</td>\n",
       "      <td>0.008244</td>\n",
       "      <td>0.016071</td>\n",
       "      <td>1.000000</td>\n",
       "      <td>0.145487</td>\n",
       "      <td>0.168001</td>\n",
       "      <td>0.001335</td>\n",
       "      <td>0.153334</td>\n",
       "      <td>0.210976</td>\n",
       "      <td>0.042921</td>\n",
       "      <td>-0.001402</td>\n",
       "      <td>0.095538</td>\n",
       "    </tr>\n",
       "    <tr>\n",
       "      <th>medicine_keyword_ratio</th>\n",
       "      <td>-0.041321</td>\n",
       "      <td>0.011341</td>\n",
       "      <td>-0.026637</td>\n",
       "      <td>0.233612</td>\n",
       "      <td>0.081066</td>\n",
       "      <td>0.013770</td>\n",
       "      <td>0.053562</td>\n",
       "      <td>0.255784</td>\n",
       "      <td>0.016850</td>\n",
       "      <td>-0.014782</td>\n",
       "      <td>0.345313</td>\n",
       "      <td>0.016110</td>\n",
       "      <td>-0.026138</td>\n",
       "      <td>-0.044595</td>\n",
       "      <td>0.042232</td>\n",
       "      <td>0.025572</td>\n",
       "      <td>0.145487</td>\n",
       "      <td>1.000000</td>\n",
       "      <td>0.112567</td>\n",
       "      <td>-0.009329</td>\n",
       "      <td>-0.005535</td>\n",
       "      <td>0.065844</td>\n",
       "      <td>0.047804</td>\n",
       "      <td>0.106709</td>\n",
       "      <td>-0.002946</td>\n",
       "    </tr>\n",
       "    <tr>\n",
       "      <th>insurance_keyword_ratio</th>\n",
       "      <td>-0.056707</td>\n",
       "      <td>0.071131</td>\n",
       "      <td>0.088924</td>\n",
       "      <td>0.008701</td>\n",
       "      <td>0.048373</td>\n",
       "      <td>0.021868</td>\n",
       "      <td>0.068850</td>\n",
       "      <td>0.156625</td>\n",
       "      <td>0.082586</td>\n",
       "      <td>-0.002352</td>\n",
       "      <td>0.132795</td>\n",
       "      <td>0.042507</td>\n",
       "      <td>-0.031949</td>\n",
       "      <td>0.027169</td>\n",
       "      <td>-0.017891</td>\n",
       "      <td>-0.001531</td>\n",
       "      <td>0.168001</td>\n",
       "      <td>0.112567</td>\n",
       "      <td>1.000000</td>\n",
       "      <td>-0.008582</td>\n",
       "      <td>0.071665</td>\n",
       "      <td>0.479723</td>\n",
       "      <td>0.043087</td>\n",
       "      <td>-0.034761</td>\n",
       "      <td>0.116681</td>\n",
       "    </tr>\n",
       "    <tr>\n",
       "      <th>career_keyword_ratio</th>\n",
       "      <td>0.023996</td>\n",
       "      <td>-0.004699</td>\n",
       "      <td>0.105088</td>\n",
       "      <td>-0.022320</td>\n",
       "      <td>-0.032509</td>\n",
       "      <td>0.036373</td>\n",
       "      <td>0.184372</td>\n",
       "      <td>-0.039776</td>\n",
       "      <td>-0.034288</td>\n",
       "      <td>0.153425</td>\n",
       "      <td>0.042155</td>\n",
       "      <td>-0.009839</td>\n",
       "      <td>0.050625</td>\n",
       "      <td>0.116781</td>\n",
       "      <td>0.381901</td>\n",
       "      <td>-0.036453</td>\n",
       "      <td>0.001335</td>\n",
       "      <td>-0.009329</td>\n",
       "      <td>-0.008582</td>\n",
       "      <td>1.000000</td>\n",
       "      <td>0.002863</td>\n",
       "      <td>-0.010776</td>\n",
       "      <td>-0.068362</td>\n",
       "      <td>0.057074</td>\n",
       "      <td>-0.012749</td>\n",
       "    </tr>\n",
       "    <tr>\n",
       "      <th>economic_keyword_ratio</th>\n",
       "      <td>-0.060285</td>\n",
       "      <td>0.220262</td>\n",
       "      <td>0.011919</td>\n",
       "      <td>0.087229</td>\n",
       "      <td>0.091896</td>\n",
       "      <td>0.063395</td>\n",
       "      <td>0.076095</td>\n",
       "      <td>0.116444</td>\n",
       "      <td>0.035335</td>\n",
       "      <td>0.129111</td>\n",
       "      <td>0.160247</td>\n",
       "      <td>0.069504</td>\n",
       "      <td>-0.003127</td>\n",
       "      <td>-0.109435</td>\n",
       "      <td>0.018217</td>\n",
       "      <td>0.028336</td>\n",
       "      <td>0.153334</td>\n",
       "      <td>-0.005535</td>\n",
       "      <td>0.071665</td>\n",
       "      <td>0.002863</td>\n",
       "      <td>1.000000</td>\n",
       "      <td>0.094501</td>\n",
       "      <td>-0.014134</td>\n",
       "      <td>0.007722</td>\n",
       "      <td>0.074208</td>\n",
       "    </tr>\n",
       "    <tr>\n",
       "      <th>finance_keyword_ratio</th>\n",
       "      <td>-0.058067</td>\n",
       "      <td>0.058977</td>\n",
       "      <td>0.057522</td>\n",
       "      <td>0.013454</td>\n",
       "      <td>0.037216</td>\n",
       "      <td>0.021846</td>\n",
       "      <td>0.049748</td>\n",
       "      <td>0.110056</td>\n",
       "      <td>0.004297</td>\n",
       "      <td>0.005872</td>\n",
       "      <td>0.083411</td>\n",
       "      <td>0.044542</td>\n",
       "      <td>-0.027143</td>\n",
       "      <td>-0.001457</td>\n",
       "      <td>0.043949</td>\n",
       "      <td>0.010288</td>\n",
       "      <td>0.210976</td>\n",
       "      <td>0.065844</td>\n",
       "      <td>0.479723</td>\n",
       "      <td>-0.010776</td>\n",
       "      <td>0.094501</td>\n",
       "      <td>1.000000</td>\n",
       "      <td>0.027849</td>\n",
       "      <td>-0.022628</td>\n",
       "      <td>0.170934</td>\n",
       "    </tr>\n",
       "    <tr>\n",
       "      <th>information_technology_keyword_ratio</th>\n",
       "      <td>-0.035903</td>\n",
       "      <td>-0.047209</td>\n",
       "      <td>-0.004028</td>\n",
       "      <td>0.085178</td>\n",
       "      <td>0.715668</td>\n",
       "      <td>0.073045</td>\n",
       "      <td>0.033774</td>\n",
       "      <td>0.003186</td>\n",
       "      <td>0.007463</td>\n",
       "      <td>-0.029365</td>\n",
       "      <td>0.040127</td>\n",
       "      <td>-0.026904</td>\n",
       "      <td>-0.016127</td>\n",
       "      <td>-0.073110</td>\n",
       "      <td>-0.018312</td>\n",
       "      <td>-0.016641</td>\n",
       "      <td>0.042921</td>\n",
       "      <td>0.047804</td>\n",
       "      <td>0.043087</td>\n",
       "      <td>-0.068362</td>\n",
       "      <td>-0.014134</td>\n",
       "      <td>0.027849</td>\n",
       "      <td>1.000000</td>\n",
       "      <td>0.028954</td>\n",
       "      <td>-0.044146</td>\n",
       "    </tr>\n",
       "    <tr>\n",
       "      <th>music_keyword_ratio</th>\n",
       "      <td>0.004790</td>\n",
       "      <td>-0.013211</td>\n",
       "      <td>-0.020445</td>\n",
       "      <td>0.116391</td>\n",
       "      <td>0.060096</td>\n",
       "      <td>0.326425</td>\n",
       "      <td>0.028535</td>\n",
       "      <td>-0.027778</td>\n",
       "      <td>0.009941</td>\n",
       "      <td>-0.001957</td>\n",
       "      <td>0.028417</td>\n",
       "      <td>0.032581</td>\n",
       "      <td>-0.005355</td>\n",
       "      <td>-0.012987</td>\n",
       "      <td>0.121672</td>\n",
       "      <td>-0.024604</td>\n",
       "      <td>-0.001402</td>\n",
       "      <td>0.106709</td>\n",
       "      <td>-0.034761</td>\n",
       "      <td>0.057074</td>\n",
       "      <td>0.007722</td>\n",
       "      <td>-0.022628</td>\n",
       "      <td>0.028954</td>\n",
       "      <td>1.000000</td>\n",
       "      <td>0.000861</td>\n",
       "    </tr>\n",
       "    <tr>\n",
       "      <th>defence_keyword_ratio</th>\n",
       "      <td>0.010631</td>\n",
       "      <td>0.103812</td>\n",
       "      <td>-0.042969</td>\n",
       "      <td>-0.004077</td>\n",
       "      <td>-0.025504</td>\n",
       "      <td>-0.003530</td>\n",
       "      <td>-0.007640</td>\n",
       "      <td>0.048546</td>\n",
       "      <td>0.008896</td>\n",
       "      <td>0.020358</td>\n",
       "      <td>0.044464</td>\n",
       "      <td>0.148608</td>\n",
       "      <td>0.049416</td>\n",
       "      <td>0.038201</td>\n",
       "      <td>-0.009003</td>\n",
       "      <td>-0.006837</td>\n",
       "      <td>0.095538</td>\n",
       "      <td>-0.002946</td>\n",
       "      <td>0.116681</td>\n",
       "      <td>-0.012749</td>\n",
       "      <td>0.074208</td>\n",
       "      <td>0.170934</td>\n",
       "      <td>-0.044146</td>\n",
       "      <td>0.000861</td>\n",
       "      <td>1.000000</td>\n",
       "    </tr>\n",
       "  </tbody>\n",
       "</table>\n",
       "</div>"
      ],
      "text/plain": [
       "                                      click_rate  ...  defence_keyword_ratio\n",
       "click_rate                              1.000000  ...               0.010631\n",
       "political_keyword_ratio                -0.043494  ...               0.103812\n",
       "business_keyword_ratio                 -0.046113  ...              -0.042969\n",
       "science_keyword_ratio                  -0.013368  ...              -0.004077\n",
       "technology_keyword_ratio               -0.067388  ...              -0.025504\n",
       "entertainment_keyword_ratio             0.010823  ...              -0.003530\n",
       "lifestyle_keyword_ratio                -0.026176  ...              -0.007640\n",
       "health_keyword_ratio                   -0.067720  ...               0.048546\n",
       "multicultural_keyword_ratio            -0.009586  ...               0.008896\n",
       "sports_keyword_ratio                   -0.014579  ...               0.020358\n",
       "education_keyword_ratio                -0.041830  ...               0.044464\n",
       "crime_keyword_ratio                     0.001745  ...               0.148608\n",
       "relationship_keyword_ratio              0.034657  ...               0.049416\n",
       "marriage_keyword_ratio                  0.073547  ...               0.038201\n",
       "gaming_keyword_ratio                   -0.019890  ...              -0.009003\n",
       "migration_keyword_ratio                -0.047521  ...              -0.006837\n",
       "tourism_keyword_ratio                  -0.033969  ...               0.095538\n",
       "medicine_keyword_ratio                 -0.041321  ...              -0.002946\n",
       "insurance_keyword_ratio                -0.056707  ...               0.116681\n",
       "career_keyword_ratio                    0.023996  ...              -0.012749\n",
       "economic_keyword_ratio                 -0.060285  ...               0.074208\n",
       "finance_keyword_ratio                  -0.058067  ...               0.170934\n",
       "information_technology_keyword_ratio   -0.035903  ...              -0.044146\n",
       "music_keyword_ratio                     0.004790  ...               0.000861\n",
       "defence_keyword_ratio                   0.010631  ...               1.000000\n",
       "\n",
       "[25 rows x 25 columns]"
      ]
     },
     "execution_count": 200,
     "metadata": {},
     "output_type": "execute_result"
    }
   ],
   "source": [
    "topic_columns = [\"%s_keyword_ratio\" % topic for topic in topics]\n",
    "design_df[[\"click_rate\"]+topic_columns].corr()"
   ]
  },
  {
   "cell_type": "code",
   "execution_count": 201,
   "metadata": {
    "colab": {
     "base_uri": "https://localhost:8080/",
     "height": 0
    },
    "id": "tsSFPUEk2Rj-",
    "outputId": "9b440c25-76e2-43b7-e8ff-af9c8adebd4c"
   },
   "outputs": [
    {
     "data": {
      "text/plain": [
       "<matplotlib.collections.PathCollection at 0x7f5d2d543a50>"
      ]
     },
     "execution_count": 201,
     "metadata": {},
     "output_type": "execute_result"
    },
    {
     "data": {
      "image/png": "[encoded data removed]",
      "text/plain": [
       "<Figure size 432x288 with 1 Axes>"
      ]
     },
     "metadata": {},
     "output_type": "display_data"
    }
   ],
   "source": [
    "plt.scatter(design_df[\"political_keyword_ratio\"], design_df[\"click_rate\"], marker=\"x\", color=\"blue\", s=20)"
   ]
  },
  {
   "cell_type": "code",
   "execution_count": 202,
   "metadata": {
    "colab": {
     "base_uri": "https://localhost:8080/",
     "height": 0
    },
    "id": "9TReTX5pqk-u",
    "outputId": "25891b57-4103-473f-b460-59edd20b9557"
   },
   "outputs": [
    {
     "data": {
      "image/png": "[encoded data removed]",
      "text/plain": [
       "<Figure size 864x504 with 1 Axes>"
      ]
     },
     "metadata": {},
     "output_type": "display_data"
    }
   ],
   "source": [
    "fig = plt.figure(figsize=(12,7))\n",
    "ax = plt.subplot(111)\n",
    "ax.scatter(design_df[\"total_word_num\"], design_df[\"click_rate\"], marker=\"x\", color=\"blue\", s=20)\n",
    "ax.set_xlabel(\"Number of words\", fontsize=22)\n",
    "ax.set_title(\"Click rate\", fontsize=23)\n",
    "plt.yticks(fontsize=20)\n",
    "plt.xticks(fontsize=20)\n",
    "plt.show()"
   ]
  },
  {
   "cell_type": "code",
   "execution_count": 203,
   "metadata": {
    "colab": {
     "base_uri": "https://localhost:8080/",
     "height": 0
    },
    "id": "ToBrUtX45fov",
    "outputId": "9d7031ba-6316-4431-c60a-b3e2b4a09f63"
   },
   "outputs": [
    {
     "data": {
      "application/vnd.google.colaboratory.intrinsic+json": {
       "type": "string"
      },
      "text/plain": [
       "'click_rate ~ political_keyword_ratio + business_keyword_ratio + science_keyword_ratio + technology_keyword_ratio + entertainment_keyword_ratio + lifestyle_keyword_ratio + health_keyword_ratio + multicultural_keyword_ratio + sports_keyword_ratio + education_keyword_ratio + crime_keyword_ratio + relationship_keyword_ratio + marriage_keyword_ratio + gaming_keyword_ratio + migration_keyword_ratio + tourism_keyword_ratio + medicine_keyword_ratio + insurance_keyword_ratio + career_keyword_ratio + economic_keyword_ratio + finance_keyword_ratio + information_technology_keyword_ratio + music_keyword_ratio + defence_keyword_ratio + image_id'"
      ]
     },
     "execution_count": 203,
     "metadata": {},
     "output_type": "execute_result"
    }
   ],
   "source": [
    "independent_variables = \" + \".join(topic_columns) + \" + image_id\"\n",
    "\"click_rate ~ %s\" % independent_variables"
   ]
  },
  {
   "cell_type": "code",
   "execution_count": 204,
   "metadata": {
    "id": "l-p4o5MW6B31"
   },
   "outputs": [],
   "source": [
    "design_df[\"log_click_rate\"] = np.log(design_df[\"click_rate\"] + 1)"
   ]
  },
  {
   "cell_type": "code",
   "execution_count": 205,
   "metadata": {
    "colab": {
     "base_uri": "https://localhost:8080/",
     "height": 0
    },
    "id": "cjsMVJeO3AEj",
    "outputId": "5e1c7051-f5e3-47cc-fc07-2ad40aba288a"
   },
   "outputs": [
    {
     "data": {
      "text/html": [
       "<table class=\"simpletable\">\n",
       "<caption>OLS Regression Results</caption>\n",
       "<tr>\n",
       "  <th>Dep. Variable:</th>     <td>log_click_rate</td>  <th>  R-squared:         </th>  <td>   0.025</td> \n",
       "</tr>\n",
       "<tr>\n",
       "  <th>Model:</th>                   <td>OLS</td>       <th>  Adj. R-squared:    </th>  <td>   0.025</td> \n",
       "</tr>\n",
       "<tr>\n",
       "  <th>Method:</th>             <td>Least Squares</td>  <th>  F-statistic:       </th>  <td>   109.5</td> \n",
       "</tr>\n",
       "<tr>\n",
       "  <th>Date:</th>             <td>Sat, 06 Nov 2021</td> <th>  Prob (F-statistic):</th>   <td>  0.00</td>  \n",
       "</tr>\n",
       "<tr>\n",
       "  <th>Time:</th>                 <td>19:20:57</td>     <th>  Log-Likelihood:    </th> <td>3.2048e+05</td>\n",
       "</tr>\n",
       "<tr>\n",
       "  <th>No. Observations:</th>      <td>103509</td>      <th>  AIC:               </th> <td>-6.409e+05</td>\n",
       "</tr>\n",
       "<tr>\n",
       "  <th>Df Residuals:</th>          <td>103484</td>      <th>  BIC:               </th> <td>-6.407e+05</td>\n",
       "</tr>\n",
       "<tr>\n",
       "  <th>Df Model:</th>              <td>    24</td>      <th>                     </th>      <td> </td>    \n",
       "</tr>\n",
       "<tr>\n",
       "  <th>Covariance Type:</th>      <td>nonrobust</td>    <th>                     </th>      <td> </td>    \n",
       "</tr>\n",
       "</table>\n",
       "<table class=\"simpletable\">\n",
       "<tr>\n",
       "                    <td></td>                      <th>coef</th>     <th>std err</th>      <th>t</th>      <th>P>|t|</th>  <th>[0.025</th>    <th>0.975]</th>  \n",
       "</tr>\n",
       "<tr>\n",
       "  <th>Intercept</th>                            <td>    0.0150</td> <td>  7.6e-05</td> <td>  197.903</td> <td> 0.000</td> <td>    0.015</td> <td>    0.015</td>\n",
       "</tr>\n",
       "<tr>\n",
       "  <th>political_keyword_ratio</th>              <td>   -0.0074</td> <td>    0.001</td> <td>   -9.982</td> <td> 0.000</td> <td>   -0.009</td> <td>   -0.006</td>\n",
       "</tr>\n",
       "<tr>\n",
       "  <th>business_keyword_ratio</th>               <td>   -0.0069</td> <td>    0.001</td> <td>  -10.234</td> <td> 0.000</td> <td>   -0.008</td> <td>   -0.006</td>\n",
       "</tr>\n",
       "<tr>\n",
       "  <th>science_keyword_ratio</th>                <td>    0.0042</td> <td>    0.001</td> <td>    3.661</td> <td> 0.000</td> <td>    0.002</td> <td>    0.007</td>\n",
       "</tr>\n",
       "<tr>\n",
       "  <th>technology_keyword_ratio</th>             <td>   -0.0169</td> <td>    0.001</td> <td>  -15.403</td> <td> 0.000</td> <td>   -0.019</td> <td>   -0.015</td>\n",
       "</tr>\n",
       "<tr>\n",
       "  <th>entertainment_keyword_ratio</th>          <td>    0.0075</td> <td>    0.001</td> <td>    6.928</td> <td> 0.000</td> <td>    0.005</td> <td>    0.010</td>\n",
       "</tr>\n",
       "<tr>\n",
       "  <th>lifestyle_keyword_ratio</th>              <td>   -0.0086</td> <td>    0.001</td> <td>   -7.699</td> <td> 0.000</td> <td>   -0.011</td> <td>   -0.006</td>\n",
       "</tr>\n",
       "<tr>\n",
       "  <th>health_keyword_ratio</th>                 <td>   -0.0126</td> <td>    0.001</td> <td>  -14.177</td> <td> 0.000</td> <td>   -0.014</td> <td>   -0.011</td>\n",
       "</tr>\n",
       "<tr>\n",
       "  <th>multicultural_keyword_ratio</th>          <td>   -0.0039</td> <td>    0.002</td> <td>   -2.072</td> <td> 0.038</td> <td>   -0.008</td> <td>   -0.000</td>\n",
       "</tr>\n",
       "<tr>\n",
       "  <th>sports_keyword_ratio</th>                 <td>    0.0035</td> <td>    0.001</td> <td>    4.458</td> <td> 0.000</td> <td>    0.002</td> <td>    0.005</td>\n",
       "</tr>\n",
       "<tr>\n",
       "  <th>education_keyword_ratio</th>              <td>   -0.0024</td> <td>    0.001</td> <td>   -2.491</td> <td> 0.013</td> <td>   -0.004</td> <td>   -0.001</td>\n",
       "</tr>\n",
       "<tr>\n",
       "  <th>crime_keyword_ratio</th>                  <td>    0.0023</td> <td>    0.001</td> <td>    2.416</td> <td> 0.016</td> <td>    0.000</td> <td>    0.004</td>\n",
       "</tr>\n",
       "<tr>\n",
       "  <th>relationship_keyword_ratio</th>           <td>    0.0015</td> <td>    0.001</td> <td>    1.703</td> <td> 0.089</td> <td>   -0.000</td> <td>    0.003</td>\n",
       "</tr>\n",
       "<tr>\n",
       "  <th>marriage_keyword_ratio</th>               <td>    0.0103</td> <td>    0.001</td> <td>   16.969</td> <td> 0.000</td> <td>    0.009</td> <td>    0.011</td>\n",
       "</tr>\n",
       "<tr>\n",
       "  <th>gaming_keyword_ratio</th>                 <td>   -0.0061</td> <td>    0.001</td> <td>   -7.587</td> <td> 0.000</td> <td>   -0.008</td> <td>   -0.005</td>\n",
       "</tr>\n",
       "<tr>\n",
       "  <th>migration_keyword_ratio</th>              <td>   -0.0151</td> <td>    0.001</td> <td>  -11.345</td> <td> 0.000</td> <td>   -0.018</td> <td>   -0.012</td>\n",
       "</tr>\n",
       "<tr>\n",
       "  <th>tourism_keyword_ratio</th>                <td>    0.0040</td> <td>    0.002</td> <td>    2.466</td> <td> 0.014</td> <td>    0.001</td> <td>    0.007</td>\n",
       "</tr>\n",
       "<tr>\n",
       "  <th>medicine_keyword_ratio</th>               <td>   -0.0051</td> <td>    0.001</td> <td>   -3.951</td> <td> 0.000</td> <td>   -0.008</td> <td>   -0.003</td>\n",
       "</tr>\n",
       "<tr>\n",
       "  <th>insurance_keyword_ratio</th>              <td>   -0.0101</td> <td>    0.001</td> <td>   -6.745</td> <td> 0.000</td> <td>   -0.013</td> <td>   -0.007</td>\n",
       "</tr>\n",
       "<tr>\n",
       "  <th>career_keyword_ratio</th>                 <td>    0.0050</td> <td>    0.001</td> <td>    8.056</td> <td> 0.000</td> <td>    0.004</td> <td>    0.006</td>\n",
       "</tr>\n",
       "<tr>\n",
       "  <th>economic_keyword_ratio</th>               <td>   -0.0056</td> <td>    0.001</td> <td>   -9.666</td> <td> 0.000</td> <td>   -0.007</td> <td>   -0.004</td>\n",
       "</tr>\n",
       "<tr>\n",
       "  <th>finance_keyword_ratio</th>                <td>   -0.0154</td> <td>    0.002</td> <td>   -9.348</td> <td> 0.000</td> <td>   -0.019</td> <td>   -0.012</td>\n",
       "</tr>\n",
       "<tr>\n",
       "  <th>information_technology_keyword_ratio</th> <td>    0.0047</td> <td>    0.001</td> <td>    4.415</td> <td> 0.000</td> <td>    0.003</td> <td>    0.007</td>\n",
       "</tr>\n",
       "<tr>\n",
       "  <th>music_keyword_ratio</th>                  <td>   -0.0002</td> <td>    0.001</td> <td>   -0.168</td> <td> 0.866</td> <td>   -0.002</td> <td>    0.002</td>\n",
       "</tr>\n",
       "<tr>\n",
       "  <th>defence_keyword_ratio</th>                <td>    0.0062</td> <td>    0.001</td> <td>    6.435</td> <td> 0.000</td> <td>    0.004</td> <td>    0.008</td>\n",
       "</tr>\n",
       "</table>\n",
       "<table class=\"simpletable\">\n",
       "<tr>\n",
       "  <th>Omnibus:</th>       <td>53025.490</td> <th>  Durbin-Watson:     </th>  <td>   0.865</td> \n",
       "</tr>\n",
       "<tr>\n",
       "  <th>Prob(Omnibus):</th>  <td> 0.000</td>   <th>  Jarque-Bera (JB):  </th> <td>487873.437</td>\n",
       "</tr>\n",
       "<tr>\n",
       "  <th>Skew:</th>           <td> 2.293</td>   <th>  Prob(JB):          </th>  <td>    0.00</td> \n",
       "</tr>\n",
       "<tr>\n",
       "  <th>Kurtosis:</th>       <td>12.596</td>   <th>  Cond. No.          </th>  <td>    59.5</td> \n",
       "</tr>\n",
       "</table><br/><br/>Warnings:<br/>[1] Standard Errors assume that the covariance matrix of the errors is correctly specified."
      ],
      "text/plain": [
       "<class 'statsmodels.iolib.summary.Summary'>\n",
       "\"\"\"\n",
       "                            OLS Regression Results                            \n",
       "==============================================================================\n",
       "Dep. Variable:         log_click_rate   R-squared:                       0.025\n",
       "Model:                            OLS   Adj. R-squared:                  0.025\n",
       "Method:                 Least Squares   F-statistic:                     109.5\n",
       "Date:                Sat, 06 Nov 2021   Prob (F-statistic):               0.00\n",
       "Time:                        19:20:57   Log-Likelihood:             3.2048e+05\n",
       "No. Observations:              103509   AIC:                        -6.409e+05\n",
       "Df Residuals:                  103484   BIC:                        -6.407e+05\n",
       "Df Model:                          24                                         \n",
       "Covariance Type:            nonrobust                                         \n",
       "========================================================================================================\n",
       "                                           coef    std err          t      P>|t|      [0.025      0.975]\n",
       "--------------------------------------------------------------------------------------------------------\n",
       "Intercept                                0.0150    7.6e-05    197.903      0.000       0.015       0.015\n",
       "political_keyword_ratio                 -0.0074      0.001     -9.982      0.000      -0.009      -0.006\n",
       "business_keyword_ratio                  -0.0069      0.001    -10.234      0.000      -0.008      -0.006\n",
       "science_keyword_ratio                    0.0042      0.001      3.661      0.000       0.002       0.007\n",
       "technology_keyword_ratio                -0.0169      0.001    -15.403      0.000      -0.019      -0.015\n",
       "entertainment_keyword_ratio              0.0075      0.001      6.928      0.000       0.005       0.010\n",
       "lifestyle_keyword_ratio                 -0.0086      0.001     -7.699      0.000      -0.011      -0.006\n",
       "health_keyword_ratio                    -0.0126      0.001    -14.177      0.000      -0.014      -0.011\n",
       "multicultural_keyword_ratio             -0.0039      0.002     -2.072      0.038      -0.008      -0.000\n",
       "sports_keyword_ratio                     0.0035      0.001      4.458      0.000       0.002       0.005\n",
       "education_keyword_ratio                 -0.0024      0.001     -2.491      0.013      -0.004      -0.001\n",
       "crime_keyword_ratio                      0.0023      0.001      2.416      0.016       0.000       0.004\n",
       "relationship_keyword_ratio               0.0015      0.001      1.703      0.089      -0.000       0.003\n",
       "marriage_keyword_ratio                   0.0103      0.001     16.969      0.000       0.009       0.011\n",
       "gaming_keyword_ratio                    -0.0061      0.001     -7.587      0.000      -0.008      -0.005\n",
       "migration_keyword_ratio                 -0.0151      0.001    -11.345      0.000      -0.018      -0.012\n",
       "tourism_keyword_ratio                    0.0040      0.002      2.466      0.014       0.001       0.007\n",
       "medicine_keyword_ratio                  -0.0051      0.001     -3.951      0.000      -0.008      -0.003\n",
       "insurance_keyword_ratio                 -0.0101      0.001     -6.745      0.000      -0.013      -0.007\n",
       "career_keyword_ratio                     0.0050      0.001      8.056      0.000       0.004       0.006\n",
       "economic_keyword_ratio                  -0.0056      0.001     -9.666      0.000      -0.007      -0.004\n",
       "finance_keyword_ratio                   -0.0154      0.002     -9.348      0.000      -0.019      -0.012\n",
       "information_technology_keyword_ratio     0.0047      0.001      4.415      0.000       0.003       0.007\n",
       "music_keyword_ratio                     -0.0002      0.001     -0.168      0.866      -0.002       0.002\n",
       "defence_keyword_ratio                    0.0062      0.001      6.435      0.000       0.004       0.008\n",
       "==============================================================================\n",
       "Omnibus:                    53025.490   Durbin-Watson:                   0.865\n",
       "Prob(Omnibus):                  0.000   Jarque-Bera (JB):           487873.437\n",
       "Skew:                           2.293   Prob(JB):                         0.00\n",
       "Kurtosis:                      12.596   Cond. No.                         59.5\n",
       "==============================================================================\n",
       "\n",
       "Warnings:\n",
       "[1] Standard Errors assume that the covariance matrix of the errors is correctly specified.\n",
       "\"\"\""
      ]
     },
     "execution_count": 205,
     "metadata": {},
     "output_type": "execute_result"
    }
   ],
   "source": [
    "independent_variables = \" + \".join(topic_columns)# + \" + image_id\"\n",
    "model = smf.ols(formula=\"log_click_rate ~ %s\" % independent_variables, data=design_df).fit()\n",
    "model.summary()"
   ]
  },
  {
   "cell_type": "code",
   "execution_count": 206,
   "metadata": {
    "colab": {
     "base_uri": "https://localhost:8080/",
     "height": 0
    },
    "id": "fYce4hOd5lI7",
    "outputId": "f9f72a4f-2ac5-4563-c97b-7017fc299e26"
   },
   "outputs": [
    {
     "data": {
      "text/html": [
       "<table class=\"simpletable\">\n",
       "<caption>OLS Regression Results</caption>\n",
       "<tr>\n",
       "  <th>Dep. Variable:</th>       <td>click_rate</td>    <th>  R-squared:         </th>  <td>   0.024</td> \n",
       "</tr>\n",
       "<tr>\n",
       "  <th>Model:</th>                   <td>OLS</td>       <th>  Adj. R-squared:    </th>  <td>   0.024</td> \n",
       "</tr>\n",
       "<tr>\n",
       "  <th>Method:</th>             <td>Least Squares</td>  <th>  F-statistic:       </th>  <td>   108.1</td> \n",
       "</tr>\n",
       "<tr>\n",
       "  <th>Date:</th>             <td>Sat, 06 Nov 2021</td> <th>  Prob (F-statistic):</th>   <td>  0.00</td>  \n",
       "</tr>\n",
       "<tr>\n",
       "  <th>Time:</th>                 <td>19:20:58</td>     <th>  Log-Likelihood:    </th> <td>3.1767e+05</td>\n",
       "</tr>\n",
       "<tr>\n",
       "  <th>No. Observations:</th>      <td>103509</td>      <th>  AIC:               </th> <td>-6.353e+05</td>\n",
       "</tr>\n",
       "<tr>\n",
       "  <th>Df Residuals:</th>          <td>103484</td>      <th>  BIC:               </th> <td>-6.350e+05</td>\n",
       "</tr>\n",
       "<tr>\n",
       "  <th>Df Model:</th>              <td>    24</td>      <th>                     </th>      <td> </td>    \n",
       "</tr>\n",
       "<tr>\n",
       "  <th>Covariance Type:</th>      <td>nonrobust</td>    <th>                     </th>      <td> </td>    \n",
       "</tr>\n",
       "</table>\n",
       "<table class=\"simpletable\">\n",
       "<tr>\n",
       "                    <td></td>                      <th>coef</th>     <th>std err</th>      <th>t</th>      <th>P>|t|</th>  <th>[0.025</th>    <th>0.975]</th>  \n",
       "</tr>\n",
       "<tr>\n",
       "  <th>Intercept</th>                            <td>    0.0152</td> <td> 7.81e-05</td> <td>  194.968</td> <td> 0.000</td> <td>    0.015</td> <td>    0.015</td>\n",
       "</tr>\n",
       "<tr>\n",
       "  <th>political_keyword_ratio</th>              <td>   -0.0075</td> <td>    0.001</td> <td>   -9.876</td> <td> 0.000</td> <td>   -0.009</td> <td>   -0.006</td>\n",
       "</tr>\n",
       "<tr>\n",
       "  <th>business_keyword_ratio</th>               <td>   -0.0071</td> <td>    0.001</td> <td>  -10.184</td> <td> 0.000</td> <td>   -0.008</td> <td>   -0.006</td>\n",
       "</tr>\n",
       "<tr>\n",
       "  <th>science_keyword_ratio</th>                <td>    0.0043</td> <td>    0.001</td> <td>    3.639</td> <td> 0.000</td> <td>    0.002</td> <td>    0.007</td>\n",
       "</tr>\n",
       "<tr>\n",
       "  <th>technology_keyword_ratio</th>             <td>   -0.0172</td> <td>    0.001</td> <td>  -15.296</td> <td> 0.000</td> <td>   -0.019</td> <td>   -0.015</td>\n",
       "</tr>\n",
       "<tr>\n",
       "  <th>entertainment_keyword_ratio</th>          <td>    0.0077</td> <td>    0.001</td> <td>    6.910</td> <td> 0.000</td> <td>    0.006</td> <td>    0.010</td>\n",
       "</tr>\n",
       "<tr>\n",
       "  <th>lifestyle_keyword_ratio</th>              <td>   -0.0088</td> <td>    0.001</td> <td>   -7.668</td> <td> 0.000</td> <td>   -0.011</td> <td>   -0.007</td>\n",
       "</tr>\n",
       "<tr>\n",
       "  <th>health_keyword_ratio</th>                 <td>   -0.0129</td> <td>    0.001</td> <td>  -14.113</td> <td> 0.000</td> <td>   -0.015</td> <td>   -0.011</td>\n",
       "</tr>\n",
       "<tr>\n",
       "  <th>multicultural_keyword_ratio</th>          <td>   -0.0039</td> <td>    0.002</td> <td>   -2.024</td> <td> 0.043</td> <td>   -0.008</td> <td>   -0.000</td>\n",
       "</tr>\n",
       "<tr>\n",
       "  <th>sports_keyword_ratio</th>                 <td>    0.0036</td> <td>    0.001</td> <td>    4.441</td> <td> 0.000</td> <td>    0.002</td> <td>    0.005</td>\n",
       "</tr>\n",
       "<tr>\n",
       "  <th>education_keyword_ratio</th>              <td>   -0.0025</td> <td>    0.001</td> <td>   -2.509</td> <td> 0.012</td> <td>   -0.005</td> <td>   -0.001</td>\n",
       "</tr>\n",
       "<tr>\n",
       "  <th>crime_keyword_ratio</th>                  <td>    0.0023</td> <td>    0.001</td> <td>    2.340</td> <td> 0.019</td> <td>    0.000</td> <td>    0.004</td>\n",
       "</tr>\n",
       "<tr>\n",
       "  <th>relationship_keyword_ratio</th>           <td>    0.0015</td> <td>    0.001</td> <td>    1.651</td> <td> 0.099</td> <td>   -0.000</td> <td>    0.003</td>\n",
       "</tr>\n",
       "<tr>\n",
       "  <th>marriage_keyword_ratio</th>               <td>    0.0105</td> <td>    0.001</td> <td>   16.836</td> <td> 0.000</td> <td>    0.009</td> <td>    0.012</td>\n",
       "</tr>\n",
       "<tr>\n",
       "  <th>gaming_keyword_ratio</th>                 <td>   -0.0062</td> <td>    0.001</td> <td>   -7.535</td> <td> 0.000</td> <td>   -0.008</td> <td>   -0.005</td>\n",
       "</tr>\n",
       "<tr>\n",
       "  <th>migration_keyword_ratio</th>              <td>   -0.0155</td> <td>    0.001</td> <td>  -11.306</td> <td> 0.000</td> <td>   -0.018</td> <td>   -0.013</td>\n",
       "</tr>\n",
       "<tr>\n",
       "  <th>tourism_keyword_ratio</th>                <td>    0.0041</td> <td>    0.002</td> <td>    2.473</td> <td> 0.013</td> <td>    0.001</td> <td>    0.007</td>\n",
       "</tr>\n",
       "<tr>\n",
       "  <th>medicine_keyword_ratio</th>               <td>   -0.0053</td> <td>    0.001</td> <td>   -3.947</td> <td> 0.000</td> <td>   -0.008</td> <td>   -0.003</td>\n",
       "</tr>\n",
       "<tr>\n",
       "  <th>insurance_keyword_ratio</th>              <td>   -0.0102</td> <td>    0.002</td> <td>   -6.677</td> <td> 0.000</td> <td>   -0.013</td> <td>   -0.007</td>\n",
       "</tr>\n",
       "<tr>\n",
       "  <th>career_keyword_ratio</th>                 <td>    0.0051</td> <td>    0.001</td> <td>    8.005</td> <td> 0.000</td> <td>    0.004</td> <td>    0.006</td>\n",
       "</tr>\n",
       "<tr>\n",
       "  <th>economic_keyword_ratio</th>               <td>   -0.0057</td> <td>    0.001</td> <td>   -9.609</td> <td> 0.000</td> <td>   -0.007</td> <td>   -0.005</td>\n",
       "</tr>\n",
       "<tr>\n",
       "  <th>finance_keyword_ratio</th>                <td>   -0.0158</td> <td>    0.002</td> <td>   -9.308</td> <td> 0.000</td> <td>   -0.019</td> <td>   -0.012</td>\n",
       "</tr>\n",
       "<tr>\n",
       "  <th>information_technology_keyword_ratio</th> <td>    0.0048</td> <td>    0.001</td> <td>    4.384</td> <td> 0.000</td> <td>    0.003</td> <td>    0.007</td>\n",
       "</tr>\n",
       "<tr>\n",
       "  <th>music_keyword_ratio</th>                  <td>   -0.0002</td> <td>    0.001</td> <td>   -0.164</td> <td> 0.869</td> <td>   -0.002</td> <td>    0.002</td>\n",
       "</tr>\n",
       "<tr>\n",
       "  <th>defence_keyword_ratio</th>                <td>    0.0064</td> <td>    0.001</td> <td>    6.454</td> <td> 0.000</td> <td>    0.004</td> <td>    0.008</td>\n",
       "</tr>\n",
       "</table>\n",
       "<table class=\"simpletable\">\n",
       "<tr>\n",
       "  <th>Omnibus:</th>       <td>55955.944</td> <th>  Durbin-Watson:     </th>  <td>   0.862</td> \n",
       "</tr>\n",
       "<tr>\n",
       "  <th>Prob(Omnibus):</th>  <td> 0.000</td>   <th>  Jarque-Bera (JB):  </th> <td>597174.395</td>\n",
       "</tr>\n",
       "<tr>\n",
       "  <th>Skew:</th>           <td> 2.402</td>   <th>  Prob(JB):          </th>  <td>    0.00</td> \n",
       "</tr>\n",
       "<tr>\n",
       "  <th>Kurtosis:</th>       <td>13.742</td>   <th>  Cond. No.          </th>  <td>    59.5</td> \n",
       "</tr>\n",
       "</table><br/><br/>Warnings:<br/>[1] Standard Errors assume that the covariance matrix of the errors is correctly specified."
      ],
      "text/plain": [
       "<class 'statsmodels.iolib.summary.Summary'>\n",
       "\"\"\"\n",
       "                            OLS Regression Results                            \n",
       "==============================================================================\n",
       "Dep. Variable:             click_rate   R-squared:                       0.024\n",
       "Model:                            OLS   Adj. R-squared:                  0.024\n",
       "Method:                 Least Squares   F-statistic:                     108.1\n",
       "Date:                Sat, 06 Nov 2021   Prob (F-statistic):               0.00\n",
       "Time:                        19:20:58   Log-Likelihood:             3.1767e+05\n",
       "No. Observations:              103509   AIC:                        -6.353e+05\n",
       "Df Residuals:                  103484   BIC:                        -6.350e+05\n",
       "Df Model:                          24                                         \n",
       "Covariance Type:            nonrobust                                         \n",
       "========================================================================================================\n",
       "                                           coef    std err          t      P>|t|      [0.025      0.975]\n",
       "--------------------------------------------------------------------------------------------------------\n",
       "Intercept                                0.0152   7.81e-05    194.968      0.000       0.015       0.015\n",
       "political_keyword_ratio                 -0.0075      0.001     -9.876      0.000      -0.009      -0.006\n",
       "business_keyword_ratio                  -0.0071      0.001    -10.184      0.000      -0.008      -0.006\n",
       "science_keyword_ratio                    0.0043      0.001      3.639      0.000       0.002       0.007\n",
       "technology_keyword_ratio                -0.0172      0.001    -15.296      0.000      -0.019      -0.015\n",
       "entertainment_keyword_ratio              0.0077      0.001      6.910      0.000       0.006       0.010\n",
       "lifestyle_keyword_ratio                 -0.0088      0.001     -7.668      0.000      -0.011      -0.007\n",
       "health_keyword_ratio                    -0.0129      0.001    -14.113      0.000      -0.015      -0.011\n",
       "multicultural_keyword_ratio             -0.0039      0.002     -2.024      0.043      -0.008      -0.000\n",
       "sports_keyword_ratio                     0.0036      0.001      4.441      0.000       0.002       0.005\n",
       "education_keyword_ratio                 -0.0025      0.001     -2.509      0.012      -0.005      -0.001\n",
       "crime_keyword_ratio                      0.0023      0.001      2.340      0.019       0.000       0.004\n",
       "relationship_keyword_ratio               0.0015      0.001      1.651      0.099      -0.000       0.003\n",
       "marriage_keyword_ratio                   0.0105      0.001     16.836      0.000       0.009       0.012\n",
       "gaming_keyword_ratio                    -0.0062      0.001     -7.535      0.000      -0.008      -0.005\n",
       "migration_keyword_ratio                 -0.0155      0.001    -11.306      0.000      -0.018      -0.013\n",
       "tourism_keyword_ratio                    0.0041      0.002      2.473      0.013       0.001       0.007\n",
       "medicine_keyword_ratio                  -0.0053      0.001     -3.947      0.000      -0.008      -0.003\n",
       "insurance_keyword_ratio                 -0.0102      0.002     -6.677      0.000      -0.013      -0.007\n",
       "career_keyword_ratio                     0.0051      0.001      8.005      0.000       0.004       0.006\n",
       "economic_keyword_ratio                  -0.0057      0.001     -9.609      0.000      -0.007      -0.005\n",
       "finance_keyword_ratio                   -0.0158      0.002     -9.308      0.000      -0.019      -0.012\n",
       "information_technology_keyword_ratio     0.0048      0.001      4.384      0.000       0.003       0.007\n",
       "music_keyword_ratio                     -0.0002      0.001     -0.164      0.869      -0.002       0.002\n",
       "defence_keyword_ratio                    0.0064      0.001      6.454      0.000       0.004       0.008\n",
       "==============================================================================\n",
       "Omnibus:                    55955.944   Durbin-Watson:                   0.862\n",
       "Prob(Omnibus):                  0.000   Jarque-Bera (JB):           597174.395\n",
       "Skew:                           2.402   Prob(JB):                         0.00\n",
       "Kurtosis:                      13.742   Cond. No.                         59.5\n",
       "==============================================================================\n",
       "\n",
       "Warnings:\n",
       "[1] Standard Errors assume that the covariance matrix of the errors is correctly specified.\n",
       "\"\"\""
      ]
     },
     "execution_count": 206,
     "metadata": {},
     "output_type": "execute_result"
    }
   ],
   "source": [
    "independent_variables = \" + \".join(topic_columns)# + \" + image_id\"\n",
    "model = smf.ols(formula=\"click_rate ~ %s\" % independent_variables, data=design_df).fit()\n",
    "model.summary()"
   ]
  },
  {
   "cell_type": "code",
   "execution_count": null,
   "metadata": {
    "id": "cFCMBxnysHV9"
   },
   "outputs": [],
   "source": [
    "# for root, subFolders, files in os.walk(filepath):\n",
    "\n",
    "#     for folder in subFolders:\n",
    "#         print(folder)\n",
    "\n",
    "#         for file in files:\n",
    "#             filePath = root + '/' + file\n",
    "#             f = open( filePath, 'r' )\n",
    "#             toWrite = f.read()\n",
    "#             print (\"Writing '\" + toWrite + \"' to\" + filePath)\n",
    "#             folderOut.write( toWrite )\n",
    "#             f.close()\n",
    "\n",
    "#         folderOut.close()"
   ]
  },
  {
   "cell_type": "markdown",
   "metadata": {
    "id": "Q6wcmXlMH1K3"
   },
   "source": [
    "# Comparison between headlines of similar content, but different structure"
   ]
  },
  {
   "cell_type": "code",
   "execution_count": null,
   "metadata": {
    "id": "3n94dJE7H8r-"
   },
   "outputs": [],
   "source": [
    "import nltk\n",
    "nltk.download('punkt') # pounctuation data needed for sentence splitting\n",
    "nltk.download('averaged_perceptron_tagger') # needed for tokenizing words"
   ]
  },
  {
   "cell_type": "code",
   "execution_count": null,
   "metadata": {
    "id": "xNWB4wxxJDYH"
   },
   "outputs": [],
   "source": [
    "filename = \"packages_cleaned.csv\"\n",
    "packages_df = pd.read_csv(filepath+filename, index_col=0)"
   ]
  },
  {
   "cell_type": "code",
   "execution_count": null,
   "metadata": {
    "id": "D2L_5MvLMKew"
   },
   "outputs": [],
   "source": [
    "len(packages_df[[\"test_id\",\"headline\",\"image_id\"]].drop_duplicates()), len(packages_df)"
   ]
  },
  {
   "cell_type": "code",
   "execution_count": null,
   "metadata": {
    "colab": {
     "base_uri": "https://localhost:8080/",
     "height": 352
    },
    "id": "laH8uE2WNI_e",
    "outputId": "776f0648-8bce-4757-fc32-1ab8a34147c7"
   },
   "outputs": [
    {
     "ename": "KeyError",
     "evalue": "ignored",
     "output_type": "error",
     "traceback": [
      "\u001b[0;31m---------------------------------------------------------------------------\u001b[0m",
      "\u001b[0;31mKeyError\u001b[0m                                  Traceback (most recent call last)",
      "\u001b[0;32m<ipython-input-127-c487c442e6f1>\u001b[0m in \u001b[0;36m<module>\u001b[0;34m()\u001b[0m\n\u001b[1;32m      8\u001b[0m \u001b[0maggregate_packages_df\u001b[0m \u001b[0;34m=\u001b[0m \u001b[0maggregate_packages_df\u001b[0m\u001b[0;34m.\u001b[0m\u001b[0mmerge\u001b[0m\u001b[0;34m(\u001b[0m\u001b[0maggregate_packages_df_3\u001b[0m\u001b[0;34m,\u001b[0m \u001b[0mleft_index\u001b[0m\u001b[0;34m=\u001b[0m\u001b[0;32mTrue\u001b[0m\u001b[0;34m,\u001b[0m \u001b[0mright_on\u001b[0m\u001b[0;34m=\u001b[0m\u001b[0;34m[\u001b[0m\u001b[0;34m\"test_id\"\u001b[0m\u001b[0;34m,\u001b[0m \u001b[0;34m\"headline\"\u001b[0m\u001b[0;34m,\u001b[0m \u001b[0;34m\"image_id\"\u001b[0m\u001b[0;34m]\u001b[0m\u001b[0;34m)\u001b[0m\u001b[0;34m\u001b[0m\u001b[0;34m\u001b[0m\u001b[0m\n\u001b[1;32m      9\u001b[0m \u001b[0maggregate_packages_df\u001b[0m\u001b[0;34m[\u001b[0m\u001b[0;34m\"click_rate\"\u001b[0m\u001b[0;34m]\u001b[0m \u001b[0;34m=\u001b[0m \u001b[0maggregate_packages_df\u001b[0m\u001b[0;34m[\u001b[0m\u001b[0;34m\"clicks\"\u001b[0m\u001b[0;34m]\u001b[0m \u001b[0;34m/\u001b[0m \u001b[0maggregate_packages_df\u001b[0m\u001b[0;34m[\u001b[0m\u001b[0;34m\"impressions\"\u001b[0m\u001b[0;34m]\u001b[0m\u001b[0;34m\u001b[0m\u001b[0;34m\u001b[0m\u001b[0m\n\u001b[0;32m---> 10\u001b[0;31m \u001b[0maggregate_packages_df\u001b[0m \u001b[0;34m=\u001b[0m \u001b[0maggregate_packages_df\u001b[0m\u001b[0;34m[\u001b[0m\u001b[0maggregate_packages_df\u001b[0m\u001b[0;34m.\u001b[0m\u001b[0mduplicated\u001b[0m\u001b[0;34m(\u001b[0m\u001b[0;34m[\u001b[0m\u001b[0;34m\"test_id\"\u001b[0m\u001b[0;34m,\u001b[0m \u001b[0;34m\"image_id\"\u001b[0m\u001b[0;34m]\u001b[0m\u001b[0;34m,\u001b[0m \u001b[0mkeep\u001b[0m\u001b[0;34m=\u001b[0m\u001b[0;32mFalse\u001b[0m\u001b[0;34m)\u001b[0m\u001b[0;34m]\u001b[0m\u001b[0;34m\u001b[0m\u001b[0;34m\u001b[0m\u001b[0m\n\u001b[0m\u001b[1;32m     11\u001b[0m \u001b[0maggregate_packages_df\u001b[0m\u001b[0;34m.\u001b[0m\u001b[0mreset_index\u001b[0m\u001b[0;34m(\u001b[0m\u001b[0minplace\u001b[0m\u001b[0;34m=\u001b[0m\u001b[0;32mTrue\u001b[0m\u001b[0;34m)\u001b[0m\u001b[0;34m\u001b[0m\u001b[0;34m\u001b[0m\u001b[0m\n",
      "\u001b[0;32m/usr/local/lib/python3.7/dist-packages/pandas/core/frame.py\u001b[0m in \u001b[0;36mduplicated\u001b[0;34m(self, subset, keep)\u001b[0m\n\u001b[1;32m   5246\u001b[0m         \u001b[0mdiff\u001b[0m \u001b[0;34m=\u001b[0m \u001b[0mIndex\u001b[0m\u001b[0;34m(\u001b[0m\u001b[0msubset\u001b[0m\u001b[0;34m)\u001b[0m\u001b[0;34m.\u001b[0m\u001b[0mdifference\u001b[0m\u001b[0;34m(\u001b[0m\u001b[0mself\u001b[0m\u001b[0;34m.\u001b[0m\u001b[0mcolumns\u001b[0m\u001b[0;34m)\u001b[0m\u001b[0;34m\u001b[0m\u001b[0;34m\u001b[0m\u001b[0m\n\u001b[1;32m   5247\u001b[0m         \u001b[0;32mif\u001b[0m \u001b[0;32mnot\u001b[0m \u001b[0mdiff\u001b[0m\u001b[0;34m.\u001b[0m\u001b[0mempty\u001b[0m\u001b[0;34m:\u001b[0m\u001b[0;34m\u001b[0m\u001b[0;34m\u001b[0m\u001b[0m\n\u001b[0;32m-> 5248\u001b[0;31m             \u001b[0;32mraise\u001b[0m \u001b[0mKeyError\u001b[0m\u001b[0;34m(\u001b[0m\u001b[0mdiff\u001b[0m\u001b[0;34m)\u001b[0m\u001b[0;34m\u001b[0m\u001b[0;34m\u001b[0m\u001b[0m\n\u001b[0m\u001b[1;32m   5249\u001b[0m \u001b[0;34m\u001b[0m\u001b[0m\n\u001b[1;32m   5250\u001b[0m         \u001b[0mvals\u001b[0m \u001b[0;34m=\u001b[0m \u001b[0;34m(\u001b[0m\u001b[0mcol\u001b[0m\u001b[0;34m.\u001b[0m\u001b[0mvalues\u001b[0m \u001b[0;32mfor\u001b[0m \u001b[0mname\u001b[0m\u001b[0;34m,\u001b[0m \u001b[0mcol\u001b[0m \u001b[0;32min\u001b[0m \u001b[0mself\u001b[0m\u001b[0;34m.\u001b[0m\u001b[0mitems\u001b[0m\u001b[0;34m(\u001b[0m\u001b[0;34m)\u001b[0m \u001b[0;32mif\u001b[0m \u001b[0mname\u001b[0m \u001b[0;32min\u001b[0m \u001b[0msubset\u001b[0m\u001b[0;34m)\u001b[0m\u001b[0;34m\u001b[0m\u001b[0;34m\u001b[0m\u001b[0m\n",
      "\u001b[0;31mKeyError\u001b[0m: Index(['image_id', 'test_id'], dtype='object')"
     ]
    }
   ],
   "source": [
    "aggregate_packages_df_1 = packages_df[[\"test_id\", \"headline\", \"image_id\", \"clicks\", \"impressions\"]]\n",
    "aggregate_packages_df_1 = aggregate_packages_df_1.groupby(by=[\"test_id\", \"headline\", \"image_id\"]).sum()\n",
    "aggregate_packages_df_2 = packages_df[[\"test_id\", \"headline\", \"image_id\", \"test_week\", \"created_at\"]]\n",
    "aggregate_packages_df_2 = aggregate_packages_df_2.groupby(by=[\"test_id\", \"headline\", \"image_id\"]).first()\n",
    "aggregate_packages_df_3 = packages_df[[\"test_id\", \"headline\", \"image_id\", \"winner\", \"first_place\"]]\n",
    "aggregate_packages_df_3 = aggregate_packages_df_3.groupby(by=[\"test_id\", \"headline\", \"image_id\"]).mean()\n",
    "aggregate_packages_df = aggregate_packages_df_1.merge(aggregate_packages_df_2, on=[\"test_id\", \"headline\", \"image_id\"])\n",
    "aggregate_packages_df = aggregate_packages_df.merge(aggregate_packages_df_3, left_index=True, right_on=[\"test_id\", \"headline\", \"image_id\"])\n",
    "aggregate_packages_df[\"click_rate\"] = aggregate_packages_df[\"clicks\"] / aggregate_packages_df[\"impressions\"]\n",
    "aggregate_packages_df = aggregate_packages_df[aggregate_packages_df.duplicated([\"test_id\", \"image_id\"], keep=False)]\n",
    "aggregate_packages_df.reset_index(inplace=True)"
   ]
  },
  {
   "cell_type": "code",
   "execution_count": null,
   "metadata": {
    "id": "dY5BHUI7N61m"
   },
   "outputs": [],
   "source": [
    "grouped_package_dfs = list(aggregate_packages_df.groupby(by=[\"test_id\",\"image_id\"]))"
   ]
  },
  {
   "cell_type": "code",
   "execution_count": null,
   "metadata": {
    "colab": {
     "base_uri": "https://localhost:8080/",
     "height": 594
    },
    "id": "f9IgoR6fLGN_",
    "outputId": "18dfa4c7-b344-4957-920c-4efb618afc04"
   },
   "outputs": [
    {
     "ename": "KeyError",
     "evalue": "ignored",
     "output_type": "error",
     "traceback": [
      "\u001b[0;31m---------------------------------------------------------------------------\u001b[0m",
      "\u001b[0;31mKeyError\u001b[0m                                  Traceback (most recent call last)",
      "\u001b[0;32m/usr/local/lib/python3.7/dist-packages/pandas/core/indexes/base.py\u001b[0m in \u001b[0;36mget_loc\u001b[0;34m(self, key, method, tolerance)\u001b[0m\n\u001b[1;32m   2897\u001b[0m             \u001b[0;32mtry\u001b[0m\u001b[0;34m:\u001b[0m\u001b[0;34m\u001b[0m\u001b[0;34m\u001b[0m\u001b[0m\n\u001b[0;32m-> 2898\u001b[0;31m                 \u001b[0;32mreturn\u001b[0m \u001b[0mself\u001b[0m\u001b[0;34m.\u001b[0m\u001b[0m_engine\u001b[0m\u001b[0;34m.\u001b[0m\u001b[0mget_loc\u001b[0m\u001b[0;34m(\u001b[0m\u001b[0mcasted_key\u001b[0m\u001b[0;34m)\u001b[0m\u001b[0;34m\u001b[0m\u001b[0;34m\u001b[0m\u001b[0m\n\u001b[0m\u001b[1;32m   2899\u001b[0m             \u001b[0;32mexcept\u001b[0m \u001b[0mKeyError\u001b[0m \u001b[0;32mas\u001b[0m \u001b[0merr\u001b[0m\u001b[0;34m:\u001b[0m\u001b[0;34m\u001b[0m\u001b[0;34m\u001b[0m\u001b[0m\n",
      "\u001b[0;32mpandas/_libs/index.pyx\u001b[0m in \u001b[0;36mpandas._libs.index.IndexEngine.get_loc\u001b[0;34m()\u001b[0m\n",
      "\u001b[0;32mpandas/_libs/index.pyx\u001b[0m in \u001b[0;36mpandas._libs.index.IndexEngine.get_loc\u001b[0;34m()\u001b[0m\n",
      "\u001b[0;32mpandas/_libs/hashtable_class_helper.pxi\u001b[0m in \u001b[0;36mpandas._libs.hashtable.PyObjectHashTable.get_item\u001b[0;34m()\u001b[0m\n",
      "\u001b[0;32mpandas/_libs/hashtable_class_helper.pxi\u001b[0m in \u001b[0;36mpandas._libs.hashtable.PyObjectHashTable.get_item\u001b[0;34m()\u001b[0m\n",
      "\u001b[0;31mKeyError\u001b[0m: 'headline'",
      "\nThe above exception was the direct cause of the following exception:\n",
      "\u001b[0;31mKeyError\u001b[0m                                  Traceback (most recent call last)",
      "\u001b[0;32m<ipython-input-129-34c5d396652c>\u001b[0m in \u001b[0;36m<module>\u001b[0;34m()\u001b[0m\n\u001b[0;32m----> 1\u001b[0;31m \u001b[0mgrouped_package_dfs\u001b[0m\u001b[0;34m[\u001b[0m\u001b[0;36m0\u001b[0m\u001b[0;34m]\u001b[0m\u001b[0;34m[\u001b[0m\u001b[0;36m1\u001b[0m\u001b[0;34m]\u001b[0m\u001b[0;34m[\u001b[0m\u001b[0;34m\"headline\"\u001b[0m\u001b[0;34m]\u001b[0m\u001b[0;34m\u001b[0m\u001b[0;34m\u001b[0m\u001b[0m\n\u001b[0m",
      "\u001b[0;32m/usr/local/lib/python3.7/dist-packages/pandas/core/frame.py\u001b[0m in \u001b[0;36m__getitem__\u001b[0;34m(self, key)\u001b[0m\n\u001b[1;32m   2904\u001b[0m             \u001b[0;32mif\u001b[0m \u001b[0mself\u001b[0m\u001b[0;34m.\u001b[0m\u001b[0mcolumns\u001b[0m\u001b[0;34m.\u001b[0m\u001b[0mnlevels\u001b[0m \u001b[0;34m>\u001b[0m \u001b[0;36m1\u001b[0m\u001b[0;34m:\u001b[0m\u001b[0;34m\u001b[0m\u001b[0;34m\u001b[0m\u001b[0m\n\u001b[1;32m   2905\u001b[0m                 \u001b[0;32mreturn\u001b[0m \u001b[0mself\u001b[0m\u001b[0;34m.\u001b[0m\u001b[0m_getitem_multilevel\u001b[0m\u001b[0;34m(\u001b[0m\u001b[0mkey\u001b[0m\u001b[0;34m)\u001b[0m\u001b[0;34m\u001b[0m\u001b[0;34m\u001b[0m\u001b[0m\n\u001b[0;32m-> 2906\u001b[0;31m             \u001b[0mindexer\u001b[0m \u001b[0;34m=\u001b[0m \u001b[0mself\u001b[0m\u001b[0;34m.\u001b[0m\u001b[0mcolumns\u001b[0m\u001b[0;34m.\u001b[0m\u001b[0mget_loc\u001b[0m\u001b[0;34m(\u001b[0m\u001b[0mkey\u001b[0m\u001b[0;34m)\u001b[0m\u001b[0;34m\u001b[0m\u001b[0;34m\u001b[0m\u001b[0m\n\u001b[0m\u001b[1;32m   2907\u001b[0m             \u001b[0;32mif\u001b[0m \u001b[0mis_integer\u001b[0m\u001b[0;34m(\u001b[0m\u001b[0mindexer\u001b[0m\u001b[0;34m)\u001b[0m\u001b[0;34m:\u001b[0m\u001b[0;34m\u001b[0m\u001b[0;34m\u001b[0m\u001b[0m\n\u001b[1;32m   2908\u001b[0m                 \u001b[0mindexer\u001b[0m \u001b[0;34m=\u001b[0m \u001b[0;34m[\u001b[0m\u001b[0mindexer\u001b[0m\u001b[0;34m]\u001b[0m\u001b[0;34m\u001b[0m\u001b[0;34m\u001b[0m\u001b[0m\n",
      "\u001b[0;32m/usr/local/lib/python3.7/dist-packages/pandas/core/indexes/base.py\u001b[0m in \u001b[0;36mget_loc\u001b[0;34m(self, key, method, tolerance)\u001b[0m\n\u001b[1;32m   2898\u001b[0m                 \u001b[0;32mreturn\u001b[0m \u001b[0mself\u001b[0m\u001b[0;34m.\u001b[0m\u001b[0m_engine\u001b[0m\u001b[0;34m.\u001b[0m\u001b[0mget_loc\u001b[0m\u001b[0;34m(\u001b[0m\u001b[0mcasted_key\u001b[0m\u001b[0;34m)\u001b[0m\u001b[0;34m\u001b[0m\u001b[0;34m\u001b[0m\u001b[0m\n\u001b[1;32m   2899\u001b[0m             \u001b[0;32mexcept\u001b[0m \u001b[0mKeyError\u001b[0m \u001b[0;32mas\u001b[0m \u001b[0merr\u001b[0m\u001b[0;34m:\u001b[0m\u001b[0;34m\u001b[0m\u001b[0;34m\u001b[0m\u001b[0m\n\u001b[0;32m-> 2900\u001b[0;31m                 \u001b[0;32mraise\u001b[0m \u001b[0mKeyError\u001b[0m\u001b[0;34m(\u001b[0m\u001b[0mkey\u001b[0m\u001b[0;34m)\u001b[0m \u001b[0;32mfrom\u001b[0m \u001b[0merr\u001b[0m\u001b[0;34m\u001b[0m\u001b[0;34m\u001b[0m\u001b[0m\n\u001b[0m\u001b[1;32m   2901\u001b[0m \u001b[0;34m\u001b[0m\u001b[0m\n\u001b[1;32m   2902\u001b[0m         \u001b[0;32mif\u001b[0m \u001b[0mtolerance\u001b[0m \u001b[0;32mis\u001b[0m \u001b[0;32mnot\u001b[0m \u001b[0;32mNone\u001b[0m\u001b[0;34m:\u001b[0m\u001b[0;34m\u001b[0m\u001b[0;34m\u001b[0m\u001b[0m\n",
      "\u001b[0;31mKeyError\u001b[0m: 'headline'"
     ]
    }
   ],
   "source": [
    "grouped_package_dfs[0][1][\"headline\"]"
   ]
  },
  {
   "cell_type": "code",
   "execution_count": null,
   "metadata": {
    "id": "YrKfCX0HH5Go"
   },
   "outputs": [],
   "source": [
    "position_tags = []\n",
    "tokens = []\n",
    "grouped_df = grouped_package_dfs[0][1]\n",
    "grouped_df.sort_values(by=\"click_rate\", ascending=False, inplace=True)\n",
    "headlines = grouped_df[\"headline\"]\n",
    "for text in headlines:\n",
    "    taggeds = []\n",
    "    tokenized_texts = []\n",
    "    sent_text = nltk.sent_tokenize(text) # this gives us a list of sentences\n",
    "    # now loop over each sentence and tokenize it separately\n",
    "    for sentence in sent_text:\n",
    "        tokenized_text = nltk.word_tokenize(sentence)\n",
    "        tokenized_texts += tokenized_text\n",
    "        tagged = nltk.pos_tag(tokenized_text)\n",
    "        taggeds += tagged\n",
    "    position_tags.append(dict(taggeds))\n",
    "    tokens += list(set(tokenized_texts) - set(tokens))\n",
    "tokens = np.array(tokens)\n",
    "tokens.sort()\n",
    "token_df = pd.DataFrame(index=tokens, columns=range(len(headlines)))\n",
    "for i in range(len(headlines)):\n",
    "    for j, token in enumerate(tokens):\n",
    "        if token in position_tags[i]:\n",
    "            token_df.iloc[j,i] = position_tags[i][token]\n",
    "            position_tags[i].pop(token, None)"
   ]
  },
  {
   "cell_type": "markdown",
   "metadata": {
    "id": "SrHN4Vrvd4_K"
   },
   "source": [
    "Compute how different the rest of the headline are compared to the **best** one!"
   ]
  },
  {
   "cell_type": "code",
   "execution_count": null,
   "metadata": {
    "id": "wgp7bRKifIE3"
   },
   "outputs": [],
   "source": [
    "token_df[\"length\"] = token_df.index.str.len()\n",
    "token_df.sort_values(by=\"length\", ascending=False, inplace=True)\n",
    "success_tags = pd.concat([token_df.iloc[:,0:1]] * (len(headlines)-1), axis=1, ignore_index=True)\n",
    "success_tags.columns = columns=range(1,len(headlines))\n",
    "success_tags.fillna(value=\"xixi\", inplace=True)\n",
    "original_tags = token_df.iloc[:,1:-1].copy()\n",
    "original_tags.fillna(value=\"xixi\", inplace=True)\n",
    "\n",
    "similarity_df = (success_tags == original_tags).sum(axis=1).to_frame(\"similarity\")\n",
    "similarity_df[\"length\"] = similarity_df.index.str.len()\n",
    "similarity_df.sort_values(by=[\"similarity\", \"length\"], inplace=True, ascending=[True, False])"
   ]
  },
  {
   "cell_type": "code",
   "execution_count": null,
   "metadata": {
    "id": "UXVZJgO6e2-g"
   },
   "outputs": [],
   "source": [
    "number_critical_words = 7\n",
    "similarity_df.index[:number_critical_words]"
   ]
  },
  {
   "cell_type": "markdown",
   "metadata": {
    "id": "_DiOIe3kkn60"
   },
   "source": [
    "These are the words that makes the successful headline markedly different from the rest!"
   ]
  },
  {
   "cell_type": "code",
   "execution_count": null,
   "metadata": {
    "id": "DdxWfvsDoPtY"
   },
   "outputs": [],
   "source": [
    "len(grouped_package_dfs)"
   ]
  },
  {
   "cell_type": "markdown",
   "metadata": {
    "id": "MoP5qD0WqU9l"
   },
   "source": [
    "Automated process of producing critical words for headline success!"
   ]
  },
  {
   "cell_type": "code",
   "execution_count": null,
   "metadata": {
    "id": "wuW151pTkMyj"
   },
   "outputs": [],
   "source": [
    "number_critical_words = 7\n",
    "success_datas = []\n",
    "for i in range(len(grouped_package_dfs)):\n",
    "    if i % 100 == 0:\n",
    "        print(i)\n",
    "    position_tags = []\n",
    "    tokens = []\n",
    "    grouped_df = grouped_package_dfs[i][1]\n",
    "    grouped_df.sort_values(by=\"click_rate\", ascending=False, inplace=True)\n",
    "    headlines = grouped_df[\"headline\"]\n",
    "    for text in headlines:\n",
    "        taggeds = []\n",
    "        tokenized_texts = []\n",
    "        sent_text = nltk.sent_tokenize(text) # this gives us a list of sentences\n",
    "        # now loop over each sentence and tokenize it separately\n",
    "        for sentence in sent_text:\n",
    "            tokenized_text = nltk.word_tokenize(sentence)\n",
    "            tokenized_texts += tokenized_text\n",
    "            tagged = nltk.pos_tag(tokenized_text)\n",
    "            taggeds += tagged\n",
    "        position_tags.append(dict(taggeds))\n",
    "        tokens += list(set(tokenized_texts) - set(tokens))\n",
    "    tokens = np.array(tokens)\n",
    "    tokens.sort()\n",
    "    token_df = pd.DataFrame(index=tokens, columns=range(len(headlines)))\n",
    "    for i in range(len(headlines)):\n",
    "        for j, token in enumerate(tokens):\n",
    "            if token in position_tags[i]:\n",
    "                token_df.iloc[j,i] = position_tags[i][token]\n",
    "                position_tags[i].pop(token, None)\n",
    "\n",
    "    token_df[\"length\"] = token_df.index.str.len()\n",
    "    token_df.sort_values(by=\"length\", ascending=False, inplace=True)\n",
    "    success_tags = pd.concat([token_df.iloc[:,0:1]] * (len(headlines)-1), axis=1, ignore_index=True)\n",
    "    success_tags.columns = columns=range(1,len(headlines))\n",
    "    success_tags.fillna(value=\"xixi\", inplace=True)\n",
    "    original_tags = token_df.iloc[:,1:-1].copy()\n",
    "    original_tags.fillna(value=\"xixi\", inplace=True)\n",
    "\n",
    "    similarity_df = (success_tags == original_tags).sum(axis=1).to_frame(\"similarity\")\n",
    "    similarity_df[\"length\"] = similarity_df.index.str.len()\n",
    "    similarity_df.sort_values(by=[\"similarity\", \"length\"], inplace=True, ascending=[True, False])\n",
    "\n",
    "    critical_words = similarity_df.index[:number_critical_words].values\n",
    "    meta_data = grouped_df.iloc[0][[\"impressions\",\"created_at\",\"test_week\"]].values\n",
    "    success_datas.append(np.concatenate([meta_data,critical_words]))"
   ]
  },
  {
   "cell_type": "code",
   "execution_count": null,
   "metadata": {
    "id": "rAYHATcQpdfk"
   },
   "outputs": [],
   "source": [
    "success_datas = list(success_datas)"
   ]
  },
  {
   "cell_type": "code",
   "execution_count": null,
   "metadata": {
    "id": "gWvwZRowpigl"
   },
   "outputs": [],
   "source": [
    "columns = [\"impressions\", \"created_at\", \"test_week\"]+[\"critical_word_\"+str(x) for x in range(number_critical_words)]\n",
    "success_df = pd.DataFrame(success_datas, columns=columns)"
   ]
  },
  {
   "cell_type": "code",
   "execution_count": null,
   "metadata": {
    "id": "WxIM0HKPrcXp"
   },
   "outputs": [],
   "source": [
    "filename = \"success_critical_words.csv\"\n",
    "success_df.to_csv(filepath+filename)"
   ]
  },
  {
   "cell_type": "code",
   "execution_count": null,
   "metadata": {
    "id": "d7eGER-gqNPB"
   },
   "outputs": [],
   "source": [
    "success_df.head()"
   ]
  },
  {
   "cell_type": "markdown",
   "metadata": {
    "id": "N7w-vC58jYTa"
   },
   "source": [
    "# Kate Scribbles"
   ]
  },
  {
   "cell_type": "code",
   "execution_count": null,
   "metadata": {
    "id": "OQ2yK8srKRg2"
   },
   "outputs": [],
   "source": [
    "# total_topical_keyword_ratio_df.info()"
   ]
  },
  {
   "cell_type": "code",
   "execution_count": null,
   "metadata": {
    "colab": {
     "base_uri": "https://localhost:8080/"
    },
    "id": "v55QVOasKS3Y",
    "outputId": "2b10c33b-d8f2-467c-ecb9-56e0c7d59857"
   },
   "outputs": [
    {
     "data": {
      "text/plain": [
       "24"
      ]
     },
     "execution_count": 154,
     "metadata": {},
     "output_type": "execute_result"
    }
   ],
   "source": [
    "len(topics)"
   ]
  },
  {
   "cell_type": "code",
   "execution_count": null,
   "metadata": {
    "id": "bx0I-Vrrric3"
   },
   "outputs": [],
   "source": [
    "topic_columns = [\"%s_keyword_ratio\" % topic for topic in topics]\n",
    "temp = design_df[[\"click_rate\"]+topic_columns].copy()"
   ]
  },
  {
   "cell_type": "code",
   "execution_count": null,
   "metadata": {
    "colab": {
     "base_uri": "https://localhost:8080/"
    },
    "id": "0BSiStrdcGhn",
    "outputId": "d35adf74-ab8f-4133-d711-7ff0bb4cfc8e"
   },
   "outputs": [
    {
     "data": {
      "text/plain": [
       "False    102258\n",
       "True       1251\n",
       "dtype: int64"
      ]
     },
     "execution_count": 164,
     "metadata": {},
     "output_type": "execute_result"
    }
   ],
   "source": [
    "# Checking if any titles still score 0 across all the categories\n",
    "test = design_df[topic_columns].copy()\n",
    "(test.sum(axis=1) == 0).value_counts()"
   ]
  },
  {
   "cell_type": "code",
   "execution_count": null,
   "metadata": {
    "colab": {
     "base_uri": "https://localhost:8080/",
     "height": 226
    },
    "id": "kqi1xe3RFgQL",
    "outputId": "156ced88-a626-4dce-c9fa-334f8efe212a"
   },
   "outputs": [
    {
     "data": {
      "text/html": [
       "<div>\n",
       "<style scoped>\n",
       "    .dataframe tbody tr th:only-of-type {\n",
       "        vertical-align: middle;\n",
       "    }\n",
       "\n",
       "    .dataframe tbody tr th {\n",
       "        vertical-align: top;\n",
       "    }\n",
       "\n",
       "    .dataframe thead th {\n",
       "        text-align: right;\n",
       "    }\n",
       "</style>\n",
       "<table border=\"1\" class=\"dataframe\">\n",
       "  <thead>\n",
       "    <tr style=\"text-align: right;\">\n",
       "      <th></th>\n",
       "      <th>click_rate</th>\n",
       "      <th>political_keyword_ratio</th>\n",
       "      <th>business_keyword_ratio</th>\n",
       "      <th>science_keyword_ratio</th>\n",
       "      <th>technology_keyword_ratio</th>\n",
       "      <th>entertainment_keyword_ratio</th>\n",
       "      <th>lifestyle_keyword_ratio</th>\n",
       "      <th>health_keyword_ratio</th>\n",
       "      <th>multicultural_keyword_ratio</th>\n",
       "      <th>sports_keyword_ratio</th>\n",
       "      <th>education_keyword_ratio</th>\n",
       "      <th>crime_keyword_ratio</th>\n",
       "      <th>relationship_keyword_ratio</th>\n",
       "      <th>marriage_keyword_ratio</th>\n",
       "      <th>gaming_keyword_ratio</th>\n",
       "      <th>migration_keyword_ratio</th>\n",
       "      <th>tourism_keyword_ratio</th>\n",
       "      <th>medicine_keyword_ratio</th>\n",
       "      <th>insurance_keyword_ratio</th>\n",
       "      <th>career_keyword_ratio</th>\n",
       "      <th>economic_keyword_ratio</th>\n",
       "      <th>finance_keyword_ratio</th>\n",
       "      <th>information_technology_keyword_ratio</th>\n",
       "      <th>music_keyword_ratio</th>\n",
       "      <th>defence_keyword_ratio</th>\n",
       "    </tr>\n",
       "  </thead>\n",
       "  <tbody>\n",
       "    <tr>\n",
       "      <th>43175</th>\n",
       "      <td>0.166667</td>\n",
       "      <td>0.000000</td>\n",
       "      <td>0.000000</td>\n",
       "      <td>0.071429</td>\n",
       "      <td>0.071429</td>\n",
       "      <td>0.071429</td>\n",
       "      <td>0.071429</td>\n",
       "      <td>0.0</td>\n",
       "      <td>0.000000</td>\n",
       "      <td>0.0</td>\n",
       "      <td>0.0</td>\n",
       "      <td>0.0</td>\n",
       "      <td>0.071429</td>\n",
       "      <td>0.071429</td>\n",
       "      <td>0.000000</td>\n",
       "      <td>0.0</td>\n",
       "      <td>0.0</td>\n",
       "      <td>0.0</td>\n",
       "      <td>0.000000</td>\n",
       "      <td>0.000000</td>\n",
       "      <td>0.000000</td>\n",
       "      <td>0.000000</td>\n",
       "      <td>0.071429</td>\n",
       "      <td>0.0</td>\n",
       "      <td>0.0</td>\n",
       "    </tr>\n",
       "    <tr>\n",
       "      <th>92417</th>\n",
       "      <td>0.166667</td>\n",
       "      <td>0.076923</td>\n",
       "      <td>0.153846</td>\n",
       "      <td>0.000000</td>\n",
       "      <td>0.000000</td>\n",
       "      <td>0.000000</td>\n",
       "      <td>0.000000</td>\n",
       "      <td>0.0</td>\n",
       "      <td>0.000000</td>\n",
       "      <td>0.0</td>\n",
       "      <td>0.0</td>\n",
       "      <td>0.0</td>\n",
       "      <td>0.000000</td>\n",
       "      <td>0.000000</td>\n",
       "      <td>0.076923</td>\n",
       "      <td>0.0</td>\n",
       "      <td>0.0</td>\n",
       "      <td>0.0</td>\n",
       "      <td>0.000000</td>\n",
       "      <td>0.153846</td>\n",
       "      <td>0.000000</td>\n",
       "      <td>0.000000</td>\n",
       "      <td>0.000000</td>\n",
       "      <td>0.0</td>\n",
       "      <td>0.0</td>\n",
       "    </tr>\n",
       "    <tr>\n",
       "      <th>32755</th>\n",
       "      <td>0.156101</td>\n",
       "      <td>0.000000</td>\n",
       "      <td>0.000000</td>\n",
       "      <td>0.000000</td>\n",
       "      <td>0.000000</td>\n",
       "      <td>0.000000</td>\n",
       "      <td>0.000000</td>\n",
       "      <td>0.0</td>\n",
       "      <td>0.000000</td>\n",
       "      <td>0.0</td>\n",
       "      <td>0.0</td>\n",
       "      <td>0.0</td>\n",
       "      <td>0.111111</td>\n",
       "      <td>0.222222</td>\n",
       "      <td>0.055556</td>\n",
       "      <td>0.0</td>\n",
       "      <td>0.0</td>\n",
       "      <td>0.0</td>\n",
       "      <td>0.000000</td>\n",
       "      <td>0.000000</td>\n",
       "      <td>0.111111</td>\n",
       "      <td>0.055556</td>\n",
       "      <td>0.000000</td>\n",
       "      <td>0.0</td>\n",
       "      <td>0.0</td>\n",
       "    </tr>\n",
       "    <tr>\n",
       "      <th>6697</th>\n",
       "      <td>0.148913</td>\n",
       "      <td>0.066667</td>\n",
       "      <td>0.000000</td>\n",
       "      <td>0.000000</td>\n",
       "      <td>0.000000</td>\n",
       "      <td>0.000000</td>\n",
       "      <td>0.000000</td>\n",
       "      <td>0.0</td>\n",
       "      <td>0.066667</td>\n",
       "      <td>0.0</td>\n",
       "      <td>0.0</td>\n",
       "      <td>0.0</td>\n",
       "      <td>0.000000</td>\n",
       "      <td>0.066667</td>\n",
       "      <td>0.000000</td>\n",
       "      <td>0.0</td>\n",
       "      <td>0.0</td>\n",
       "      <td>0.0</td>\n",
       "      <td>0.066667</td>\n",
       "      <td>0.000000</td>\n",
       "      <td>0.066667</td>\n",
       "      <td>0.000000</td>\n",
       "      <td>0.000000</td>\n",
       "      <td>0.0</td>\n",
       "      <td>0.2</td>\n",
       "    </tr>\n",
       "    <tr>\n",
       "      <th>32756</th>\n",
       "      <td>0.137211</td>\n",
       "      <td>0.000000</td>\n",
       "      <td>0.000000</td>\n",
       "      <td>0.000000</td>\n",
       "      <td>0.000000</td>\n",
       "      <td>0.000000</td>\n",
       "      <td>0.000000</td>\n",
       "      <td>0.0</td>\n",
       "      <td>0.000000</td>\n",
       "      <td>0.0</td>\n",
       "      <td>0.0</td>\n",
       "      <td>0.0</td>\n",
       "      <td>0.111111</td>\n",
       "      <td>0.222222</td>\n",
       "      <td>0.055556</td>\n",
       "      <td>0.0</td>\n",
       "      <td>0.0</td>\n",
       "      <td>0.0</td>\n",
       "      <td>0.000000</td>\n",
       "      <td>0.000000</td>\n",
       "      <td>0.111111</td>\n",
       "      <td>0.055556</td>\n",
       "      <td>0.000000</td>\n",
       "      <td>0.0</td>\n",
       "      <td>0.0</td>\n",
       "    </tr>\n",
       "  </tbody>\n",
       "</table>\n",
       "</div>"
      ],
      "text/plain": [
       "       click_rate  ...  defence_keyword_ratio\n",
       "43175    0.166667  ...                    0.0\n",
       "92417    0.166667  ...                    0.0\n",
       "32755    0.156101  ...                    0.0\n",
       "6697     0.148913  ...                    0.2\n",
       "32756    0.137211  ...                    0.0\n",
       "\n",
       "[5 rows x 25 columns]"
      ]
     },
     "execution_count": 165,
     "metadata": {},
     "output_type": "execute_result"
    }
   ],
   "source": [
    "temp.nlargest(5, [\"click_rate\"])"
   ]
  },
  {
   "cell_type": "code",
   "execution_count": null,
   "metadata": {
    "colab": {
     "base_uri": "https://localhost:8080/"
    },
    "id": "-8Gl_NrX0NDL",
    "outputId": "1cde63e3-55c0-46ef-ea3e-f1da3ba5468b"
   },
   "outputs": [
    {
     "data": {
      "text/plain": [
       "43175                   science_keyword_ratio\n",
       "92417                  business_keyword_ratio\n",
       "32755                  marriage_keyword_ratio\n",
       "6697                    defence_keyword_ratio\n",
       "32756                  marriage_keyword_ratio\n",
       "24947                    sports_keyword_ratio\n",
       "32757                  marriage_keyword_ratio\n",
       "32758                  marriage_keyword_ratio\n",
       "66165                    gaming_keyword_ratio\n",
       "6698                    defence_keyword_ratio\n",
       "6701                  political_keyword_ratio\n",
       "52516                 political_keyword_ratio\n",
       "6686                  political_keyword_ratio\n",
       "49668                 political_keyword_ratio\n",
       "49657                 political_keyword_ratio\n",
       "32759                  marriage_keyword_ratio\n",
       "52517                 political_keyword_ratio\n",
       "49667                 political_keyword_ratio\n",
       "24907                    sports_keyword_ratio\n",
       "49666                 political_keyword_ratio\n",
       "6699                    defence_keyword_ratio\n",
       "52518                 political_keyword_ratio\n",
       "61709                 political_keyword_ratio\n",
       "18536                   science_keyword_ratio\n",
       "24950    information_technology_keyword_ratio\n",
       "17640                  marriage_keyword_ratio\n",
       "52519                 political_keyword_ratio\n",
       "18530              relationship_keyword_ratio\n",
       "66166                    gaming_keyword_ratio\n",
       "24935                  business_keyword_ratio\n",
       "dtype: object"
      ]
     },
     "execution_count": 182,
     "metadata": {},
     "output_type": "execute_result"
    }
   ],
   "source": [
    "highest_n = 30\n",
    "mask = (temp.nlargest(highest_n, [\"click_rate\"]).iloc[:, range(1,25)].sum(axis=1) != 0)\n",
    "temporary = temp.nlargest(highest_n, [\"click_rate\"]).iloc[:, range(1,25)].idxmax(axis=1) * mask\n",
    "temporary"
   ]
  },
  {
   "cell_type": "code",
   "execution_count": null,
   "metadata": {
    "id": "aV3NrhRz9zTx"
   },
   "outputs": [],
   "source": [
    "y_temp = []\n",
    "for i in range(11, 60):\n",
    "  temporary = temp.nlargest(i, [\"click_rate\"]).iloc[:, range(1,25)].idxmax(axis=1) * (temp.nlargest(i, [\"click_rate\"]).iloc[:, range(1,25)].sum(axis=1) != 0)\n",
    "  y_temp.append(temporary.value_counts('political_keyword_ratio').loc['political_keyword_ratio'])"
   ]
  },
  {
   "cell_type": "markdown",
   "metadata": {
    "id": "fW7YehtmduWO"
   },
   "source": [
    "For the highest "
   ]
  },
  {
   "cell_type": "code",
   "execution_count": null,
   "metadata": {
    "colab": {
     "base_uri": "https://localhost:8080/",
     "height": 421
    },
    "id": "pq1T3nlq-rEi",
    "outputId": "36c319c2-3629-4a64-f76d-0663b7a7eb7d"
   },
   "outputs": [
    {
     "data": {
      "text/plain": [
       "Text(0, 0.5, 'Ratio of political headlines to all headlines in top x click_rates')"
      ]
     },
     "execution_count": 187,
     "metadata": {},
     "output_type": "execute_result"
    },
    {
     "data": {
      "image/png": "[encoded data removed]",
      "text/plain": [
       "<Figure size 432x288 with 1 Axes>"
      ]
     },
     "metadata": {},
     "output_type": "display_data"
    }
   ],
   "source": [
    "plt.scatter(range(11, 60), y_temp)\n",
    "plt.xlabel(\"Top x click_rates\")\n",
    "plt.ylabel(\"Ratio of political headlines to all headlines in top x click_rates\")"
   ]
  },
  {
   "cell_type": "markdown",
   "metadata": {
    "id": "4CXXHOahexuj"
   },
   "source": []
  },
  {
   "cell_type": "code",
   "execution_count": null,
   "metadata": {
    "colab": {
     "base_uri": "https://localhost:8080/",
     "height": 226
    },
    "id": "vaxp4PoBdtGk",
    "outputId": "7fb36e23-948b-462b-ede5-1c2fc585cc61"
   },
   "outputs": [
    {
     "data": {
      "text/html": [
       "<div>\n",
       "<style scoped>\n",
       "    .dataframe tbody tr th:only-of-type {\n",
       "        vertical-align: middle;\n",
       "    }\n",
       "\n",
       "    .dataframe tbody tr th {\n",
       "        vertical-align: top;\n",
       "    }\n",
       "\n",
       "    .dataframe thead th {\n",
       "        text-align: right;\n",
       "    }\n",
       "</style>\n",
       "<table border=\"1\" class=\"dataframe\">\n",
       "  <thead>\n",
       "    <tr style=\"text-align: right;\">\n",
       "      <th></th>\n",
       "      <th>created_at</th>\n",
       "      <th>click_rate</th>\n",
       "      <th>political_keyword_ratio</th>\n",
       "      <th>business_keyword_ratio</th>\n",
       "      <th>science_keyword_ratio</th>\n",
       "      <th>technology_keyword_ratio</th>\n",
       "      <th>entertainment_keyword_ratio</th>\n",
       "      <th>lifestyle_keyword_ratio</th>\n",
       "      <th>health_keyword_ratio</th>\n",
       "      <th>multicultural_keyword_ratio</th>\n",
       "      <th>sports_keyword_ratio</th>\n",
       "      <th>education_keyword_ratio</th>\n",
       "      <th>crime_keyword_ratio</th>\n",
       "      <th>relationship_keyword_ratio</th>\n",
       "      <th>marriage_keyword_ratio</th>\n",
       "      <th>gaming_keyword_ratio</th>\n",
       "      <th>migration_keyword_ratio</th>\n",
       "      <th>tourism_keyword_ratio</th>\n",
       "      <th>medicine_keyword_ratio</th>\n",
       "      <th>insurance_keyword_ratio</th>\n",
       "      <th>career_keyword_ratio</th>\n",
       "      <th>economic_keyword_ratio</th>\n",
       "      <th>finance_keyword_ratio</th>\n",
       "      <th>information_technology_keyword_ratio</th>\n",
       "      <th>music_keyword_ratio</th>\n",
       "      <th>defence_keyword_ratio</th>\n",
       "    </tr>\n",
       "  </thead>\n",
       "  <tbody>\n",
       "    <tr>\n",
       "      <th>0</th>\n",
       "      <td>2014-12-23</td>\n",
       "      <td>0.002491</td>\n",
       "      <td>0.000000</td>\n",
       "      <td>0.0</td>\n",
       "      <td>0.000000</td>\n",
       "      <td>0.000000</td>\n",
       "      <td>0.000000</td>\n",
       "      <td>0.0</td>\n",
       "      <td>0.000000</td>\n",
       "      <td>0.000000</td>\n",
       "      <td>0.0</td>\n",
       "      <td>0.000000</td>\n",
       "      <td>0.071429</td>\n",
       "      <td>0.000000</td>\n",
       "      <td>0.000000</td>\n",
       "      <td>0.0</td>\n",
       "      <td>0.0</td>\n",
       "      <td>0.000000</td>\n",
       "      <td>0.000000</td>\n",
       "      <td>0.000000</td>\n",
       "      <td>0.0</td>\n",
       "      <td>0.000000</td>\n",
       "      <td>0.0</td>\n",
       "      <td>0.000000</td>\n",
       "      <td>0.142857</td>\n",
       "      <td>0.071429</td>\n",
       "    </tr>\n",
       "    <tr>\n",
       "      <th>1</th>\n",
       "      <td>2013-07-12</td>\n",
       "      <td>0.016411</td>\n",
       "      <td>0.000000</td>\n",
       "      <td>0.0</td>\n",
       "      <td>0.000000</td>\n",
       "      <td>0.000000</td>\n",
       "      <td>0.000000</td>\n",
       "      <td>0.0</td>\n",
       "      <td>0.000000</td>\n",
       "      <td>0.111111</td>\n",
       "      <td>0.0</td>\n",
       "      <td>0.000000</td>\n",
       "      <td>0.000000</td>\n",
       "      <td>0.000000</td>\n",
       "      <td>0.222222</td>\n",
       "      <td>0.0</td>\n",
       "      <td>0.0</td>\n",
       "      <td>0.111111</td>\n",
       "      <td>0.000000</td>\n",
       "      <td>0.111111</td>\n",
       "      <td>0.0</td>\n",
       "      <td>0.000000</td>\n",
       "      <td>0.0</td>\n",
       "      <td>0.000000</td>\n",
       "      <td>0.000000</td>\n",
       "      <td>0.000000</td>\n",
       "    </tr>\n",
       "    <tr>\n",
       "      <th>2</th>\n",
       "      <td>2014-07-14</td>\n",
       "      <td>0.009946</td>\n",
       "      <td>0.055556</td>\n",
       "      <td>0.0</td>\n",
       "      <td>0.000000</td>\n",
       "      <td>0.000000</td>\n",
       "      <td>0.000000</td>\n",
       "      <td>0.0</td>\n",
       "      <td>0.000000</td>\n",
       "      <td>0.000000</td>\n",
       "      <td>0.0</td>\n",
       "      <td>0.000000</td>\n",
       "      <td>0.000000</td>\n",
       "      <td>0.000000</td>\n",
       "      <td>0.000000</td>\n",
       "      <td>0.0</td>\n",
       "      <td>0.0</td>\n",
       "      <td>0.000000</td>\n",
       "      <td>0.000000</td>\n",
       "      <td>0.000000</td>\n",
       "      <td>0.0</td>\n",
       "      <td>0.055556</td>\n",
       "      <td>0.0</td>\n",
       "      <td>0.055556</td>\n",
       "      <td>0.000000</td>\n",
       "      <td>0.000000</td>\n",
       "    </tr>\n",
       "    <tr>\n",
       "      <th>3</th>\n",
       "      <td>2015-04-23</td>\n",
       "      <td>0.004427</td>\n",
       "      <td>0.000000</td>\n",
       "      <td>0.0</td>\n",
       "      <td>0.000000</td>\n",
       "      <td>0.000000</td>\n",
       "      <td>0.133333</td>\n",
       "      <td>0.0</td>\n",
       "      <td>0.000000</td>\n",
       "      <td>0.000000</td>\n",
       "      <td>0.0</td>\n",
       "      <td>0.000000</td>\n",
       "      <td>0.000000</td>\n",
       "      <td>0.000000</td>\n",
       "      <td>0.066667</td>\n",
       "      <td>0.0</td>\n",
       "      <td>0.0</td>\n",
       "      <td>0.066667</td>\n",
       "      <td>0.000000</td>\n",
       "      <td>0.000000</td>\n",
       "      <td>0.0</td>\n",
       "      <td>0.000000</td>\n",
       "      <td>0.0</td>\n",
       "      <td>0.066667</td>\n",
       "      <td>0.000000</td>\n",
       "      <td>0.066667</td>\n",
       "    </tr>\n",
       "    <tr>\n",
       "      <th>4</th>\n",
       "      <td>2014-04-08</td>\n",
       "      <td>0.005146</td>\n",
       "      <td>0.230769</td>\n",
       "      <td>0.0</td>\n",
       "      <td>0.153846</td>\n",
       "      <td>0.076923</td>\n",
       "      <td>0.230769</td>\n",
       "      <td>0.0</td>\n",
       "      <td>0.076923</td>\n",
       "      <td>0.076923</td>\n",
       "      <td>0.0</td>\n",
       "      <td>0.153846</td>\n",
       "      <td>0.000000</td>\n",
       "      <td>0.076923</td>\n",
       "      <td>0.000000</td>\n",
       "      <td>0.0</td>\n",
       "      <td>0.0</td>\n",
       "      <td>0.000000</td>\n",
       "      <td>0.076923</td>\n",
       "      <td>0.000000</td>\n",
       "      <td>0.0</td>\n",
       "      <td>0.076923</td>\n",
       "      <td>0.0</td>\n",
       "      <td>0.230769</td>\n",
       "      <td>0.000000</td>\n",
       "      <td>0.000000</td>\n",
       "    </tr>\n",
       "  </tbody>\n",
       "</table>\n",
       "</div>"
      ],
      "text/plain": [
       "   created_at  click_rate  ...  music_keyword_ratio  defence_keyword_ratio\n",
       "0  2014-12-23    0.002491  ...             0.142857               0.071429\n",
       "1  2013-07-12    0.016411  ...             0.000000               0.000000\n",
       "2  2014-07-14    0.009946  ...             0.000000               0.000000\n",
       "3  2015-04-23    0.004427  ...             0.000000               0.066667\n",
       "4  2014-04-08    0.005146  ...             0.000000               0.000000\n",
       "\n",
       "[5 rows x 26 columns]"
      ]
     },
     "execution_count": 148,
     "metadata": {},
     "output_type": "execute_result"
    }
   ],
   "source": [
    "topic_columns = [\"%s_keyword_ratio\" % topic for topic in topics]\n",
    "temp_with_dates = design_df[[\"created_at\", \"click_rate\"]+topic_columns].copy()\n",
    "temp_with_dates.head(5)"
   ]
  },
  {
   "cell_type": "code",
   "execution_count": null,
   "metadata": {
    "colab": {
     "base_uri": "https://localhost:8080/"
    },
    "id": "49D81pu-jL40",
    "outputId": "11f68331-2f2d-4363-b3e0-78281892b0cd"
   },
   "outputs": [
    {
     "data": {
      "text/plain": [
       "Series([], dtype: object)"
      ]
     },
     "execution_count": 149,
     "metadata": {},
     "output_type": "execute_result"
    }
   ],
   "source": [
    "n = 15\n",
    "a = temp_with_dates.nlargest(n, [\"click_rate\"]).iloc[:, range(1,25)].idxmax(axis=1) * (temp.nlargest(n, [\"click_rate\"]).iloc[:, range(1,25)].sum(axis=1) != 0)\n",
    "a.filter(items=[\"political_keyword_ratio\"], axis=0)\n",
    "#"
   ]
  },
  {
   "cell_type": "markdown",
   "metadata": {
    "id": "RMhleO_1wOUn"
   },
   "source": [
    "# Length of headlines (Junda)"
   ]
  },
  {
   "cell_type": "markdown",
   "metadata": {
    "id": "RpDSLXU0KMkj"
   },
   "source": [
    "Political headline length analysis(Still waiting for the merge table of political headline and click rate)"
   ]
  },
  {
   "cell_type": "code",
   "execution_count": null,
   "metadata": {
    "id": "Wb3PIfryp4pp"
   },
   "outputs": [],
   "source": [
    "import seaborn as sns\n",
    "political_keyword_ratio_df[\"headline_length\"] = political_keyword_ratio_df[\"headline\"].apply(lambda x: len(x))\n",
    "\n",
    "fig, ax = plt.subplots()\n",
    "_ = sns.distplot(political_keyword_ratio_df[\"headline_length\"], kde=False, rug=False,hist_kws={'alpha': 1}, ax=ax)\n",
    "_ = ax.set(xlabel=\"headline_length\", ylabel=\"Numbers\", xticks=range(0, 200, 10))"
   ]
  },
  {
   "cell_type": "code",
   "execution_count": null,
   "metadata": {
    "id": "lkulcMUKH-2I"
   },
   "outputs": [],
   "source": []
  },
  {
   "cell_type": "markdown",
   "metadata": {
    "id": "RSjfVCUuKVhG"
   },
   "source": [
    "Raw data headine length analysis"
   ]
  },
  {
   "cell_type": "code",
   "execution_count": null,
   "metadata": {
    "id": "oZJqzGJhKHa5"
   },
   "outputs": [],
   "source": [
    "#packages_df\n",
    "packages_df[\"headline_length\"] = packages_df[\"headline\"].apply(lambda x: len(x))\n",
    "\n",
    "fig, ax = plt.subplots()\n",
    "_ = sns.distplot(packages_df[\"headline_length\"], kde=False, rug=False,hist_kws={'alpha': 1}, ax=ax)\n",
    "_ = ax.set(xlabel=\"headline_length\", ylabel=\"Numbers\", xticks=range(0, 200, 10))"
   ]
  },
  {
   "cell_type": "code",
   "execution_count": null,
   "metadata": {
    "id": "dolv3I-pLvYo"
   },
   "outputs": [],
   "source": [
    "fig, ax = plt.subplots()\n",
    "_ = ax.scatter(packages_df[\"headline_length\"], y=packages_df['clicks'], edgecolors=\"#000000\", linewidths=0.5)\n",
    "_ = ax.set(xlabel=\"headline_length\", ylabel=\"clicks\")"
   ]
  },
  {
   "cell_type": "code",
   "execution_count": null,
   "metadata": {
    "id": "Xjb8y_8PMK3x"
   },
   "outputs": [],
   "source": [
    "fig, ax = plt.subplots()\n",
    "_ = ax.scatter(packages_df[\"headline_length\"], y=packages_df['impressions'], edgecolors=\"#000000\", linewidths=0.5)\n",
    "_ = ax.set(xlabel=\"headline_length\", ylabel=\"impressions\")"
   ]
  },
  {
   "cell_type": "code",
   "execution_count": null,
   "metadata": {
    "id": "-yEc-Mo4D3TI"
   },
   "outputs": [],
   "source": [
    "political_keyword_ratio_df[\"headline_length\"].describe()"
   ]
  },
  {
   "cell_type": "code",
   "execution_count": null,
   "metadata": {
    "id": "xY76N-VoMIl0"
   },
   "outputs": [],
   "source": []
  },
  {
   "cell_type": "code",
   "execution_count": null,
   "metadata": {
    "id": "EZJLAU1kLtbD"
   },
   "outputs": [],
   "source": []
  },
  {
   "cell_type": "code",
   "execution_count": null,
   "metadata": {
    "id": "fp8p-EDpH9C4"
   },
   "outputs": [],
   "source": []
  },
  {
   "cell_type": "code",
   "execution_count": null,
   "metadata": {
    "id": "p4E9NIJMEE71"
   },
   "outputs": [],
   "source": [
    "from collections import Counter\n",
    "headline_words = list(political_keyword_ratio_df[\"headline\"].apply(lambda x: x.split()))\n",
    "headline_words = [x for y in headline_words for x in y]\n",
    "Counter(headline_words).most_common(50)"
   ]
  },
  {
   "cell_type": "markdown",
   "metadata": {
    "id": "w1eSxrxuOQYv"
   },
   "source": [
    "# Zexin scribbles"
   ]
  },
  {
   "cell_type": "markdown",
   "metadata": {
    "id": "AmcsKvmiY2H6"
   },
   "source": [
    "## NLP!"
   ]
  },
  {
   "cell_type": "code",
   "execution_count": null,
   "metadata": {
    "id": "jWw61-4qY5YD"
   },
   "outputs": [],
   "source": [
    "import nltk\n",
    "nltk.download('punkt') # pounctuation data needed for sentence splitting\n",
    "nltk.download('averaged_perceptron_tagger') # needed for tokenizing words"
   ]
  },
  {
   "cell_type": "code",
   "execution_count": null,
   "metadata": {
    "id": "kdqsIc15ZBrD"
   },
   "outputs": [],
   "source": [
    "text = aggregate_packages_df.index[0][0]\n",
    "text"
   ]
  },
  {
   "cell_type": "code",
   "execution_count": null,
   "metadata": {
    "id": "O54iZEuXY5UD"
   },
   "outputs": [],
   "source": [
    "nltk.tokenize.sent_tokenize(text)"
   ]
  },
  {
   "cell_type": "code",
   "execution_count": null,
   "metadata": {
    "id": "GLG69jGUZfRa"
   },
   "outputs": [],
   "source": [
    "sent_text = nltk.sent_tokenize(text) # this gives us a list of sentences\n",
    "# now loop over each sentence and tokenize it separately\n",
    "for sentence in sent_text:\n",
    "    tokenized_text = nltk.word_tokenize(sentence)\n",
    "    tagged = nltk.pos_tag(tokenized_text)\n",
    "    print(tagged)"
   ]
  },
  {
   "cell_type": "code",
   "execution_count": null,
   "metadata": {
    "id": "cWQSgJ7VxPu3"
   },
   "outputs": [],
   "source": [
    "sentence = \"Wow! This is great! See you then.\"\n",
    "tokenized_text = nltk.word_tokenize(sentence)\n",
    "tokenized_text"
   ]
  },
  {
   "cell_type": "markdown",
   "metadata": {
    "id": "HmYwImFHGeuF"
   },
   "source": [
    "### Convert all headlines into word embeddings & compute distances"
   ]
  },
  {
   "cell_type": "code",
   "execution_count": null,
   "metadata": {
    "id": "eeylryDrYQ5-"
   },
   "outputs": [],
   "source": [
    "sparseXarray"
   ]
  },
  {
   "cell_type": "code",
   "execution_count": null,
   "metadata": {
    "id": "VZBA0wrtX_qo"
   },
   "outputs": [],
   "source": [
    "government_array = sparseXarray.getcol(all_words.index(\"government\")).toarray()\n",
    "unique_headlines[(government_array == 1)[:,0]]"
   ]
  },
  {
   "cell_type": "code",
   "execution_count": null,
   "metadata": {
    "id": "ApAq2fT4RF53"
   },
   "outputs": [],
   "source": [
    "X_array.shape"
   ]
  },
  {
   "cell_type": "code",
   "execution_count": null,
   "metadata": {
    "id": "ABiQpg75RH1E"
   },
   "outputs": [],
   "source": [
    "filename = \"headline_one_hot_encodings.npz\"\n",
    "sparseXarray_2 = sparse.load_npz(filepath+filename)"
   ]
  },
  {
   "cell_type": "markdown",
   "metadata": {
    "id": "loYoHbnmYyk4"
   },
   "source": [
    "## Investigations!"
   ]
  },
  {
   "cell_type": "code",
   "execution_count": null,
   "metadata": {
    "id": "ibJ5RIlGOb4Z"
   },
   "outputs": [],
   "source": [
    "packages_df[\"click_rate\"] = packages_df[\"clicks\"] / packages_df[\"impressions\"]"
   ]
  },
  {
   "cell_type": "code",
   "execution_count": null,
   "metadata": {
    "id": "iVYVlBqSTNM1"
   },
   "outputs": [],
   "source": [
    "packages_df.loc[packages_df[\"click_rate\"].argmax(), \"headline\"]"
   ]
  },
  {
   "cell_type": "code",
   "execution_count": null,
   "metadata": {
    "id": "kH5tGf5FTj6e"
   },
   "outputs": [],
   "source": [
    "packages_df.loc[packages_df[\"test_id\"]==\"51f7ff08f114bc18ba007025\", \"click_rate\"]"
   ]
  },
  {
   "cell_type": "code",
   "execution_count": null,
   "metadata": {
    "id": "j7L63tzlVImN"
   },
   "outputs": [],
   "source": [
    "packages_df.loc[packages_df[\"test_id\"]==\"51f7ff08f114bc18ba007025\", \"image_id\"]"
   ]
  },
  {
   "cell_type": "markdown",
   "metadata": {
    "id": "UDuy-iXCjhRi"
   },
   "source": [
    "**same image_id, different tests!**"
   ]
  },
  {
   "cell_type": "code",
   "execution_count": null,
   "metadata": {
    "id": "eQ6e9Pi6VNJl"
   },
   "outputs": [],
   "source": [
    "packages_df.loc[packages_df[\"image_id\"]==\"5332bdce1fae79f09f008a23\"]"
   ]
  },
  {
   "cell_type": "code",
   "execution_count": null,
   "metadata": {
    "id": "84YSLkg4TgTd"
   },
   "outputs": [],
   "source": [
    "packages_df.loc[packages_df[\"click_rate\"].argmax()]"
   ]
  },
  {
   "cell_type": "code",
   "execution_count": null,
   "metadata": {
    "id": "KBOdEEx6O9C0"
   },
   "outputs": [],
   "source": [
    "packages_df[\"click_rate\"].hist()"
   ]
  },
  {
   "cell_type": "code",
   "execution_count": null,
   "metadata": {
    "id": "MbjpwdBYPKw2"
   },
   "outputs": [],
   "source": [
    "packages_df.loc[packages_df[\"first_place\"], \"click_rate\"].hist()"
   ]
  },
  {
   "cell_type": "code",
   "execution_count": null,
   "metadata": {
    "id": "JHJIyElfPAxp"
   },
   "outputs": [],
   "source": [
    "packages_df.loc[packages_df[\"winner\"], \"click_rate\"].hist()"
   ]
  },
  {
   "cell_type": "code",
   "execution_count": null,
   "metadata": {
    "id": "qW3Q9JoCPXei"
   },
   "outputs": [],
   "source": [
    "packages_df.loc[packages_df[\"winner\"]&~packages_df[\"first_place\"], \"click_rate\"].hist()"
   ]
  },
  {
   "cell_type": "code",
   "execution_count": null,
   "metadata": {
    "id": "B1iu0pluPcVT"
   },
   "outputs": [],
   "source": [
    "packages_df.loc[~packages_df[\"winner\"]&packages_df[\"first_place\"], \"click_rate\"].hist()"
   ]
  },
  {
   "cell_type": "code",
   "execution_count": null,
   "metadata": {
    "id": "eU7zdkawRymh"
   },
   "outputs": [],
   "source": [
    "aggregate_packages_df.iloc[aggregate_packages_df[\"click_rate\"].argmax()]"
   ]
  },
  {
   "cell_type": "code",
   "execution_count": null,
   "metadata": {
    "id": "B9GZK5rESU6i"
   },
   "outputs": [],
   "source": [
    "aggregate_packages_df.loc[aggregate_packages_df[\"click_rate\"]>0.13]"
   ]
  },
  {
   "cell_type": "code",
   "execution_count": null,
   "metadata": {
    "id": "GC7Qwd5pSO1a"
   },
   "outputs": [],
   "source": [
    "sorted(aggregate_packages_df[\"click_rate\"])[-5:]"
   ]
  },
  {
   "cell_type": "code",
   "execution_count": null,
   "metadata": {
    "id": "qcmUf1irI-Na"
   },
   "outputs": [],
   "source": [
    "aggregate_packages_df[\"click_rate\"].hist()"
   ]
  },
  {
   "cell_type": "code",
   "execution_count": null,
   "metadata": {
    "id": "RoSniS1siNxV"
   },
   "outputs": [],
   "source": [
    "high_click_rate_test_weeks = pd.to_datetime(sorted(packages_df.loc[packages_df[\"click_rate\"] > 0.1, \"test_week\"].unique()))\n",
    "stub_pageviews = np.ones(len(high_click_rate_test_weeks)) * 1e7"
   ]
  },
  {
   "cell_type": "code",
   "execution_count": null,
   "metadata": {
    "id": "SXgWLZEPlr2A"
   },
   "outputs": [],
   "source": [
    "fig = plt.figure(figsize=(12,7))\n",
    "ax = plt.subplot(111)\n",
    "views_df.plot(ax=ax)\n",
    "ax.scatter(high_click_rate_test_weeks, stub_pageviews, marker=\"x\", color=\"blue\")\n",
    "plt.show()"
   ]
  },
  {
   "cell_type": "code",
   "execution_count": null,
   "metadata": {
    "id": "5d2O4p9WLDWN"
   },
   "outputs": [],
   "source": [
    "high_click_rate_test_weeks = pd.to_datetime(sorted(aggregate_packages_df.loc[aggregate_packages_df[\"click_rate\"] > 0.12, \"test_week\"].unique()))\n",
    "stub_pageviews = np.ones(len(high_click_rate_test_weeks)) * 1e7 * 0.5"
   ]
  },
  {
   "cell_type": "code",
   "execution_count": null,
   "metadata": {
    "id": "Oa7AFEuaLH0a"
   },
   "outputs": [],
   "source": [
    "fig = plt.figure(figsize=(12,7))\n",
    "ax = plt.subplot(111)\n",
    "views_df.plot(ax=ax)\n",
    "ax.scatter(high_click_rate_test_weeks, stub_pageviews, marker=\"x\", color=\"blue\", label=\"Peak Click Rate Package\")\n",
    "plt.xticks(fontsize=20)\n",
    "plt.yticks(fontsize=20)\n",
    "plt.show()\n",
    "filepath = \"/content/drive/My Drive/Plots/\"\n",
    "filename = \"pageviews_overlay_peak_clickrate.pdf\"\n",
    "fig.savefig(filepath+filename, bbox_inches=\"tight\")"
   ]
  },
  {
   "cell_type": "markdown",
   "metadata": {
    "id": "QSuJW9rlmwBA"
   },
   "source": [
    "maybe high pageviews are not related to high click rates...\n",
    "\n",
    "we go back to check the time for high pageviews and find what are the packages at that time!"
   ]
  },
  {
   "cell_type": "code",
   "execution_count": null,
   "metadata": {
    "id": "cdU5Uwopm75C"
   },
   "outputs": [],
   "source": [
    "views_df.iloc[views_df[\"pageviews\"].argmax()]"
   ]
  },
  {
   "cell_type": "code",
   "execution_count": null,
   "metadata": {
    "id": "peH3wRRZB_hS"
   },
   "outputs": [],
   "source": [
    "packages_df[[\"test_id\"]].value_counts()"
   ]
  },
  {
   "cell_type": "code",
   "execution_count": null,
   "metadata": {
    "id": "iVD9fhM3B2-L"
   },
   "outputs": [],
   "source": [
    "packages_df[[\"test_id\", \"headline\", \"image_id\"]].value_counts()"
   ]
  },
  {
   "cell_type": "code",
   "execution_count": null,
   "metadata": {
    "id": "U0u1LbbXoogk"
   },
   "outputs": [],
   "source": [
    "packages_df.loc[packages_df[\"test_week\"]=='2013-11-04'].describe()"
   ]
  },
  {
   "cell_type": "code",
   "execution_count": null,
   "metadata": {
    "id": "F5U_NX2zh--7"
   },
   "outputs": [],
   "source": [
    "len(packages_df.loc[packages_df[\"headline\"].str.lower().str.contains(\"katy\")])"
   ]
  },
  {
   "cell_type": "code",
   "execution_count": null,
   "metadata": {
    "id": "mnc0BNaBwtt9"
   },
   "outputs": [],
   "source": [
    "packages_df.loc[0]"
   ]
  },
  {
   "cell_type": "code",
   "execution_count": null,
   "metadata": {
    "id": "23GrLna5xgkr"
   },
   "outputs": [],
   "source": [
    "packages_df[\"lede\"].loc[0]"
   ]
  },
  {
   "cell_type": "code",
   "execution_count": null,
   "metadata": {
    "id": "8W1UJqCi193U"
   },
   "outputs": [],
   "source": [
    "packages_df[[\"test_id\", \"headline\", \"image_id\"]].value_counts()"
   ]
  },
  {
   "cell_type": "code",
   "execution_count": null,
   "metadata": {
    "id": "zdXkUU5N8_lN"
   },
   "outputs": [],
   "source": [
    "len(packages_df[packages_df[\"headline\"]==\"Dustin Hoffman Breaks Down Crying Explaining Something That Every Woman Sadly Already Experienced\"])"
   ]
  },
  {
   "cell_type": "code",
   "execution_count": null,
   "metadata": {
    "id": "QDtU43KR9T7n"
   },
   "outputs": [],
   "source": [
    "packages_df.loc[packages_df[\"headline\"]==\"Dustin Hoffman Breaks Down Crying Explaining Something That Every Woman Sadly Already Experienced\", \"test_id\"].value_counts()"
   ]
  },
  {
   "cell_type": "code",
   "execution_count": null,
   "metadata": {
    "id": "Hgrsa_xJ83nt"
   },
   "outputs": [],
   "source": [
    "packages_df[[\"test_id\", \"headline\"]].value_counts()"
   ]
  },
  {
   "cell_type": "code",
   "execution_count": null,
   "metadata": {
    "id": "tG9LifzR8cVE"
   },
   "outputs": [],
   "source": [
    "packages_df.loc[packages_df[\"test_id\"]==\"53ff1a0419cca26f1000002b\", \"lede\"].iloc[0]"
   ]
  },
  {
   "cell_type": "code",
   "execution_count": null,
   "metadata": {
    "id": "XPe2STCu1nQ0"
   },
   "outputs": [],
   "source": [
    "packages_df.loc[packages_df[\"test_id\"]==\"53ff1a0419cca26f1000002b\"]"
   ]
  },
  {
   "cell_type": "markdown",
   "metadata": {
    "id": "SVmh7wLHvKRP"
   },
   "source": [
    "# Josiah's Scribble"
   ]
  },
  {
   "cell_type": "code",
   "execution_count": 207,
   "metadata": {
    "colab": {
     "base_uri": "https://localhost:8080/",
     "height": 440
    },
    "id": "vXSBDxvDvMqQ",
    "outputId": "7ba11171-1805-4704-d560-61af1ddc1de4"
   },
   "outputs": [
    {
     "name": "stderr",
     "output_type": "stream",
     "text": [
      "/usr/local/lib/python3.7/dist-packages/ipykernel_launcher.py:3: SettingWithCopyWarning: \n",
      "A value is trying to be set on a copy of a slice from a DataFrame.\n",
      "Try using .loc[row_indexer,col_indexer] = value instead\n",
      "\n",
      "See the caveats in the documentation: https://pandas.pydata.org/pandas-docs/stable/user_guide/indexing.html#returning-a-view-versus-a-copy\n",
      "  This is separate from the ipykernel package so we can avoid doing imports until\n"
     ]
    },
    {
     "data": {
      "text/plain": [
       "(array([4.8110e+03, 1.7472e+04, 2.6464e+04, 2.5808e+04, 1.6763e+04,\n",
       "        8.1480e+03, 3.0270e+03, 8.2200e+02, 1.7100e+02, 2.3000e+01]),\n",
       " array([ 0.,  2.,  4.,  6.,  8., 10., 12., 14., 16., 18., 20.]),\n",
       " <a list of 10 Patch objects>)"
      ]
     },
     "execution_count": 207,
     "metadata": {},
     "output_type": "execute_result"
    },
    {
     "data": {
      "image/png": "[encoded data removed]",
      "text/plain": [
       "<Figure size 432x288 with 1 Axes>"
      ]
     },
     "metadata": {},
     "output_type": "display_data"
    }
   ],
   "source": [
    "test = design_df[topic_columns]\n",
    "for col in topic_columns:\n",
    "    test[col] = [1 if x!=0 else 0 for x in test[col]]\n",
    "num_cat = []\n",
    "for i in range(len(test)):\n",
    "    num_cat.append(sum(test.iloc[i,:]))\n",
    "plt.hist(num_cat)"
   ]
  },
  {
   "cell_type": "code",
   "execution_count": 208,
   "metadata": {
    "colab": {
     "base_uri": "https://localhost:8080/"
    },
    "id": "wOwdgUKI5VPK",
    "outputId": "e80fc27a-9505-4915-8d4f-2df053d462a0"
   },
   "outputs": [
    {
     "name": "stderr",
     "output_type": "stream",
     "text": [
      "/usr/local/lib/python3.7/dist-packages/ipykernel_launcher.py:14: SettingWithCopyWarning: \n",
      "A value is trying to be set on a copy of a slice from a DataFrame.\n",
      "Try using .loc[row_indexer,col_indexer] = value instead\n",
      "\n",
      "See the caveats in the documentation: https://pandas.pydata.org/pandas-docs/stable/user_guide/indexing.html#returning-a-view-versus-a-copy\n",
      "  \n"
     ]
    }
   ],
   "source": [
    "df = design_df\n",
    "df[\"num_cat\"] = num_cat\n",
    "for col in test.columns:\n",
    "    df.loc[:,col] = test.loc[:,col]\n",
    "\n",
    "others = []\n",
    "for i in range(len(num_cat)):\n",
    "    if num_cat[i]==0:\n",
    "        others.append(1)\n",
    "    else:\n",
    "        others.append(0)\n",
    "\n",
    "\n",
    "test[\"others\"] = others\n",
    "twoD_intersect = []\n",
    "for idx , col in enumerate(test):\n",
    "    temp = test.loc[test[col]==1,:]\n",
    "    row = []\n",
    "    for i , colm in enumerate(test):\n",
    "        row.append(sum(temp[colm]))\n",
    "    twoD_intersect.append(row)"
   ]
  },
  {
   "cell_type": "code",
   "execution_count": 209,
   "metadata": {
    "colab": {
     "base_uri": "https://localhost:8080/"
    },
    "id": "I0BzT-WeKYeU",
    "outputId": "75d248f4-8044-415f-cd8a-d299f64656a2"
   },
   "outputs": [
    {
     "data": {
      "text/plain": [
       "1251"
      ]
     },
     "execution_count": 209,
     "metadata": {},
     "output_type": "execute_result"
    }
   ],
   "source": [
    "sum(others)"
   ]
  },
  {
   "cell_type": "code",
   "execution_count": 210,
   "metadata": {
    "colab": {
     "base_uri": "https://localhost:8080/",
     "height": 794
    },
    "id": "nep0fT9m2Qtu",
    "outputId": "35b0eb1c-9ded-486a-f00b-de33661c6703"
   },
   "outputs": [
    {
     "data": {
      "text/plain": [
       "<matplotlib.axes._subplots.AxesSubplot at 0x7f5d4ca62210>"
      ]
     },
     "execution_count": 210,
     "metadata": {},
     "output_type": "execute_result"
    },
    {
     "data": {
      "image/png": "[encoded data removed]",
      "text/plain": [
       "<Figure size 1040x800 with 2 Axes>"
      ]
     },
     "metadata": {},
     "output_type": "display_data"
    }
   ],
   "source": [
    "twoD_intersect = []\n",
    "for idx , col in enumerate(test):\n",
    "    temp = test[test[col]==1]\n",
    "    row = []\n",
    "    for i , colm in enumerate(test):\n",
    "        row.append(sum(temp[colm]))\n",
    "    twoD_intersect.append(row)\n",
    "\n",
    "plt.figure(figsize=(13, 10),dpi=80)\n",
    "new_topics = [\"political\",\"business\",\"science\",\"technology\",\"entertainment\",\n",
    "         \"lifestyle\",\"health\",\"multicultural\",\"sports\",\"education\",\n",
    "         \"crime\",\"relationship\",\"marriage\",\"gaming\",\"migration\",\"tourism\",\n",
    "         \"medicine\",\"insurance\",\"career\",\"economic\",\"finance\",\"information_technology\",\n",
    "         \"music\",\"defence\",\"others\"]\n",
    "twoD_intersect = pd.DataFrame(twoD_intersect,columns=new_topics,index=new_topics)\n",
    "sns.heatmap(twoD_intersect,cmap = \"Blues\")"
   ]
  },
  {
   "cell_type": "markdown",
   "metadata": {
    "id": "UmL7_p0OCzV3"
   },
   "source": [
    "This graph shows the distribution of the topics. Each elements correspond to the number of news under each combination of topics. Diagonals entry is the count of each topical news, while off-diagonals are the number of news under these two categories. The sum of each row is not equals to the number of news under that category (non-exclusive), because there are a lot of news with multiple categories. For example, the political and educational news could appear in educational and sports news, just because itself is a political, educational, and sports news."
   ]
  },
  {
   "cell_type": "code",
   "execution_count": 211,
   "metadata": {
    "colab": {
     "base_uri": "https://localhost:8080/",
     "height": 479
    },
    "id": "NfsMaY0YvQhb",
    "outputId": "040a992a-1f6d-44a4-b6a7-aab5bc3e4e64"
   },
   "outputs": [
    {
     "data": {
      "text/plain": [
       "Text(0.5, 1.0, 'Created_at Count for different topics')"
      ]
     },
     "execution_count": 211,
     "metadata": {},
     "output_type": "execute_result"
    },
    {
     "data": {
      "image/png": "[encoded data removed]",
      "text/plain": [
       "<Figure size 1500x500 with 1 Axes>"
      ]
     },
     "metadata": {},
     "output_type": "display_data"
    }
   ],
   "source": [
    "plt.figure(figsize=(15,5),dpi=100)\n",
    "\n",
    "political_created = df.loc[df[\"political_keyword_ratio\"]==1,\"created_at\"].value_counts()\n",
    "political_created.index = pd.to_datetime(political_created.index)\n",
    "plt.plot(political_created[political_created.index.sort_values()])\n",
    "\n",
    "x = df.loc[df[\"sports_keyword_ratio\"]==1,\"created_at\"].value_counts()\n",
    "x.index = pd.to_datetime(x.index)\n",
    "plt.plot(x[x.index.sort_values()])\n",
    "\n",
    "y = df.loc[df[\"business_keyword_ratio\"]==1,\"created_at\"].value_counts()\n",
    "y.index = pd.to_datetime(y.index)\n",
    "plt.plot(y[y.index.sort_values()])\n",
    "\n",
    "plt.legend([\"Political\",\"Sports\",\"Business\"])\n",
    "plt.title(\"Created_at Count for different topics\")"
   ]
  },
  {
   "cell_type": "code",
   "execution_count": 212,
   "metadata": {
    "colab": {
     "base_uri": "https://localhost:8080/"
    },
    "id": "qR8N0Gn-2iTt",
    "outputId": "c35dafa9-f73c-4d34-f435-9eeceff9ec10"
   },
   "outputs": [
    {
     "name": "stdout",
     "output_type": "stream",
     "text": [
      "max_depth=5:  4.020325900489632\n",
      "max_deph= 24 3.5286592418660345\n",
      "Linear Regression:  4.014680245996535\n"
     ]
    }
   ],
   "source": [
    "from sklearn.tree import DecisionTreeRegressor\n",
    "from sklearn.linear_model import LinearRegression\n",
    "from sklearn.model_selection import train_test_split\n",
    "\n",
    "\n",
    "X = test\n",
    "y = df[\"click_rate\"]\n",
    "\n",
    "# Split dataset into training set and test set\n",
    "X_train, X_test, y_train, y_test = train_test_split(X, y, test_size=0.3, random_state=1) # 70% training and 30% test\n",
    "\n",
    "# Fit regression model\n",
    "regr_1 = DecisionTreeRegressor(max_depth=5)\n",
    "regr_2 = DecisionTreeRegressor()\n",
    "regr_1.fit(X_train, y_train)\n",
    "regr_2.fit(X_train, y_train)\n",
    "\n",
    "# Predict\n",
    "y_1 = regr_1.predict(X_test)\n",
    "y_2 = regr_2.predict(X_test)\n",
    "\n",
    "# # Calculate MSE\n",
    "mse1 = [(y_1[i] - y_test.iloc[i])**2 for i in range(len(y_1))]\n",
    "print(\"max_depth=5: \",sum(mse1))\n",
    "mse2 = [(y_2[i] - y_test.iloc[i])**2 for i in range(len(y_1))]\n",
    "print(\"max_deph=\",regr_2.get_depth(),sum(mse2))\n",
    "\n",
    "# Linear Regression\n",
    "reg = LinearRegression().fit(X, y)\n",
    "y_3 = reg.predict(X_test)\n",
    "mse_linear = [(y_3[i] - y_test.iloc[i])**2 for i in range(len(y_1))]\n",
    "print(\"Linear Regression: \",sum(mse_linear))\n"
   ]
  }
 ],
 "metadata": {
  "colab": {
   "collapsed_sections": [
    "za1akLvapixv",
    "9spcWEi3VXlU",
    "pKHhl132Om_I",
    "LQQ2wV9GTAGO",
    "jOPia8AbsWVd",
    "Q6wcmXlMH1K3",
    "RMhleO_1wOUn",
    "w1eSxrxuOQYv",
    "AmcsKvmiY2H6"
   ],
   "include_colab_link": true,
   "name": "EDA.ipynb",
   "provenance": []
  },
  "kernelspec": {
   "display_name": "Python 3 (ipykernel)",
   "language": "python",
   "name": "python3"
  },
  "language_info": {
   "codemirror_mode": {
    "name": "ipython",
    "version": 3
   },
   "file_extension": ".py",
   "mimetype": "text/x-python",
   "name": "python",
   "nbconvert_exporter": "python",
   "pygments_lexer": "ipython3",
   "version": "3.9.2"
  }
 },
 "nbformat": 4,
 "nbformat_minor": 1
}
