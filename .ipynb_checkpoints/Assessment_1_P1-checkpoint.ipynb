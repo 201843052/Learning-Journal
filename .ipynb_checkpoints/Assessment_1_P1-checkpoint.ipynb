{
 "cells": [
  {
   "cell_type": "code",
   "execution_count": null,
   "id": "909392a6",
   "metadata": {},
   "outputs": [],
   "source": []
  },
  {
   "cell_type": "code",
   "execution_count": 1,
   "id": "0d5f1d96",
   "metadata": {},
   "outputs": [
    {
     "ename": "NameError",
     "evalue": "name 'sc' is not defined",
     "output_type": "error",
     "traceback": [
      "\u001b[0;31m---------------------------------------------------------------------------\u001b[0m",
      "\u001b[0;31mNameError\u001b[0m                                 Traceback (most recent call last)",
      "\u001b[0;32m/tmp/ipykernel_5024/602722897.py\u001b[0m in \u001b[0;36m<module>\u001b[0;34m\u001b[0m\n\u001b[1;32m      1\u001b[0m \u001b[0;31m# edit location to reflect bucket on GCP\u001b[0m\u001b[0;34m\u001b[0m\u001b[0;34m\u001b[0m\u001b[0;34m\u001b[0m\u001b[0m\n\u001b[0;32m----> 2\u001b[0;31m \u001b[0mdata_from_file\u001b[0m \u001b[0;34m=\u001b[0m \u001b[0msc\u001b[0m\u001b[0;34m.\u001b[0m\u001b[0;31m\\\u001b[0m\u001b[0;34m\u001b[0m\u001b[0;34m\u001b[0m\u001b[0m\n\u001b[0m\u001b[1;32m      3\u001b[0m     textFile(\n\u001b[1;32m      4\u001b[0m         \u001b[0;34m\"gs://st446-bucket-lx/data/author-large.txt\"\u001b[0m\u001b[0;34m,\u001b[0m\u001b[0;34m\u001b[0m\u001b[0;34m\u001b[0m\u001b[0m\n\u001b[1;32m      5\u001b[0m         4)\n",
      "\u001b[0;31mNameError\u001b[0m: name 'sc' is not defined"
     ]
    }
   ],
   "source": [
    "# edit location to reflect bucket on GCP\n",
    "data_from_file = sc.\\\n",
    "    textFile(\n",
    "        \"gs://st446-bucket-lx/data/author-large.txt\", \n",
    "        4)"
   ]
  },
  {
   "cell_type": "code",
   "execution_count": 7,
   "id": "c90bed3c",
   "metadata": {},
   "outputs": [
    {
     "data": {
      "text/plain": [
       "['Jurgen Annevelink\\tModern Database Systems\\tObject SQL - A Language for the Design and Implementation of Object Databases.\\t1995',\n",
       " 'Rafiul Ahad\\tModern Database Systems\\tObject SQL - A Language for the Design and Implementation of Object Databases.\\t1995',\n",
       " 'Amelia Carlson\\tModern Database Systems\\tObject SQL - A Language for the Design and Implementation of Object Databases.\\t1995',\n",
       " 'Daniel H. Fishman\\tModern Database Systems\\tObject SQL - A Language for the Design and Implementation of Object Databases.\\t1995',\n",
       " 'Michael L. Heytens\\tModern Database Systems\\tObject SQL - A Language for the Design and Implementation of Object Databases.\\t1995']"
      ]
     },
     "execution_count": 7,
     "metadata": {},
     "output_type": "execute_result"
    }
   ],
   "source": [
    "data_from_file.take(5)"
   ]
  },
  {
   "cell_type": "code",
   "execution_count": 103,
   "id": "328df1eb",
   "metadata": {},
   "outputs": [
    {
     "name": "stderr",
     "output_type": "stream",
     "text": [
      "                                                                                \r"
     ]
    },
    {
     "data": {
      "text/plain": [
       "[array(['Jurgen Annevelink', 'Modern Database Systems',\n",
       "        'Object SQL - A Language for the Design and Implementation of Object Databases.',\n",
       "        '1995'], dtype='<U78'),\n",
       " array(['Rafiul Ahad', 'Modern Database Systems',\n",
       "        'Object SQL - A Language for the Design and Implementation of Object Databases.',\n",
       "        '1995'], dtype='<U78'),\n",
       " array(['Amelia Carlson', 'Modern Database Systems',\n",
       "        'Object SQL - A Language for the Design and Implementation of Object Databases.',\n",
       "        '1995'], dtype='<U78'),\n",
       " array(['Daniel H. Fishman', 'Modern Database Systems',\n",
       "        'Object SQL - A Language for the Design and Implementation of Object Databases.',\n",
       "        '1995'], dtype='<U78'),\n",
       " array(['Michael L. Heytens', 'Modern Database Systems',\n",
       "        'Object SQL - A Language for the Design and Implementation of Object Databases.',\n",
       "        '1995'], dtype='<U78')]"
      ]
     },
     "execution_count": 103,
     "metadata": {},
     "output_type": "execute_result"
    }
   ],
   "source": [
    "import numpy as np\n",
    "data_from_file_conv = data_from_file.map(lambda row: np.array(row.strip().split(\"\\t\")))\n",
    "data_from_file_conv.take(5)"
   ]
  },
  {
   "cell_type": "code",
   "execution_count": 111,
   "id": "144e0d09",
   "metadata": {},
   "outputs": [
    {
     "name": "stderr",
     "output_type": "stream",
     "text": [
      "                                                                                \r"
     ]
    },
    {
     "data": {
      "text/plain": [
       "[('Object SQL - A Language for the Design and Implementation of Object Databases.',\n",
       "  'Jurgen Annevelink'),\n",
       " ('Object SQL - A Language for the Design and Implementation of Object Databases.',\n",
       "  'Rafiul Ahad'),\n",
       " ('Object SQL - A Language for the Design and Implementation of Object Databases.',\n",
       "  'Amelia Carlson'),\n",
       " ('Object SQL - A Language for the Design and Implementation of Object Databases.',\n",
       "  'Daniel H. Fishman'),\n",
       " ('Object SQL - A Language for the Design and Implementation of Object Databases.',\n",
       "  'Michael L. Heytens')]"
      ]
     },
     "execution_count": 111,
     "metadata": {},
     "output_type": "execute_result"
    }
   ],
   "source": [
    "author_book1 = data_from_file_conv.map(lambda row: (row[2], row[0]))\n",
    "author_book2 = data_from_file_conv.map(lambda row: (row[2], row[0]))\n",
    "author_book1.take(5)"
   ]
  },
  {
   "cell_type": "code",
   "execution_count": 104,
   "id": "06bcfe3d",
   "metadata": {},
   "outputs": [
    {
     "name": "stderr",
     "output_type": "stream",
     "text": [
      "                                                                                \r"
     ]
    },
    {
     "data": {
      "text/plain": [
       "[('Schema Architecture of the UniSQL/M Multidatabase System',\n",
       "  ('William Kelley', 'William Kelley')),\n",
       " ('Schema Architecture of the UniSQL/M Multidatabase System',\n",
       "  ('William Kelley', 'Sunit K. Gala')),\n",
       " ('Schema Architecture of the UniSQL/M Multidatabase System',\n",
       "  ('William Kelley', 'Won Kim')),\n",
       " ('Schema Architecture of the UniSQL/M Multidatabase System',\n",
       "  ('William Kelley', 'Tom C. Reyes')),\n",
       " ('Schema Architecture of the UniSQL/M Multidatabase System',\n",
       "  ('William Kelley', 'Bruce Graham'))]"
      ]
     },
     "execution_count": 104,
     "metadata": {},
     "output_type": "execute_result"
    }
   ],
   "source": [
    "book_author_pair = author_book1.join(author_book2)\n",
    "book_author_pair.take(5)"
   ]
  },
  {
   "cell_type": "code",
   "execution_count": 114,
   "id": "0f3066be",
   "metadata": {},
   "outputs": [
    {
     "name": "stderr",
     "output_type": "stream",
     "text": [
      "                                                                                \r"
     ]
    },
    {
     "data": {
      "text/plain": [
       "[(('Bradley S. Carlson', 'C. Y. Roger Chen'), 2),\n",
       " (('Bradley S. Carlson', 'Yuan Hu'), 3),\n",
       " (('Bradley S. Paras', 'Chad D. Ciavarro'), 2),\n",
       " (('Bradley S. Paras', 'David Goodman'), 2),\n",
       " (('Bradley S. Peterson', 'Lawrence H. Staib'), 2)]"
      ]
     },
     "execution_count": 114,
     "metadata": {},
     "output_type": "execute_result"
    }
   ],
   "source": [
    "def count_author_from_line(line):\n",
    "    if (line[0]>=line[1]):\n",
    "        return 0\n",
    "    else:\n",
    "        return 1\n",
    "\n",
    "author_pair_counts = book_author_pair \\\n",
    "             .map(lambda line: (line[1],count_author_from_line(line[1])))\\\n",
    "             .sortByKey(ascending=True) \\\n",
    "             .reduceByKey(lambda a, b: a + b)\n",
    "author_pair_counts.take(5)\n"
   ]
  },
  {
   "cell_type": "code",
   "execution_count": 117,
   "id": "62bc2e3c",
   "metadata": {},
   "outputs": [
    {
     "name": "stderr",
     "output_type": "stream",
     "text": [
      "                                                                                \r"
     ]
    }
   ],
   "source": [
    "# 2. Sort the output\n",
    "\n",
    "output = author_pair_counts.takeOrdered(10, key = lambda x: -x[1]) # this function sorts by key(value)\n"
   ]
  },
  {
   "cell_type": "code",
   "execution_count": 118,
   "id": "2b7346e9",
   "metadata": {},
   "outputs": [
    {
     "name": "stdout",
     "output_type": "stream",
     "text": [
      "('Irith Pomeranz', 'Sudhakar M. Reddy'): 249\n",
      "('Amr El Abbadi', 'Divyakant Agrawal'): 161\n",
      "('Makoto Takizawa', 'Tomoya Enokido'): 141\n",
      "('Didier Dubois', 'Henri Prade'): 122\n",
      "('Elizabeth Chang', 'Tharam S. Dillon'): 118\n",
      "('Hyun-Sung Kim', 'Kee-Young Yoo'): 111\n",
      "('Mary Jane Irwin', 'Narayanan Vijaykrishnan'): 107\n",
      "('Mahmut T. Kandemir', 'Mary Jane Irwin'): 100\n",
      "('Chun Chen', 'Jiajun Bu'): 99\n",
      "('Giuseppe De Giacomo', 'Maurizio Lenzerini'): 99\n"
     ]
    },
    {
     "data": {
      "text/html": [
       "<div>\n",
       "<style scoped>\n",
       "    .dataframe tbody tr th:only-of-type {\n",
       "        vertical-align: middle;\n",
       "    }\n",
       "\n",
       "    .dataframe tbody tr th {\n",
       "        vertical-align: top;\n",
       "    }\n",
       "\n",
       "    .dataframe thead th {\n",
       "        text-align: right;\n",
       "    }\n",
       "</style>\n",
       "<table border=\"1\" class=\"dataframe\">\n",
       "  <thead>\n",
       "    <tr style=\"text-align: right;\">\n",
       "      <th></th>\n",
       "      <th>author_pair</th>\n",
       "      <th>count</th>\n",
       "    </tr>\n",
       "  </thead>\n",
       "  <tbody>\n",
       "    <tr>\n",
       "      <th>0</th>\n",
       "      <td>('Irith Pomeranz', 'Sudhakar M. Reddy')</td>\n",
       "      <td>249</td>\n",
       "    </tr>\n",
       "    <tr>\n",
       "      <th>1</th>\n",
       "      <td>('Amr El Abbadi', 'Divyakant Agrawal')</td>\n",
       "      <td>161</td>\n",
       "    </tr>\n",
       "    <tr>\n",
       "      <th>2</th>\n",
       "      <td>('Makoto Takizawa', 'Tomoya Enokido')</td>\n",
       "      <td>141</td>\n",
       "    </tr>\n",
       "    <tr>\n",
       "      <th>3</th>\n",
       "      <td>('Didier Dubois', 'Henri Prade')</td>\n",
       "      <td>122</td>\n",
       "    </tr>\n",
       "    <tr>\n",
       "      <th>4</th>\n",
       "      <td>('Elizabeth Chang', 'Tharam S. Dillon')</td>\n",
       "      <td>118</td>\n",
       "    </tr>\n",
       "    <tr>\n",
       "      <th>5</th>\n",
       "      <td>('Hyun-Sung Kim', 'Kee-Young Yoo')</td>\n",
       "      <td>111</td>\n",
       "    </tr>\n",
       "    <tr>\n",
       "      <th>6</th>\n",
       "      <td>('Mary Jane Irwin', 'Narayanan Vijaykrishnan')</td>\n",
       "      <td>107</td>\n",
       "    </tr>\n",
       "    <tr>\n",
       "      <th>7</th>\n",
       "      <td>('Mahmut T. Kandemir', 'Mary Jane Irwin')</td>\n",
       "      <td>100</td>\n",
       "    </tr>\n",
       "    <tr>\n",
       "      <th>8</th>\n",
       "      <td>('Chun Chen', 'Jiajun Bu')</td>\n",
       "      <td>99</td>\n",
       "    </tr>\n",
       "    <tr>\n",
       "      <th>9</th>\n",
       "      <td>('Giuseppe De Giacomo', 'Maurizio Lenzerini')</td>\n",
       "      <td>99</td>\n",
       "    </tr>\n",
       "  </tbody>\n",
       "</table>\n",
       "</div>"
      ],
      "text/plain": [
       "                                      author_pair  count\n",
       "0         ('Irith Pomeranz', 'Sudhakar M. Reddy')    249\n",
       "1          ('Amr El Abbadi', 'Divyakant Agrawal')    161\n",
       "2           ('Makoto Takizawa', 'Tomoya Enokido')    141\n",
       "3                ('Didier Dubois', 'Henri Prade')    122\n",
       "4         ('Elizabeth Chang', 'Tharam S. Dillon')    118\n",
       "5              ('Hyun-Sung Kim', 'Kee-Young Yoo')    111\n",
       "6  ('Mary Jane Irwin', 'Narayanan Vijaykrishnan')    107\n",
       "7       ('Mahmut T. Kandemir', 'Mary Jane Irwin')    100\n",
       "8                      ('Chun Chen', 'Jiajun Bu')     99\n",
       "9   ('Giuseppe De Giacomo', 'Maurizio Lenzerini')     99"
      ]
     },
     "metadata": {},
     "output_type": "display_data"
    }
   ],
   "source": [
    "import pandas as pd\n",
    "\n",
    "author_pair = []\n",
    "count = []\n",
    "\n",
    "for word, num in output:\n",
    "    print (str(word) + ': ' + str(num))\n",
    "    author_pair.append(str(word))\n",
    "    count.append(num)\n",
    "    \n",
    "df_top10_author_pair = pd.DataFrame({\"author_pair\": author_pair,\n",
    "                   \"count\": count})\n",
    "display(df_top10_author_pair)"
   ]
  },
  {
   "cell_type": "code",
   "execution_count": null,
   "id": "95981235",
   "metadata": {},
   "outputs": [],
   "source": []
  }
 ],
 "metadata": {
  "kernelspec": {
   "display_name": "Python 3 (ipykernel)",
   "language": "python",
   "name": "python3"
  },
  "language_info": {
   "codemirror_mode": {
    "name": "ipython",
    "version": 3
   },
   "file_extension": ".py",
   "mimetype": "text/x-python",
   "name": "python",
   "nbconvert_exporter": "python",
   "pygments_lexer": "ipython3",
   "version": "3.9.2"
  }
 },
 "nbformat": 4,
 "nbformat_minor": 5
}
