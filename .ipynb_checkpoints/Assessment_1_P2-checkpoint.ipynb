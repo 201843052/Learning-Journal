{
 "cells": [
  {
   "cell_type": "code",
   "execution_count": 1,
   "id": "81dc7f1a",
   "metadata": {},
   "outputs": [],
   "source": [
    "filename = 'gs://st446-bucket-lx/data/author-large.txt'\n"
   ]
  },
  {
   "cell_type": "code",
   "execution_count": 2,
   "id": "7475d22f",
   "metadata": {},
   "outputs": [],
   "source": [
    "from pyspark.sql.types import *\n",
    "\n",
    "schema = StructType([\n",
    "    StructField(\"author\", StringType(), True),    \n",
    "    StructField(\"journal\", StringType(), True),\n",
    "    StructField(\"title\", StringType(), True),\n",
    "    StructField(\"year\", LongType(), True)\n",
    "])\n",
    "\n",
    "author_large = spark.read.csv(filename, header='false', schema=schema, sep='\\t')\n",
    "author_large.createOrReplaceTempView(\"author_large\")"
   ]
  },
  {
   "cell_type": "code",
   "execution_count": 3,
   "id": "1ca4e941",
   "metadata": {},
   "outputs": [
    {
     "name": "stderr",
     "output_type": "stream",
     "text": [
      "                                                                                \r"
     ]
    },
    {
     "data": {
      "text/plain": [
       "Row(author='Jurgen Annevelink', journal='Modern Database Systems', title='Object SQL - A Language for the Design and Implementation of Object Databases.', year=1995)"
      ]
     },
     "execution_count": 3,
     "metadata": {},
     "output_type": "execute_result"
    }
   ],
   "source": [
    "author_large.head()"
   ]
  },
  {
   "cell_type": "code",
   "execution_count": 4,
   "id": "60e43f5a",
   "metadata": {},
   "outputs": [
    {
     "name": "stdout",
     "output_type": "stream",
     "text": [
      "root\n",
      " |-- author: string (nullable = true)\n",
      " |-- journal: string (nullable = true)\n",
      " |-- title: string (nullable = true)\n",
      " |-- year: long (nullable = true)\n",
      "\n"
     ]
    }
   ],
   "source": [
    "author_large.printSchema()"
   ]
  },
  {
   "cell_type": "code",
   "execution_count": 5,
   "id": "76b6c8f2",
   "metadata": {},
   "outputs": [
    {
     "name": "stdout",
     "output_type": "stream",
     "text": [
      "+--------------------+--------------------+--------------------+----+\n",
      "|              author|             journal|               title|year|\n",
      "+--------------------+--------------------+--------------------+----+\n",
      "|   Jurgen Annevelink|Modern Database S...|Object SQL - A La...|1995|\n",
      "|         Rafiul Ahad|Modern Database S...|Object SQL - A La...|1995|\n",
      "|      Amelia Carlson|Modern Database S...|Object SQL - A La...|1995|\n",
      "|   Daniel H. Fishman|Modern Database S...|Object SQL - A La...|1995|\n",
      "|  Michael L. Heytens|Modern Database S...|Object SQL - A La...|1995|\n",
      "|        William Kent|Modern Database S...|Object SQL - A La...|1995|\n",
      "|     Jos A. Blakeley|Modern Database S...|OQL[C++]: Extendi...|1995|\n",
      "|      Yuri Breitbart|Modern Database S...|Transaction Manag...|1995|\n",
      "|Hector Garcia-Molina|Modern Database S...|Transaction Manag...|1995|\n",
      "|Abraham Silberschatz|Modern Database S...|Transaction Manag...|1995|\n",
      "+--------------------+--------------------+--------------------+----+\n",
      "only showing top 10 rows\n",
      "\n"
     ]
    }
   ],
   "source": [
    "author_large.show(10)"
   ]
  },
  {
   "cell_type": "code",
   "execution_count": 15,
   "id": "9bde0eed",
   "metadata": {},
   "outputs": [
    {
     "name": "stderr",
     "output_type": "stream",
     "text": [
      "[Stage 34:===========>                                              (1 + 4) / 5]\r"
     ]
    },
    {
     "name": "stdout",
     "output_type": "stream",
     "text": [
      "+--------------------+-------------------+---+\n",
      "|            author_a|           author_b|cnt|\n",
      "+--------------------+-------------------+---+\n",
      "|   Sudhakar M. Reddy|     Irith Pomeranz|249|\n",
      "|   Divyakant Agrawal|      Amr El Abbadi|161|\n",
      "|      Tomoya Enokido|    Makoto Takizawa|141|\n",
      "|         Henri Prade|      Didier Dubois|122|\n",
      "|    Tharam S. Dillon|    Elizabeth Chang|118|\n",
      "|       Kee-Young Yoo|      Hyun-Sung Kim|111|\n",
      "|Narayanan Vijaykr...|    Mary Jane Irwin|107|\n",
      "|     Mary Jane Irwin| Mahmut T. Kandemir|100|\n",
      "|           Jiajun Bu|          Chun Chen| 99|\n",
      "|  Maurizio Lenzerini|Giuseppe De Giacomo| 99|\n",
      "+--------------------+-------------------+---+\n",
      "\n"
     ]
    },
    {
     "name": "stderr",
     "output_type": "stream",
     "text": [
      "                                                                                \r"
     ]
    }
   ],
   "source": [
    "spark.sql(\"select a.author as author_a, b.author as author_b, count(a.author, b.author) as cnt \\\n",
    "            from author_large a join author_large b \\\n",
    "            on a.title = b.title and a.author > b.author \\\n",
    "            and a.author != b.author \\\n",
    "            group by a.author, b.author \\\n",
    "            order by cnt desc \\\n",
    "            limit 10\").show()"
   ]
  },
  {
   "cell_type": "code",
   "execution_count": null,
   "id": "f45fd895",
   "metadata": {},
   "outputs": [],
   "source": []
  }
 ],
 "metadata": {
  "kernelspec": {
   "display_name": "Python 3 (ipykernel)",
   "language": "python",
   "name": "python3"
  },
  "language_info": {
   "codemirror_mode": {
    "name": "ipython",
    "version": 3
   },
   "file_extension": ".py",
   "mimetype": "text/x-python",
   "name": "python",
   "nbconvert_exporter": "python",
   "pygments_lexer": "ipython3",
   "version": "3.9.2"
  }
 },
 "nbformat": 4,
 "nbformat_minor": 5
}
