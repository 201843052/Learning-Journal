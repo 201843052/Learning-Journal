{
 "cells": [
  {
   "cell_type": "markdown",
   "id": "906f755c",
   "metadata": {},
   "source": [
    "# Citadel Working\n",
    "1/2\n",
    "1/4\n",
    "1/8\n",
    "1/32\n",
    "1/32\n",
    "1/32\n",
    "1/32\n",
    "        Have   Not Have\n",
    "Positive 0.98    0.04\n",
    "Negative 0.02    0.96\n",
    "\n",
    "P(Positive|+) = 0.98 = P(Positive & +) / P(+)\n",
    "P(Positive|-) = 0.04 = P(Positive & -) / P(-)\n",
    "P(+) = 0.03\n",
    "P(-) = 0.97\n",
    "P(+|Positive) = P(Positive&+) / P(Positive) = P(+)*P(Positive|+) / P(Positive) =0.431\n",
    "P(Positive) = P(Positive|+)*P(+) + P(Positive|-)*P(-) = 0.98*0.03 + 0.04*0.97 = 0.0682\n",
    "P(Positive\n",
    "\n",
    "\n",
    "P(1 customer between 0 and T/4 | 1 customer between 0 and T) = P(1 customer betweeen 0 and T/4 & 0 customer between 0 and T/3) / P(1 customer between 0 and T) = e^(-1) *\n",
    "\n",
    "\n",
    "\n",
    "P(JAva) = 2/5\n",
    "P(Java & C++) = 1/4\n",
    "P(C++ | Java) = P(\n",
    "\n",
    "\n",
    "new_mean = -78.5\n",
    "new_sd = 36.50671171\n",
    "\n",
    "ABCDE\n",
    "\n",
    "C -> E\n",
    "B,C -> D\n",
    "A -> B,C -> D\n",
    "\n",
    "\n",
    "Fair Coin, TT TH HT HH\n",
    "Head only, HH\n",
    "Tail only, TT\n",
    "\n",
    "Fair Coin, H T\n",
    "Head only, H\n",
    "Tail only, T\n",
    "\n",
    "Given last is T, 1/2*1/2 / 1/2+1/2*1/2 = 1/3\n",
    "\n",
    "\n",
    "Q11.\n",
    "1 Fair Coin\n",
    "2 Head only\n",
    "3 Tail only\n",
    "\n",
    "each coin flip once, 1 randomly chosen outcome shown, given outcome is H, probability of fair coin landed heads up.\n",
    "\n",
    "P(H1 | Hi) = P(H1 & Hi) / P(Hi)\n",
    "\n",
    "P(Hi) = Sum i {P(Coin i is chosen)*P(Coin i gets Head| i chosen)} \n",
    "      = 3/6 *0 + 2/6 * 1 + 1/6 * 1/2 = 5/12\n",
    "P(H1 & Hi) = Sum i {P(Coin i is chosen)*P(Coin i gets Head| i chosen)*P(Fair Coin gets Head | i chosen and head)} \n",
    "           = 3/6 * 0 * 1/2+ 2/6 * 1 * 1/2 + 1/6 * 1/2 * 1 = 1/4\n",
    "           \n",
    "Hence P(H1 | Hi) = 1/4 / 5/12 = 3/5\n",
    "\n",
    "Intuitively, randomly choosing a coin and reveal the result, the only thing that matter is if fair coin is chosen, and its a head, or Head only chosen, then fair coin. Probability of this happening is 1/6 * 1/2 + 2/6 * 1/2\n",
    "\n",
    "1/3 * 1/2 + 2/3 * 1 * 1/2\n",
    "P(Fair Coin|Head)*P(Head & Fair) + P(Head only Coin|Head)*P(Head & "
   ]
  },
  {
   "cell_type": "code",
   "execution_count": 1,
   "id": "f5cce2d7",
   "metadata": {},
   "outputs": [
    {
     "name": "stdout",
     "output_type": "stream",
     "text": [
      "<class 'pandas.core.frame.DataFrame'>\n",
      "RangeIndex: 3 entries, 0 to 2\n",
      "Data columns (total 2 columns):\n",
      " #   Column  Non-Null Count  Dtype \n",
      "---  ------  --------------  ----- \n",
      " 0   A       3 non-null      object\n",
      " 1   B       3 non-null      int64 \n",
      "dtypes: int64(1), object(1)\n",
      "memory usage: 176.0+ bytes\n"
     ]
    }
   ],
   "source": [
    "import numpy as np\n",
    "import pandas as pd\n",
    "\n",
    "x = pd.DataFrame({\"A\":[1,\"NaN\",3],\"B\":[4,5,6]})\n",
    "x.info()"
   ]
  },
  {
   "cell_type": "code",
   "execution_count": null,
   "id": "1442fc8a",
   "metadata": {},
   "outputs": [],
   "source": []
  }
 ],
 "metadata": {
  "kernelspec": {
   "display_name": "Python 3",
   "language": "python",
   "name": "python3"
  },
  "language_info": {
   "codemirror_mode": {
    "name": "ipython",
    "version": 3
   },
   "file_extension": ".py",
   "mimetype": "text/x-python",
   "name": "python",
   "nbconvert_exporter": "python",
   "pygments_lexer": "ipython3",
   "version": "3.8.8"
  }
 },
 "nbformat": 4,
 "nbformat_minor": 5
}
