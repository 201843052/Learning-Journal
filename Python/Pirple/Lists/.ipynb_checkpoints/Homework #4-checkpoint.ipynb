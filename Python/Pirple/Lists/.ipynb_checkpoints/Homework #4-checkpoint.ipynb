{
 "cells": [
  {
   "cell_type": "code",
   "execution_count": null,
   "id": "760d6f13",
   "metadata": {},
   "outputs": [],
   "source": [
    "\"\"\"\n",
    "Details:\n",
    " \n",
    "Create a global variable called myUniqueList. It should be an empty list to start.\n",
    "\n",
    "Next, create a function that allows you to add things to that list. Anything that's passed to this function should get added to myUniqueList, unless its value already exists in myUniqueList. If the value doesn't exist already, it should be added and the function should return True. If the value does exist, it should not be added, and the function should return False;\n",
    "\n",
    "Finally, add some code below your function that tests it out. It should add a few different elements, showcasing the different scenarios, and then finally it should print the value of myUniqueList to show that it worked.\n",
    "\n",
    "\n",
    "Extra Credit:\n",
    "\n",
    "Add another function that pushes all the rejected inputs into a separate global array called myLeftovers. If someone tries to add a value to myUniqueList but it's rejected (for non-uniqueness), it should get added to myLeftovers instead.\n",
    "\n",
    "\"\"\""
   ]
  },
  {
   "cell_type": "code",
   "execution_count": 15,
   "id": "e1a615e4",
   "metadata": {},
   "outputs": [],
   "source": [
    "myUniqueList=[]\n",
    "myLeftovers=[]\n",
    "\n",
    "def listadd(var):\n",
    "    if var not in myUniqueList:\n",
    "        myUniqueList.append(var)\n",
    "        return True\n",
    "    else:\n",
    "        myLeftovers.append(var)\n",
    "        return False"
   ]
  },
  {
   "cell_type": "code",
   "execution_count": 16,
   "id": "15513ffb",
   "metadata": {},
   "outputs": [
    {
     "name": "stdout",
     "output_type": "stream",
     "text": [
      "['first thing']\n",
      "[]\n"
     ]
    }
   ],
   "source": [
    "listadd(\"first thing\")\n",
    "print(myUniqueList)\n",
    "print(myLeftovers)"
   ]
  },
  {
   "cell_type": "code",
   "execution_count": 17,
   "id": "31f54250",
   "metadata": {},
   "outputs": [
    {
     "name": "stdout",
     "output_type": "stream",
     "text": [
      "['first thing', 'second thing']\n",
      "[]\n"
     ]
    }
   ],
   "source": [
    "listadd(\"second thing\")\n",
    "print(myUniqueList)\n",
    "print(myLeftovers)"
   ]
  },
  {
   "cell_type": "code",
   "execution_count": 18,
   "id": "071d8f78",
   "metadata": {},
   "outputs": [
    {
     "name": "stdout",
     "output_type": "stream",
     "text": [
      "['first thing', 'second thing']\n",
      "['second thing']\n"
     ]
    }
   ],
   "source": [
    "listadd(\"second thing\")\n",
    "print(myUniqueList)\n",
    "print(myLeftovers)"
   ]
  }
 ],
 "metadata": {
  "kernelspec": {
   "display_name": "Python 3",
   "language": "python",
   "name": "python3"
  },
  "language_info": {
   "codemirror_mode": {
    "name": "ipython",
    "version": 3
   },
   "file_extension": ".py",
   "mimetype": "text/x-python",
   "name": "python",
   "nbconvert_exporter": "python",
   "pygments_lexer": "ipython3",
   "version": "3.8.8"
  }
 },
 "nbformat": 4,
 "nbformat_minor": 5
}
