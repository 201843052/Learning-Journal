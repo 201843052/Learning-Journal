{
 "cells": [
  {
   "cell_type": "code",
   "execution_count": 18,
   "id": "bb16b9cd",
   "metadata": {},
   "outputs": [],
   "source": [
    "\"\"\"\n",
    "Here are some attributes of my favourite song\n",
    "\"\"\"\n",
    "\n",
    "Genre=\"Classical\"\n",
    "Title=\"Dies Irae\"\n",
    "Artist=\"Verdi\"\n",
    "Album=\"Requiem\"\n",
    "Duration=2*60+15   #in second\n",
    "#Likes of recordings, links provided\n",
    "Likes_1=1.8*1000\n",
    "link_1=\"https://www.youtube.com/watch?v=6pVYB6IaiFc\"\n",
    "Likes_2=22*1000\n",
    "link_2=\"https://www.youtube.com/watch?v=cHw4GER-MiE\"\n",
    "Likes_3=55*1000\n",
    "link_3=\"https://www.youtube.com/watch?v=_jBLyIQvNf0\"\n",
    "own_rating=9.7    #ratings out of 10, my own\n",
    "\n",
    "\n",
    "def CallGenre():\n",
    "    print(Genre)\n",
    "\n",
    "def CallArtist():\n",
    "    print(Artist)\n",
    "\n",
    "def CallRating():\n",
    "    print(own_rating+0.001)\n",
    "\n",
    "def IsTitle(name):\n",
    "    return name==Title"
   ]
  },
  {
   "cell_type": "code",
   "execution_count": 28,
   "id": "901131ab",
   "metadata": {},
   "outputs": [
    {
     "data": {
      "text/plain": [
       "True"
      ]
     },
     "execution_count": 28,
     "metadata": {},
     "output_type": "execute_result"
    }
   ],
   "source": [
    "IsTitle(\"Dies Irae\")"
   ]
  },
  {
   "cell_type": "code",
   "execution_count": 21,
   "id": "fdacd7be",
   "metadata": {},
   "outputs": [
    {
     "name": "stdout",
     "output_type": "stream",
     "text": [
      "Classical\n"
     ]
    }
   ],
   "source": [
    "CallGenre()"
   ]
  },
  {
   "cell_type": "code",
   "execution_count": 22,
   "id": "038315c5",
   "metadata": {},
   "outputs": [
    {
     "name": "stdout",
     "output_type": "stream",
     "text": [
      "Verdi\n"
     ]
    }
   ],
   "source": [
    "CallArtist()"
   ]
  },
  {
   "cell_type": "code",
   "execution_count": 23,
   "id": "91679f02",
   "metadata": {},
   "outputs": [
    {
     "name": "stdout",
     "output_type": "stream",
     "text": [
      "9.700999999999999\n"
     ]
    }
   ],
   "source": [
    "CallRating()"
   ]
  }
 ],
 "metadata": {
  "kernelspec": {
   "display_name": "Python 3",
   "language": "python",
   "name": "python3"
  },
  "language_info": {
   "codemirror_mode": {
    "name": "ipython",
    "version": 3
   },
   "file_extension": ".py",
   "mimetype": "text/x-python",
   "name": "python",
   "nbconvert_exporter": "python",
   "pygments_lexer": "ipython3",
   "version": "3.8.8"
  }
 },
 "nbformat": 4,
 "nbformat_minor": 5
}
