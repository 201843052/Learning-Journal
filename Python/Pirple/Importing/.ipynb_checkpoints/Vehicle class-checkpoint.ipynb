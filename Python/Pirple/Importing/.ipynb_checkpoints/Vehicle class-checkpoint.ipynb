{
 "cells": [
  {
   "cell_type": "code",
   "execution_count": null,
   "id": "8b4b78ea",
   "metadata": {},
   "outputs": [],
   "source": [
    "\"\"\"\n",
    "Details:\n",
    " \n",
    "Create a class called \"Vehicle\" and methods that allow you to set the \"Make\", \"Model\", \"Year,\", and \"Weight\".\n",
    "\n",
    "The class should also contain a \"NeedsMaintenance\" boolean that defaults to False, and and \"TripsSinceMaintenance\" \n",
    "Integer that defaults to 0.\n",
    "\n",
    "Next an inheritance classes from Vehicle called \"Cars\".\n",
    "\n",
    "The Cars class should contain a method called \"Drive\" that sets the state of a boolean isDriving to True.  \n",
    "It should have another method called \"Stop\" that sets the value of isDriving to false.\n",
    "\n",
    "Switching isDriving from true to false should increment the \"TripsSinceMaintenance\" counter. \n",
    "And when TripsSinceMaintenance exceeds 100, then the NeedsMaintenance boolean should be set to true.\n",
    "\n",
    "Add a \"Repair\" method to either class that resets the TripsSinceMaintenance to zero, and NeedsMaintenance to false.\n",
    "\n",
    "Create 3 different cars, using your Cars class, and drive them all a different number of times. \n",
    "Then print out their values for Make, Model, Year, Weight, NeedsMaintenance, and TripsSinceMaintenance\n",
    "\n",
    "Extra Credit:\n",
    "\n",
    "Create a Planes class that is also an inheritance class from Vehicle. Add methods to the Planes \n",
    "class for Flying and Landing (similar to Driving and Stopping), but different in one respect: \n",
    "Once the NeedsMaintenance boolean gets set to true, any attempt at flight should be rejected \n",
    "(return false), and an error message should be printed saying that the plane can't fly until it's repaired.\n",
    "\"\"\""
   ]
  },
  {
   "cell_type": "code",
   "execution_count": 40,
   "id": "c29e25df",
   "metadata": {},
   "outputs": [],
   "source": [
    "class Vehicle:\n",
    "    def __init__(self,Make,Model,Year,Weight,NeedsMaintenance=False,TripsSinceMaintenance=0):\n",
    "        self.Make=Make\n",
    "        self.Model=Model\n",
    "        self.Year=Year\n",
    "        self.Weight=Weight\n",
    "        self.NeedsMaintennace=NeedsMaintenance\n",
    "        self.TripsSinceMaintenance=TripsSinceMaintenance\n",
    "        \n",
    "        #SETTER\n",
    "    def setMake(self,Make):\n",
    "        self.Make=Make\n",
    "    def setModel(self,Model):\n",
    "        self.Model=Model\n",
    "    def setYear(self,Year):\n",
    "        self.Year=Year\n",
    "    def setWeight(self,Weight):\n",
    "        self.Weight=Weight\n",
    "    def setNeedsMaintennace(self,NeedsMaintennace):\n",
    "        self.NeedsMaintennace=NeedsMaintenance\n",
    "    def setTripsSinceMaintenance(self,TripsSinceMaintenance):\n",
    "        self.TripsSinceMaintenance=TripsSinceMaintenance\n",
    "        \n",
    "class Cars(Vehicle):\n",
    "    def __init__(self,Make, Model, Year, Weight, NeedsMaintenance, TripsSinceMaintenance,isDriving=False):\n",
    "        Vehicle.__init__(self,Make, Model, Year, Weight, NeedsMaintenance, TripsSinceMaintenance)\n",
    "        self.isDriving=isDriving\n",
    "    \n",
    "    def Drive():\n",
    "        self.isDriving=True\n",
    "         \n",
    "    def Stop():\n",
    "        self.isDriving=False\n",
    "        self.TripsSinceMaintenance+=1\n",
    "        if self.TripsSinceMaintenance>=100:\n",
    "            self.NeedsMaintennace=True\n",
    "            \n",
    "    def Repair():\n",
    "        TripsSinceMaintenance=0\n",
    "        NeedsMaintenance=False"
   ]
  },
  {
   "cell_type": "code",
   "execution_count": 41,
   "id": "c9dff64c",
   "metadata": {},
   "outputs": [
    {
     "name": "stdout",
     "output_type": "stream",
     "text": [
      "Toyota\n",
      "Harrier\n",
      "2020\n",
      "1770\n"
     ]
    },
    {
     "ename": "AttributeError",
     "evalue": "'Cars' object has no attribute 'NeedsMaintenance'",
     "output_type": "error",
     "traceback": [
      "\u001b[1;31m---------------------------------------------------------------------------\u001b[0m",
      "\u001b[1;31mAttributeError\u001b[0m                            Traceback (most recent call last)",
      "\u001b[1;32m<ipython-input-41-a2a26f854c27>\u001b[0m in \u001b[0;36m<module>\u001b[1;34m\u001b[0m\n\u001b[0;32m     17\u001b[0m \u001b[0mprint\u001b[0m\u001b[1;33m(\u001b[0m\u001b[0mcar1\u001b[0m\u001b[1;33m.\u001b[0m\u001b[0mYear\u001b[0m\u001b[1;33m)\u001b[0m\u001b[1;33m\u001b[0m\u001b[1;33m\u001b[0m\u001b[0m\n\u001b[0;32m     18\u001b[0m \u001b[0mprint\u001b[0m\u001b[1;33m(\u001b[0m\u001b[0mcar1\u001b[0m\u001b[1;33m.\u001b[0m\u001b[0mWeight\u001b[0m\u001b[1;33m)\u001b[0m\u001b[1;33m\u001b[0m\u001b[1;33m\u001b[0m\u001b[0m\n\u001b[1;32m---> 19\u001b[1;33m \u001b[0mprint\u001b[0m\u001b[1;33m(\u001b[0m\u001b[0mcar1\u001b[0m\u001b[1;33m.\u001b[0m\u001b[0mNeedsMaintenance\u001b[0m\u001b[1;33m)\u001b[0m\u001b[1;33m\u001b[0m\u001b[1;33m\u001b[0m\u001b[0m\n\u001b[0m\u001b[0;32m     20\u001b[0m \u001b[0mprint\u001b[0m\u001b[1;33m(\u001b[0m\u001b[0mcar1\u001b[0m\u001b[1;33m.\u001b[0m\u001b[0mTripsSinceMaintenance\u001b[0m\u001b[1;33m)\u001b[0m\u001b[1;33m\u001b[0m\u001b[1;33m\u001b[0m\u001b[0m\n\u001b[0;32m     21\u001b[0m \u001b[1;33m\u001b[0m\u001b[0m\n",
      "\u001b[1;31mAttributeError\u001b[0m: 'Cars' object has no attribute 'NeedsMaintenance'"
     ]
    }
   ],
   "source": [
    "car1=Cars(\"Toyota\",\"Harrier\",\"2020\",1770,False,10)\n",
    "car2=Cars(\"Ford\",\"Mustang\",\"2000\",1720,False,50)\n",
    "car3=Cars(\"Ferrari\",\"812 Gts\",\"2019\",1769.01,False,10)\n",
    "\n",
    "for i in range(10):\n",
    "    car1.Drive\n",
    "    \n",
    "for i in range(80):\n",
    "    car3.Drive\n",
    "    \n",
    "for i in range(50):\n",
    "    car2.Drive\n",
    "\n",
    "    \n",
    "print(car1.Make)\n",
    "print(car1.Model)\n",
    "print(car1.Year)\n",
    "print(car1.Weight)\n",
    "print(car1.NeedsMaintenance)\n",
    "print(car1.TripsSinceMaintenance)\n",
    "\n",
    "print(car2.Make)\n",
    "print(car2.Model)\n",
    "print(car2.Year)\n",
    "print(car2.Weight)\n",
    "print(car2.NeedsMaintenance)\n",
    "print(car2.TripsSinceMaintenance)\n",
    "\n",
    "print(car3.Make)\n",
    "print(car3.Model)\n",
    "print(car3.Year)\n",
    "print(car3.Weight)\n",
    "print(car3.NeedsMaintenance)\n",
    "print(car3.TripsSinceMaintenance)\n"
   ]
  }
 ],
 "metadata": {
  "kernelspec": {
   "display_name": "Python 3",
   "language": "python",
   "name": "python3"
  },
  "language_info": {
   "codemirror_mode": {
    "name": "ipython",
    "version": 3
   },
   "file_extension": ".py",
   "mimetype": "text/x-python",
   "name": "python",
   "nbconvert_exporter": "python",
   "pygments_lexer": "ipython3",
   "version": "3.8.8"
  }
 },
 "nbformat": 4,
 "nbformat_minor": 5
}
