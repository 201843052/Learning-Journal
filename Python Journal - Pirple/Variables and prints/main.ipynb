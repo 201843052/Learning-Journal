{
 "cells": [
  {
   "cell_type": "code",
   "execution_count": 9,
   "id": "48e817e1",
   "metadata": {},
   "outputs": [
    {
     "name": "stdout",
     "output_type": "stream",
     "text": [
      "Classical\n",
      "Dies Irae\n",
      "Verdi\n",
      "Requiem\n",
      "135\n",
      "1800.0\n",
      "https://www.youtube.com/watch?v=6pVYB6IaiFc\n",
      "22000\n",
      "https://www.youtube.com/watch?v=cHw4GER-MiE\n",
      "55000\n",
      "https://www.youtube.com/watch?v=_jBLyIQvNf0\n",
      "9.7\n"
     ]
    }
   ],
   "source": [
    "\"\"\"\n",
    "Here are some attributes of my favourite song\n",
    "\"\"\"\n",
    "\n",
    "Genre=\"Classical\"\n",
    "Title=\"Dies Irae\"\n",
    "Artist=\"Verdi\"\n",
    "Album=\"Requiem\"\n",
    "Duration=2*60+15   #in second\n",
    "#Likes of recordings, links provided\n",
    "Likes_1=1.8*1000\n",
    "link_1=\"https://www.youtube.com/watch?v=6pVYB6IaiFc\"\n",
    "Likes_2=22*1000\n",
    "link_2=\"https://www.youtube.com/watch?v=cHw4GER-MiE\"\n",
    "Likes_3=55*1000\n",
    "link_3=\"https://www.youtube.com/watch?v=_jBLyIQvNf0\"\n",
    "own_rating=9.7    #ratings out of 10, my own\n",
    "\n",
    "\n",
    "#show attributes, since its the favourite\n",
    "print(Genre)\n",
    "print(Title)\n",
    "print(Artist)\n",
    "print(Album)\n",
    "print(Duration)\n",
    "print(Likes_1)\n",
    "print(link_1)\n",
    "print(Likes_2)\n",
    "print(link_2)\n",
    "print(Likes_3)\n",
    "print(link_3)\n",
    "print(own_rating)"
   ]
  }
 ],
 "metadata": {
  "kernelspec": {
   "display_name": "Python 3",
   "language": "python",
   "name": "python3"
  },
  "language_info": {
   "codemirror_mode": {
    "name": "ipython",
    "version": 3
   },
   "file_extension": ".py",
   "mimetype": "text/x-python",
   "name": "python",
   "nbconvert_exporter": "python",
   "pygments_lexer": "ipython3",
   "version": "3.8.8"
  }
 },
 "nbformat": 4,
 "nbformat_minor": 5
}
