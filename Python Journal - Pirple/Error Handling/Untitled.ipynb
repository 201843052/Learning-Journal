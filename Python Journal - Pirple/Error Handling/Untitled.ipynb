{
 "cells": [
  {
   "cell_type": "code",
   "execution_count": null,
   "id": "25a5d170",
   "metadata": {},
   "outputs": [],
   "source": [
    "\"\"\"\n",
    "Details:\n",
    " \n",
    "Pick any library that come with Python (https://docs.python.org/3/library/) \n",
    "that we haven't covered in the course already.\n",
    "\n",
    "Learn how to use the library extensively, then prepare a code sample that \n",
    "showcases what you've learned. This can take any form you wish. You could \n",
    "create an application with the library, or just show examples of how to use its methods.\n",
    "\n",
    "\n",
    "Extra Credit:\n",
    "\n",
    "Share your knowledge with the community by writing a blog post instead \n",
    "of just uploading a code sample! You don't need to mention this class \n",
    "at all, just share what you've learned about that library. If you've \n",
    "been meaning to start a coding blog, now you have a reason to do it! \n",
    "If you take this route, just send us the link to the post instead of to your Github code,\n",
    "\"\"\""
   ]
  },
  {
   "cell_type": "code",
   "execution_count": 571,
   "id": "6b2ff656",
   "metadata": {},
   "outputs": [
    {
     "name": "stdout",
     "output_type": "stream",
     "text": [
      "Arithmetric mean: 42.50000001666667\n",
      "42.50000001666667\n",
      "Floating point arithmetic mean: 42.50000001666667\n",
      "Geometric Mean: 1.2125651132140738\n",
      "1.212565113214074\n",
      "Harmonic Mean: 5.999999751856059e-07\n",
      "5.999999751856058e-07\n",
      "Median: 44.5\n",
      "43.0000001\n",
      "Median_Low: 25\n",
      "Median_high: 64\n",
      "Median_grouped: 63.5\n"
     ]
    }
   ],
   "source": [
    "#Exploring Statistics library\n",
    "import statistics as st\n",
    "from random import choices\n",
    "#Artificial Data Sets\n",
    "# random.seed(123)\n",
    "x=choices(range(1,100),k=5)\n",
    "x.append(0.0000001)\n",
    "\n",
    "#Average\n",
    "print(\"Arithmetric mean:\",st.mean(x))\n",
    "#Underlying Logic\n",
    "def arith_mean(x):\n",
    "    print(sum(x)/len(x))\n",
    "arith_mean(x)\n",
    "\n",
    "print(\"Floating point arithmetic mean:\",st.fmean(x))\n",
    "\n",
    "           \n",
    "print(\"Geometric Mean:\",st.geometric_mean(x))\n",
    "#Underlying Logic\n",
    "def geom_mean(x):\n",
    "    y=1\n",
    "    for i in x:\n",
    "        y*=i\n",
    "    print(y**(1/len(x)))\n",
    "geom_mean(x)\n",
    "\n",
    "print(\"Harmonic Mean:\",st.harmonic_mean(x))\n",
    "#Underlying Logic\n",
    "def harm_mena(x):\n",
    "    y=0\n",
    "    for i in x:\n",
    "        y+=1/i\n",
    "    print(len(x)/y)\n",
    "harm_mena(x)\n",
    "\n",
    "#Median\n",
    "print(\"Median:\",st.median(x))\n",
    "def find_median(x):\n",
    "    true_median=min(x)+max(x)/2)\n",
    "    for i in x:\n",
    "        if \n",
    "find_median(x)\n",
    "print(\"Median_Low:\",st.median_low(x))\n",
    "print(\"Median_high:\",st.median_high(x))\n",
    "print(\"Median_grouped:\",st.median_grouped(x))"
   ]
  }
 ],
 "metadata": {
  "kernelspec": {
   "display_name": "Python 3",
   "language": "python",
   "name": "python3"
  },
  "language_info": {
   "codemirror_mode": {
    "name": "ipython",
    "version": 3
   },
   "file_extension": ".py",
   "mimetype": "text/x-python",
   "name": "python",
   "nbconvert_exporter": "python",
   "pygments_lexer": "ipython3",
   "version": "3.8.8"
  }
 },
 "nbformat": 4,
 "nbformat_minor": 5
}
