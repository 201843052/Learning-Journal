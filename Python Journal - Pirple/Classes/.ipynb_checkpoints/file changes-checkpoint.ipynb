{
 "cells": [
  {
   "cell_type": "code",
   "execution_count": null,
   "id": "962d949b",
   "metadata": {},
   "outputs": [],
   "source": [
    "\"\"\"\n",
    "Details:\n",
    " \n",
    "Create a note-taking program. When a user starts it up, it should prompt them for a filename.\n",
    "\n",
    "If they enter a file name that doesn't exist, it should prompt them to enter the text \n",
    "they want to write to the file. After they enter the text, it should save the file and exit.\n",
    "\n",
    "If they enter a file name that already exists, it should ask the user if they want:\n",
    "\n",
    "A) Read the file\n",
    "\n",
    "B) Delete the file and start over\n",
    "\n",
    "C) Append the file\n",
    "\n",
    "If the user wants to read the file it should simply show the contents of \n",
    "the file on the screen. If the user wants to start over then the file should \n",
    "be deleted and another empty one made in its place. If a user elects to append \n",
    "the file, then they should be able to enter more text, and that text should be added to the existing text in the file. \n",
    "\n",
    "\n",
    "\n",
    "Extra Credit:\n",
    "\n",
    "Allow the user to select a 4th option:\n",
    "\n",
    "D) Replace a single line\n",
    "\n",
    "If the user wants to replace a single line in the file, they will then need to be prompted for 2 bits of information:\n",
    "\n",
    "1) The line number they want to update.\n",
    "\n",
    "2) The text that should replace that line.\n",
    "\"\"\""
   ]
  },
  {
   "cell_type": "code",
   "execution_count": 3,
   "id": "4445b456",
   "metadata": {},
   "outputs": [
    {
     "name": "stdout",
     "output_type": "stream",
     "text": [
      "Please enter the filename: file1\n",
      "Looking for file file1...\n",
      "Found it!\n",
      "What would you like to do with the file?\n",
      "Possible actions are: read, delete, append, replace\n",
      "delete\n",
      "file1 have been deleted.\n"
     ]
    }
   ],
   "source": [
    "import os\n",
    "\n",
    "filename = input(\"Please enter the filename: \")\n",
    "# Here we check if the file exists\n",
    "if os.path.isfile(\"./\" + filename):\n",
    "    print(\"Looking for file {}...\".format(filename))\n",
    "    print(\"Found it!\")\n",
    "    action = input(\n",
    "        \"What would you like to do with the file?\\nPossible actions are: read, delete, append, replace\\n\")\n",
    "    if action == \"read\":\n",
    "        print(\"The content of the file:\")\n",
    "        with open(filename, \"r\") as read_file:\n",
    "            print(read_file.read())\n",
    "    elif action == \"append\":\n",
    "        text = input(\"Please enter your note: \")\n",
    "        with open(filename, \"a\") as append_file:\n",
    "            append_file.write(text + \"\\n\")\n",
    "    elif action == \"delete\":\n",
    "        os.remove(\"./\" + filename)\n",
    "        print(\"{} have been deleted.\".format(filename))\n",
    "        with open(filename, \"w\") as write_file:\n",
    "            write_file.write(\"\")\n",
    "    elif action == \"replace\":\n",
    "        line_num = int(\n",
    "            input(\"Please enter the line number for the replacement: \"))\n",
    "        text = input(\"Please enter your note: \")\n",
    "        with open(filename, \"r\") as read_file:\n",
    "            lines = read_file.readlines()\n",
    "        with open(filename, \"w\") as write_file:\n",
    "            for idx, line in enumerate(lines):\n",
    "                # print(idx, line)\n",
    "                if idx == line_num - 1:\n",
    "                    print(\"Line num {} needs to be replaced!\".format(line_num))\n",
    "                    write_file.write(text + \"\\n\")\n",
    "                else:\n",
    "                    print(\"Writing \\\"{}\\\"\".format(line))\n",
    "                    write_file.write(line)\n",
    "\n",
    "    else:\n",
    "        print(\"Sorry, unrecognized action 😢\")\n",
    "else:\n",
    "    print(\"Nope, this file does not exist, I'm going to create it for you! 😄\")\n",
    "    text = input(\"Please enter your note: \")\n",
    "    with open(filename, \"w\") as write_file:\n",
    "        write_file.write(text + \"\\n\")"
   ]
  }
 ],
 "metadata": {
  "kernelspec": {
   "display_name": "Python 3",
   "language": "python",
   "name": "python3"
  },
  "language_info": {
   "codemirror_mode": {
    "name": "ipython",
    "version": 3
   },
   "file_extension": ".py",
   "mimetype": "text/x-python",
   "name": "python",
   "nbconvert_exporter": "python",
   "pygments_lexer": "ipython3",
   "version": "3.8.8"
  }
 },
 "nbformat": 4,
 "nbformat_minor": 5
}
