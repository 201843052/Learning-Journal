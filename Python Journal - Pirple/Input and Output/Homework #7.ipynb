{
 "cells": [
  {
   "cell_type": "code",
   "execution_count": 2,
   "id": "f66f1f35",
   "metadata": {},
   "outputs": [
    {
     "name": "stdout",
     "output_type": "stream",
     "text": [
      "8\n",
      "{1: 4, '1': 4}\n"
     ]
    }
   ],
   "source": [
    "\"\"\"\n",
    "Details:\n",
    " \n",
    "Return to your first homework assignments, when you described your \n",
    "favorite song. Refactor that code so all the variables are held as \n",
    "dictionary keys and value. Then refactor your print statements so that \n",
    "it's a single loop that passes through each item in the dictionary and \n",
    "prints out it's key and then it's value.\n",
    "\n",
    "\n",
    "Extra Credit:\n",
    "\n",
    "Create a function that allows someone to guess the value of any key in the \n",
    "dictionary, and find out if they were right or wrong. This function should \n",
    "accept two parameters: Key and Value. If the key exists in the dictionary \n",
    "and that value is the correct value, then the function should return true. \n",
    "In all other cases, it should return false.\n",
    "\n",
    "\"\"\""
   ]
  },
  {
   "cell_type": "code",
   "execution_count": 18,
   "id": "eb256afa",
   "metadata": {},
   "outputs": [
    {
     "name": "stdout",
     "output_type": "stream",
     "text": [
      "Genre: Classical\n",
      "Title: Dies Irae\n",
      "Artist: Verdi\n",
      "Album: Requiem\n",
      "Duration: 135\n",
      "Likes_1: 1800.0\n",
      "link_1: https://www.youtube.com/watch?v=6pVYB6IaiFc\n",
      "Likes_2: 22000\n",
      "link_2: https://www.youtube.com/watch?v=cHw4GER-MiE\n",
      "Likes_3: 55000\n",
      "link_3: https://www.youtube.com/watch?v=_jBLyIQvNf0\n",
      "own_rating: 9.7\n"
     ]
    }
   ],
   "source": [
    "\"\"\"\n",
    "Here are some attributes of my favourite song\n",
    "\"\"\"\n",
    "\n",
    "song_dict={}\n",
    "song_dict[\"Genre\"]=\"Classical\"\n",
    "song_dict[\"Title\"]=\"Dies Irae\"\n",
    "song_dict[\"Artist\"]=\"Verdi\"\n",
    "song_dict[\"Album\"]=\"Requiem\"\n",
    "song_dict[\"Duration\"]=2*60+15   #in second\n",
    "#Likes of recordings, links provided\n",
    "song_dict[\"Likes_1\"]=1.8*1000\n",
    "song_dict[\"link_1\"]=\"https://www.youtube.com/watch?v=6pVYB6IaiFc\"\n",
    "song_dict[\"Likes_2\"]=22*1000\n",
    "song_dict[\"link_2\"]=\"https://www.youtube.com/watch?v=cHw4GER-MiE\"\n",
    "song_dict[\"Likes_3\"]=55*1000\n",
    "song_dict[\"link_3\"]=\"https://www.youtube.com/watch?v=_jBLyIQvNf0\"\n",
    "song_dict[\"own_rating\"]=9.7    #ratings out of 10, my ow\n",
    "\n",
    "for i in song_dict:\n",
    "    print(i,end=\": \")\n",
    "    print(song_dict[i])\n",
    "    \n",
    "def guessAttribute(Key,Value):\n",
    "    if Key in song_dict:\n",
    "        if song_dict[Key]==Value:\n",
    "            return True\n",
    "    else:\n",
    "        return False"
   ]
  },
  {
   "cell_type": "code",
   "execution_count": 20,
   "id": "294cfb07",
   "metadata": {},
   "outputs": [
    {
     "data": {
      "text/plain": [
       "True"
      ]
     },
     "execution_count": 20,
     "metadata": {},
     "output_type": "execute_result"
    }
   ],
   "source": [
    "guessAttribute(\"Genre\",\"Classical\")"
   ]
  }
 ],
 "metadata": {
  "kernelspec": {
   "display_name": "Python 3",
   "language": "python",
   "name": "python3"
  },
  "language_info": {
   "codemirror_mode": {
    "name": "ipython",
    "version": 3
   },
   "file_extension": ".py",
   "mimetype": "text/x-python",
   "name": "python",
   "nbconvert_exporter": "python",
   "pygments_lexer": "ipython3",
   "version": "3.8.8"
  }
 },
 "nbformat": 4,
 "nbformat_minor": 5
}
