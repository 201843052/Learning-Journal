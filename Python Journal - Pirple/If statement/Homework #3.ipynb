{
 "cells": [
  {
   "cell_type": "code",
   "execution_count": null,
   "id": "9eb16fc8",
   "metadata": {},
   "outputs": [],
   "source": [
    "\"\"\"\n",
    "Details:\n",
    " \n",
    "Create a function that accepts 3 parameters and checks for equality between any two of them.\n",
    "\n",
    "Your function should return True if 2 or more of the parameters are equal, and false is none of them are equal to any of the others.\n",
    "\n",
    "\n",
    "Extra Credit:\n",
    "\n",
    "Modify your function so that strings can be compared to integers if they are equivalent. For example, if the following values are passed to your function:\n",
    "\n",
    "6,5,\"5\"\n",
    "\n",
    "You should modify it so that it returns true instead of false.\n",
    "\n",
    "Hint: there's a built in Python function called \"int\" that will help you convert strings to Integers.\n",
    "\n",
    "\"\"\""
   ]
  },
  {
   "cell_type": "code",
   "execution_count": 21,
   "id": "4b5150c1",
   "metadata": {},
   "outputs": [
    {
     "data": {
      "text/plain": [
       "True"
      ]
     },
     "execution_count": 21,
     "metadata": {},
     "output_type": "execute_result"
    }
   ],
   "source": [
    "def equalFunc1(a,b,c):\n",
    "    if a==b:\n",
    "        return True\n",
    "    elif b==c:\n",
    "        return True\n",
    "    elif a==c:\n",
    "        return True\n",
    "    else:\n",
    "        return False\n",
    "\n",
    "def equalFunc2(a,b,c):\n",
    "    aInt,bInt,cInt=int(a),int(b),int(c)\n",
    "    if (aInt==bInt)or(bInt==cInt)or(aInt==cInt):\n",
    "        return True\n",
    "    else:\n",
    "        return False\n",
    "    \n",
    "equalFunc2(\"1\",1,\"2\")"
   ]
  }
 ],
 "metadata": {
  "kernelspec": {
   "display_name": "Python 3",
   "language": "python",
   "name": "python3"
  },
  "language_info": {
   "codemirror_mode": {
    "name": "ipython",
    "version": 3
   },
   "file_extension": ".py",
   "mimetype": "text/x-python",
   "name": "python",
   "nbconvert_exporter": "python",
   "pygments_lexer": "ipython3",
   "version": "3.8.8"
  }
 },
 "nbformat": 4,
 "nbformat_minor": 5
}
